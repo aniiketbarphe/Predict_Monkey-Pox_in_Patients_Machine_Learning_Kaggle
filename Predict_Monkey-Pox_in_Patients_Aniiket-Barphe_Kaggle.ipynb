{
 "cells": [
  {
   "cell_type": "markdown",
   "id": "ea766df5",
   "metadata": {
    "_uuid": "b3854c36b54da1331d0c551ce179f96a1f3ab0c0",
    "id": "bCDeVdJiMg9k"
   },
   "source": [
    "<div class=\"alert\" style=\"background-color:#fff; color:white; padding:0px 10px; border-radius:5px;\"><h1 style='margin:15px 15px; color:#006a79; font-size:40px'>Predict Monkey-Pox in Patients using Machine Learning</h1>\n",
    "</div>"
   ]
  },
  {
   "cell_type": "markdown",
   "id": "5df5bc00",
   "metadata": {},
   "source": [
    "Author:- Aniket B. Barphe\n",
    "    \n",
    "LinkedIn Profile:- https://www.linkedin.com/in/aniiketbarphe/\n",
    "        \n",
    "Platform:- Kaggle\n",
    "    \n",
    "Problem Statement:- Build a machine learning-based approach to predict the Monkey-Pox in Patients"
   ]
  },
  {
   "cell_type": "markdown",
   "id": "88cdf744",
   "metadata": {
    "id": "ftnBkO3QrYvS",
    "tags": []
   },
   "source": [
    "<div class=\"alert alert-info\" style=\"background-color:#006a79; color:white; padding:0px 10px; border-radius:5px;\"><h2 style='margin:10px 5px'>Setup Environment</h2>\n",
    "</div>\n",
    "\n",
    "- Import the libraries\n",
    "- Set the options for better visulization"
   ]
  },
  {
   "cell_type": "code",
   "execution_count": 227,
   "id": "05b8e837",
   "metadata": {},
   "outputs": [
    {
     "name": "stdout",
     "output_type": "stream",
     "text": [
      "CatBoost version 1.1\n",
      "NumPy version 1.21.5\n",
      "Pandas version 1.4.2\n",
      "seaborn version 0.11.2\n",
      "sklearn version 1.0.2\n",
      "xgboost version 1.6.2\n",
      "lightgbm version 3.3.3\n",
      "scikit-learn version 1.0.2\n"
     ]
    }
   ],
   "source": [
    "# Data manipulation\n",
    "import numpy as np\n",
    "import pandas as pd\n",
    "import os\n",
    "\n",
    "# Data Visualazation\n",
    "import seaborn as sns\n",
    "import matplotlib.pyplot as plt\n",
    "sns.set_theme()\n",
    "%matplotlib inline\n",
    "\n",
    "import warnings\n",
    "warnings.filterwarnings('ignore')\n",
    "\n",
    "# Machine learning\n",
    "from sklearn.linear_model import LogisticRegression, LogisticRegressionCV\n",
    "from sklearn.ensemble import RandomForestClassifier\n",
    "import lightgbm as lgb\n",
    "from lightgbm import LGBMModel,LGBMClassifier\n",
    "import catboost as cb\n",
    "from catboost import CatBoostClassifier\n",
    "from sklearn.neighbors import KNeighborsClassifier\n",
    "import xgboost as xgb\n",
    "from xgboost import XGBClassifier\n",
    "from sklearn.svm import LinearSVC\n",
    "from sklearn.linear_model import SGDClassifier\n",
    "from sklearn.calibration import CalibratedClassifierCV\n",
    "from sklearn.ensemble import VotingClassifier\n",
    "from sklearn.ensemble import AdaBoostClassifier\n",
    "from sklearn.neural_network import MLPClassifier\n",
    "from sklearn.ensemble import HistGradientBoostingClassifier\n",
    "from sklearn.ensemble import GradientBoostingClassifier\n",
    "from sklearn.tree import DecisionTreeClassifier\n",
    "\n",
    "# Model Evaluations\n",
    "import sklearn as sk\n",
    "from sklearn.metrics import classification_report,confusion_matrix\n",
    "from sklearn.pipeline import make_pipeline\n",
    "from sklearn.preprocessing import StandardScaler\n",
    "from sklearn.model_selection import train_test_split\n",
    "from sklearn.model_selection import RandomizedSearchCV\n",
    "from sklearn.model_selection import GridSearchCV\n",
    "from sklearn.model_selection import cross_val_score\n",
    "from sklearn.model_selection import RepeatedStratifiedKFold\n",
    "from sklearn.metrics import accuracy_score\n",
    "from sklearn.preprocessing import LabelEncoder\n",
    "\n",
    "# print module versions for reproducibility\n",
    "print('CatBoost version {}'.format(cb.__version__))\n",
    "print('NumPy version {}'.format(np.__version__))\n",
    "print('Pandas version {}'.format(pd.__version__))\n",
    "print('seaborn version {}'.format(sns.__version__))\n",
    "print('sklearn version {}'.format(sk.__version__))\n",
    "print('xgboost version {}'.format(xgb.__version__))\n",
    "print('lightgbm version {}'.format(lgb.__version__))\n",
    "print('scikit-learn version {}'.format(sk.__version__))"
   ]
  },
  {
   "cell_type": "markdown",
   "id": "991e7c7f",
   "metadata": {
    "id": "4AnpCMlGrYvl"
   },
   "source": [
    "<div class=\"alert alert-info\" style=\"background-color:#006a79; color:white; padding:0px 10px; border-radius:5px;\"><h2 style='margin:10px 5px'> Load Data</h2>\n",
    "</div>\n",
    "\n",
    "- Read & Load \"Original Data\" data in \"main_data\" Variable "
   ]
  },
  {
   "cell_type": "code",
   "execution_count": 228,
   "id": "a44a5ca3",
   "metadata": {},
   "outputs": [],
   "source": [
    "main_data = pd.read_csv (r'C:\\Users\\PC\\Pictures\\Kaggle\\Monkey-Pox\\DATA.csv')"
   ]
  },
  {
   "cell_type": "markdown",
   "id": "3de724ec",
   "metadata": {
    "id": "HWn4_TasrYvz"
   },
   "source": [
    "<div class=\"alert alert-info\" style=\"background-color:#006a79; color:white; padding:0px 10px; border-radius:5px;\"><h2 style='margin:10px 5px'>Data Overview</h2>\n",
    "</div>\n",
    "\n",
    "- Get the basic information of the data\n",
    "- Check Top 5 entries of the data\n",
    "- Check Bottom 5 entries of the data\n",
    "- Statistical Insight of data including Categorical Variable\n",
    "- Check Null Entries in data \n"
   ]
  },
  {
   "cell_type": "code",
   "execution_count": 229,
   "id": "aaae274b",
   "metadata": {},
   "outputs": [
    {
     "name": "stdout",
     "output_type": "stream",
     "text": [
      "Data Types of Data:-\n",
      "\n",
      "<class 'pandas.core.frame.DataFrame'>\n",
      "RangeIndex: 25000 entries, 0 to 24999\n",
      "Data columns (total 11 columns):\n",
      " #   Column                          Non-Null Count  Dtype \n",
      "---  ------                          --------------  ----- \n",
      " 0   Patient_ID                      25000 non-null  object\n",
      " 1   Systemic Illness                25000 non-null  object\n",
      " 2   Rectal Pain                     25000 non-null  bool  \n",
      " 3   Sore Throat                     25000 non-null  bool  \n",
      " 4   Penile Oedema                   25000 non-null  bool  \n",
      " 5   Oral Lesions                    25000 non-null  bool  \n",
      " 6   Solitary Lesion                 25000 non-null  bool  \n",
      " 7   Swollen Tonsils                 25000 non-null  bool  \n",
      " 8   HIV Infection                   25000 non-null  bool  \n",
      " 9   Sexually Transmitted Infection  25000 non-null  bool  \n",
      " 10  MonkeyPox                       25000 non-null  object\n",
      "dtypes: bool(8), object(3)\n",
      "memory usage: 781.4+ KB\n",
      "None \n",
      "\n",
      "---------------------------------------------------------------------------------------------------------------------\n",
      "Shape of Data:-\n",
      "\n",
      "(25000, 11) \n",
      "\n",
      "---------------------------------------------------------------------------------------------------------------------\n"
     ]
    }
   ],
   "source": [
    "print(\"Data Types of Data:-\\n\")\n",
    "print(main_data.info(),'\\n')\n",
    "print('-------------'*9)\n",
    "print(\"Shape of Data:-\\n\")\n",
    "print(main_data.shape,'\\n')\n",
    "print('-------------'*9)"
   ]
  },
  {
   "cell_type": "code",
   "execution_count": 230,
   "id": "da3e8140",
   "metadata": {},
   "outputs": [
    {
     "name": "stdout",
     "output_type": "stream",
     "text": [
      "About Data:-\n",
      "\n",
      "  Patient_ID     Systemic Illness  Rectal Pain  Sore Throat  Penile Oedema  \\\n",
      "0         P0                 None        False         True           True   \n",
      "1         P1                Fever         True        False           True   \n",
      "2         P2                Fever        False         True           True   \n",
      "3         P3                 None         True        False          False   \n",
      "4         P4  Swollen Lymph Nodes         True         True           True   \n",
      "\n",
      "   Oral Lesions  Solitary Lesion  Swollen Tonsils  HIV Infection  \\\n",
      "0          True            False             True          False   \n",
      "1          True            False            False           True   \n",
      "2         False            False            False           True   \n",
      "3         False             True             True           True   \n",
      "4         False            False             True           True   \n",
      "\n",
      "   Sexually Transmitted Infection MonkeyPox  \n",
      "0                           False  Negative  \n",
      "1                           False  Positive  \n",
      "2                           False  Positive  \n",
      "3                           False  Positive  \n",
      "4                           False  Positive   \n",
      "\n",
      "---------------------------------------------------------------------------------------------------------------------\n"
     ]
    }
   ],
   "source": [
    "print(\"About Data:-\\n\")\n",
    "print(main_data.head(),'\\n')\n",
    "print('-------------'*9)"
   ]
  },
  {
   "cell_type": "code",
   "execution_count": 231,
   "id": "239a5d41",
   "metadata": {},
   "outputs": [
    {
     "name": "stdout",
     "output_type": "stream",
     "text": [
      "About Data:-\n",
      "\n",
      "      Patient_ID     Systemic Illness  Rectal Pain  Sore Throat  \\\n",
      "24995     P24995                 None         True         True   \n",
      "24996     P24996                Fever        False         True   \n",
      "24997     P24997                 None         True         True   \n",
      "24998     P24998  Swollen Lymph Nodes        False         True   \n",
      "24999     P24999  Swollen Lymph Nodes        False        False   \n",
      "\n",
      "       Penile Oedema  Oral Lesions  Solitary Lesion  Swollen Tonsils  \\\n",
      "24995          False          True             True            False   \n",
      "24996           True         False             True             True   \n",
      "24997          False         False             True             True   \n",
      "24998          False          True             True             True   \n",
      "24999           True         False            False             True   \n",
      "\n",
      "       HIV Infection  Sexually Transmitted Infection MonkeyPox  \n",
      "24995          False                            True  Positive  \n",
      "24996           True                            True  Positive  \n",
      "24997          False                           False  Positive  \n",
      "24998          False                           False  Negative  \n",
      "24999           True                           False  Positive   \n",
      "\n",
      "---------------------------------------------------------------------------------------------------------------------\n"
     ]
    }
   ],
   "source": [
    "print(\"About Data:-\\n\")\n",
    "print(main_data.tail(),'\\n')\n",
    "print('-------------'*9)"
   ]
  },
  {
   "cell_type": "code",
   "execution_count": 232,
   "id": "53dcd4e3",
   "metadata": {},
   "outputs": [
    {
     "data": {
      "text/html": [
       "<div>\n",
       "<style scoped>\n",
       "    .dataframe tbody tr th:only-of-type {\n",
       "        vertical-align: middle;\n",
       "    }\n",
       "\n",
       "    .dataframe tbody tr th {\n",
       "        vertical-align: top;\n",
       "    }\n",
       "\n",
       "    .dataframe thead th {\n",
       "        text-align: right;\n",
       "    }\n",
       "</style>\n",
       "<table border=\"1\" class=\"dataframe\">\n",
       "  <thead>\n",
       "    <tr style=\"text-align: right;\">\n",
       "      <th></th>\n",
       "      <th>Patient_ID</th>\n",
       "      <th>Systemic Illness</th>\n",
       "      <th>Rectal Pain</th>\n",
       "      <th>Sore Throat</th>\n",
       "      <th>Penile Oedema</th>\n",
       "      <th>Oral Lesions</th>\n",
       "      <th>Solitary Lesion</th>\n",
       "      <th>Swollen Tonsils</th>\n",
       "      <th>HIV Infection</th>\n",
       "      <th>Sexually Transmitted Infection</th>\n",
       "      <th>MonkeyPox</th>\n",
       "    </tr>\n",
       "  </thead>\n",
       "  <tbody>\n",
       "    <tr>\n",
       "      <th>count</th>\n",
       "      <td>25000</td>\n",
       "      <td>25000</td>\n",
       "      <td>25000</td>\n",
       "      <td>25000</td>\n",
       "      <td>25000</td>\n",
       "      <td>25000</td>\n",
       "      <td>25000</td>\n",
       "      <td>25000</td>\n",
       "      <td>25000</td>\n",
       "      <td>25000</td>\n",
       "      <td>25000</td>\n",
       "    </tr>\n",
       "    <tr>\n",
       "      <th>unique</th>\n",
       "      <td>25000</td>\n",
       "      <td>4</td>\n",
       "      <td>2</td>\n",
       "      <td>2</td>\n",
       "      <td>2</td>\n",
       "      <td>2</td>\n",
       "      <td>2</td>\n",
       "      <td>2</td>\n",
       "      <td>2</td>\n",
       "      <td>2</td>\n",
       "      <td>2</td>\n",
       "    </tr>\n",
       "    <tr>\n",
       "      <th>top</th>\n",
       "      <td>P0</td>\n",
       "      <td>Fever</td>\n",
       "      <td>False</td>\n",
       "      <td>True</td>\n",
       "      <td>True</td>\n",
       "      <td>False</td>\n",
       "      <td>True</td>\n",
       "      <td>True</td>\n",
       "      <td>True</td>\n",
       "      <td>False</td>\n",
       "      <td>Positive</td>\n",
       "    </tr>\n",
       "    <tr>\n",
       "      <th>freq</th>\n",
       "      <td>1</td>\n",
       "      <td>6382</td>\n",
       "      <td>12655</td>\n",
       "      <td>12554</td>\n",
       "      <td>12612</td>\n",
       "      <td>12514</td>\n",
       "      <td>12527</td>\n",
       "      <td>12533</td>\n",
       "      <td>12584</td>\n",
       "      <td>12554</td>\n",
       "      <td>15909</td>\n",
       "    </tr>\n",
       "  </tbody>\n",
       "</table>\n",
       "</div>"
      ],
      "text/plain": [
       "       Patient_ID Systemic Illness Rectal Pain Sore Throat Penile Oedema  \\\n",
       "count       25000            25000       25000       25000         25000   \n",
       "unique      25000                4           2           2             2   \n",
       "top            P0            Fever       False        True          True   \n",
       "freq            1             6382       12655       12554         12612   \n",
       "\n",
       "       Oral Lesions Solitary Lesion Swollen Tonsils HIV Infection  \\\n",
       "count         25000           25000           25000         25000   \n",
       "unique            2               2               2             2   \n",
       "top           False            True            True          True   \n",
       "freq          12514           12527           12533         12584   \n",
       "\n",
       "       Sexually Transmitted Infection MonkeyPox  \n",
       "count                           25000     25000  \n",
       "unique                              2         2  \n",
       "top                             False  Positive  \n",
       "freq                            12554     15909  "
      ]
     },
     "execution_count": 232,
     "metadata": {},
     "output_type": "execute_result"
    }
   ],
   "source": [
    "main_data.describe(include='all')  \n",
    "# Below Line will provide Statistical Insight of data for Numerical Variable Only\n",
    "# main_data.describe()  "
   ]
  },
  {
   "cell_type": "code",
   "execution_count": 233,
   "id": "33ac19ec",
   "metadata": {},
   "outputs": [
    {
     "name": "stdout",
     "output_type": "stream",
     "text": [
      "Checking Null entries & their Percentage in Data:-\n",
      "\n",
      "\n"
     ]
    },
    {
     "data": {
      "text/html": [
       "<div>\n",
       "<style scoped>\n",
       "    .dataframe tbody tr th:only-of-type {\n",
       "        vertical-align: middle;\n",
       "    }\n",
       "\n",
       "    .dataframe tbody tr th {\n",
       "        vertical-align: top;\n",
       "    }\n",
       "\n",
       "    .dataframe thead th {\n",
       "        text-align: right;\n",
       "    }\n",
       "</style>\n",
       "<table border=\"1\" class=\"dataframe\">\n",
       "  <thead>\n",
       "    <tr style=\"text-align: right;\">\n",
       "      <th></th>\n",
       "      <th>Missing Values</th>\n",
       "      <th>Percentage Missing Values</th>\n",
       "    </tr>\n",
       "  </thead>\n",
       "  <tbody>\n",
       "    <tr>\n",
       "      <th>Patient_ID</th>\n",
       "      <td>0</td>\n",
       "      <td>0.0</td>\n",
       "    </tr>\n",
       "    <tr>\n",
       "      <th>Systemic Illness</th>\n",
       "      <td>0</td>\n",
       "      <td>0.0</td>\n",
       "    </tr>\n",
       "    <tr>\n",
       "      <th>Rectal Pain</th>\n",
       "      <td>0</td>\n",
       "      <td>0.0</td>\n",
       "    </tr>\n",
       "    <tr>\n",
       "      <th>Sore Throat</th>\n",
       "      <td>0</td>\n",
       "      <td>0.0</td>\n",
       "    </tr>\n",
       "    <tr>\n",
       "      <th>Penile Oedema</th>\n",
       "      <td>0</td>\n",
       "      <td>0.0</td>\n",
       "    </tr>\n",
       "    <tr>\n",
       "      <th>Oral Lesions</th>\n",
       "      <td>0</td>\n",
       "      <td>0.0</td>\n",
       "    </tr>\n",
       "    <tr>\n",
       "      <th>Solitary Lesion</th>\n",
       "      <td>0</td>\n",
       "      <td>0.0</td>\n",
       "    </tr>\n",
       "    <tr>\n",
       "      <th>Swollen Tonsils</th>\n",
       "      <td>0</td>\n",
       "      <td>0.0</td>\n",
       "    </tr>\n",
       "    <tr>\n",
       "      <th>HIV Infection</th>\n",
       "      <td>0</td>\n",
       "      <td>0.0</td>\n",
       "    </tr>\n",
       "    <tr>\n",
       "      <th>Sexually Transmitted Infection</th>\n",
       "      <td>0</td>\n",
       "      <td>0.0</td>\n",
       "    </tr>\n",
       "    <tr>\n",
       "      <th>MonkeyPox</th>\n",
       "      <td>0</td>\n",
       "      <td>0.0</td>\n",
       "    </tr>\n",
       "  </tbody>\n",
       "</table>\n",
       "</div>"
      ],
      "text/plain": [
       "                                Missing Values  Percentage Missing Values\n",
       "Patient_ID                                   0                        0.0\n",
       "Systemic Illness                             0                        0.0\n",
       "Rectal Pain                                  0                        0.0\n",
       "Sore Throat                                  0                        0.0\n",
       "Penile Oedema                                0                        0.0\n",
       "Oral Lesions                                 0                        0.0\n",
       "Solitary Lesion                              0                        0.0\n",
       "Swollen Tonsils                              0                        0.0\n",
       "HIV Infection                                0                        0.0\n",
       "Sexually Transmitted Infection               0                        0.0\n",
       "MonkeyPox                                    0                        0.0"
      ]
     },
     "execution_count": 233,
     "metadata": {},
     "output_type": "execute_result"
    }
   ],
   "source": [
    "print(\"Checking Null entries & their Percentage in Data:-\\n\\n\")\n",
    "missing_val_main_data=pd.DataFrame(zip(main_data.isnull().sum(),main_data.isnull().sum()*100/len(main_data)),columns=['Missing Values','Percentage Missing Values'],index=main_data.columns)\n",
    "missing_val_main_data"
   ]
  },
  {
   "cell_type": "markdown",
   "id": "64fbc2b9",
   "metadata": {
    "id": "HWn4_TasrYvz"
   },
   "source": [
    "<div class=\"alert alert-info\" style=\"background-color:#006a79; color:white; padding:0px 10px; border-radius:5px;\"><h2 style='margin:10px 5px'>Data Visualization</h2>\n",
    "</div>\n",
    "\n",
    "- Understand more about Data"
   ]
  },
  {
   "cell_type": "code",
   "execution_count": 234,
   "id": "ac1297a5",
   "metadata": {},
   "outputs": [
    {
     "data": {
      "image/png": "[encoded data removed]",
      "text/plain": [
       "<Figure size 432x288 with 1 Axes>"
      ]
     },
     "metadata": {},
     "output_type": "display_data"
    }
   ],
   "source": [
    "# Check the distribution of Target variable to see if it's a case of unbalanced class\n",
    "main_data.MonkeyPox.value_counts().plot.pie(autopct=\"%0.2f%%\");"
   ]
  },
  {
   "cell_type": "code",
   "execution_count": 235,
   "id": "fb2d961d",
   "metadata": {},
   "outputs": [
    {
     "name": "stdout",
     "output_type": "stream",
     "text": [
      "Positive    15909\n",
      "Negative     9091\n",
      "Name: MonkeyPox, dtype: int64\n"
     ]
    },
    {
     "data": {
      "image/png": "[encoded data removed]",
      "text/plain": [
       "<Figure size 1440x720 with 1 Axes>"
      ]
     },
     "metadata": {
      "needs_background": "light"
     },
     "output_type": "display_data"
    }
   ],
   "source": [
    "plt.figure(figsize=(20,10))\n",
    "sns.countplot(x=main_data[\"MonkeyPox\"], palette = 'afmhot');\n",
    "print(main_data[\"MonkeyPox\"].value_counts())"
   ]
  },
  {
   "cell_type": "code",
   "execution_count": 236,
   "id": "e11ffc5e",
   "metadata": {},
   "outputs": [
    {
     "data": {
      "image/png": "[encoded data removed]",
      "text/plain": [
       "<Figure size 1440x288 with 2 Axes>"
      ]
     },
     "metadata": {
      "needs_background": "light"
     },
     "output_type": "display_data"
    }
   ],
   "source": [
    "plt.figure(figsize=(20,4))\n",
    "plt.subplot(121)\n",
    "plt.title('Systemic Illness Vs MonkeyPox')\n",
    "sns.countplot(x='MonkeyPox',data=main_data,hue='Systemic Illness', palette = 'RdPu_r');\n",
    "plt.subplot(122)\n",
    "plt.title('Rectal Pain Vs MonkeyPox')\n",
    "sns.countplot(x='MonkeyPox',data=main_data,hue='Rectal Pain', palette = 'coolwarm');"
   ]
  },
  {
   "cell_type": "code",
   "execution_count": 237,
   "id": "8e972046",
   "metadata": {},
   "outputs": [
    {
     "data": {
      "image/png": "[encoded data removed]",
      "text/plain": [
       "<Figure size 1440x288 with 2 Axes>"
      ]
     },
     "metadata": {
      "needs_background": "light"
     },
     "output_type": "display_data"
    }
   ],
   "source": [
    "plt.figure(figsize=(20,4))\n",
    "plt.subplot(121)\n",
    "plt.title('Sore Throat Vs MonkeyPox')\n",
    "sns.countplot(x='MonkeyPox',data=main_data,hue='Sore Throat');\n",
    "plt.subplot(122)\n",
    "plt.title('Penile Oedema Vs MonkeyPox')\n",
    "sns.countplot(x='MonkeyPox',data=main_data,hue='Penile Oedema',  palette = 'cool');"
   ]
  },
  {
   "cell_type": "code",
   "execution_count": 238,
   "id": "715996f1",
   "metadata": {},
   "outputs": [
    {
     "data": {
      "image/png": "[encoded data removed]",
      "text/plain": [
       "<Figure size 1440x288 with 2 Axes>"
      ]
     },
     "metadata": {
      "needs_background": "light"
     },
     "output_type": "display_data"
    }
   ],
   "source": [
    "plt.figure(figsize=(20,4))\n",
    "plt.subplot(121)\n",
    "plt.title('Oral Lesions Vs MonkeyPox')\n",
    "sns.countplot(x='MonkeyPox',data=main_data,hue='Oral Lesions', palette = 'pink_r');\n",
    "plt.subplot(122)\n",
    "plt.title('Solitary Lesion Vs MonkeyPox')\n",
    "sns.countplot(x='MonkeyPox',data=main_data,hue='Solitary Lesion', palette = 'coolwarm');"
   ]
  },
  {
   "cell_type": "code",
   "execution_count": 239,
   "id": "4b55d0ae",
   "metadata": {},
   "outputs": [
    {
     "data": {
      "image/png": "[encoded data removed]",
      "text/plain": [
       "<Figure size 1440x288 with 2 Axes>"
      ]
     },
     "metadata": {
      "needs_background": "light"
     },
     "output_type": "display_data"
    }
   ],
   "source": [
    "plt.figure(figsize=(20,4))\n",
    "plt.subplot(121)\n",
    "plt.title('Swollen Tonsils Vs MonkeyPox')\n",
    "sns.countplot(x='MonkeyPox',data=main_data,hue='Swollen Tonsils', palette = 'viridis_r');\n",
    "plt.subplot(122)\n",
    "plt.title('HIV Infection Vs MonkeyPox')\n",
    "sns.countplot(x='MonkeyPox',data=main_data,hue='HIV Infection', palette = 'RdPu_r');"
   ]
  },
  {
   "cell_type": "code",
   "execution_count": 240,
   "id": "705c7063",
   "metadata": {},
   "outputs": [
    {
     "data": {
      "image/png": "[encoded data removed]",
      "text/plain": [
       "<Figure size 1440x720 with 1 Axes>"
      ]
     },
     "metadata": {
      "needs_background": "light"
     },
     "output_type": "display_data"
    }
   ],
   "source": [
    "plt.figure(figsize=(20,10))\n",
    "plt.title('Sexually Transmitted Infection Vs MonkeyPox')\n",
    "sns.countplot(x='MonkeyPox',data=main_data,hue='Sexually Transmitted Infection', palette = 'nipy_spectral');"
   ]
  },
  {
   "cell_type": "code",
   "execution_count": 241,
   "id": "8f2dfc3f",
   "metadata": {},
   "outputs": [
    {
     "data": {
      "image/png": "[encoded data removed]",
      "text/plain": [
       "<Figure size 720x648 with 2 Axes>"
      ]
     },
     "metadata": {
      "needs_background": "light"
     },
     "output_type": "display_data"
    }
   ],
   "source": [
    "fig , ax = plt.subplots(figsize=(10,9))\n",
    "sns.heatmap(main_data.corr(),annot = True,fmt='.2f',cmap='YlGnBu',linewidth=0.5);"
   ]
  },
  {
   "cell_type": "markdown",
   "id": "24668eaa",
   "metadata": {
    "id": "HWn4_TasrYvz"
   },
   "source": [
    "<div class=\"alert alert-info\" style=\"background-color:#006a79; color:white; padding:0px 10px; border-radius:5px;\"><h2 style='margin:10px 5px'>Preprocessing of DataSet</h2>\n",
    "</div>\n",
    "\n",
    "- Handling \"Systemic Illness\" Variable\n",
    "- Handling \"Rectal Pain\" Variable\n",
    "- Handling \"Sore Throat\" Variable\n",
    "- Handling \"Penile Oedema\" Variable\n",
    "- Handling \"Oral Lesions\" Variable\n",
    "- Handling \"Solitary Lesion\" Variable\n",
    "- Handling \"Swollen Tonsils\" Variable\n",
    "- Handling \"HIV Infection\" Variable\n",
    "- Handling \"Sexually Transmitted Infection\" Variable\n",
    "- Handling \"MonkeyPox\" Variable"
   ]
  },
  {
   "cell_type": "code",
   "execution_count": 242,
   "id": "d74a1e2f",
   "metadata": {},
   "outputs": [],
   "source": [
    "le=LabelEncoder()\n",
    "main_data['Systemic Illness'] = le.fit_transform(main_data['Systemic Illness'])\n",
    "main_data['Rectal Pain'] = le.fit_transform(main_data['Rectal Pain'])\n",
    "\n",
    "main_data['Sore Throat'] = le.fit_transform(main_data['Sore Throat'])\n",
    "main_data['Penile Oedema'] = le.fit_transform(main_data['Penile Oedema'])\n",
    "\n",
    "main_data['Oral Lesions'] = le.fit_transform(main_data['Oral Lesions'])\n",
    "main_data['Solitary Lesion'] = le.fit_transform(main_data['Solitary Lesion'])\n",
    "\n",
    "main_data['Swollen Tonsils'] = le.fit_transform(main_data['Swollen Tonsils'])\n",
    "main_data['HIV Infection'] = le.fit_transform(main_data['HIV Infection'])\n",
    "\n",
    "main_data['Sexually Transmitted Infection'] = le.fit_transform(main_data['Sexually Transmitted Infection'])\n",
    "main_data['MonkeyPox'] = le.fit_transform(main_data['MonkeyPox'])"
   ]
  },
  {
   "cell_type": "markdown",
   "id": "b2d77a1d",
   "metadata": {
    "id": "BE5ocV-GMg95"
   },
   "source": [
    "<div class=\"alert alert-info\" style=\"background-color:#006a79; color:white; padding:0px 10px; border-radius:5px;\"><h2 style='margin:10px 5px'>Drop Irrelevant Columns from DataSet</h2>\n",
    "</div>"
   ]
  },
  {
   "cell_type": "code",
   "execution_count": 243,
   "id": "8f8408bf",
   "metadata": {},
   "outputs": [],
   "source": [
    "main_data = main_data.drop(['Patient_ID'],axis=1)"
   ]
  },
  {
   "cell_type": "markdown",
   "id": "088d9139",
   "metadata": {
    "id": "BE5ocV-GMg95"
   },
   "source": [
    "<div class=\"alert alert-info\" style=\"background-color:#006a79; color:white; padding:0px 10px; border-radius:5px;\"><h2 style='margin:10px 5px'> Check Datatypes in DataSet</h2>\n",
    "</div>\n"
   ]
  },
  {
   "cell_type": "code",
   "execution_count": 244,
   "id": "85cc5fcc",
   "metadata": {},
   "outputs": [
    {
     "name": "stdout",
     "output_type": "stream",
     "text": [
      "<class 'pandas.core.frame.DataFrame'>\n",
      "RangeIndex: 25000 entries, 0 to 24999\n",
      "Data columns (total 10 columns):\n",
      " #   Column                          Non-Null Count  Dtype\n",
      "---  ------                          --------------  -----\n",
      " 0   Systemic Illness                25000 non-null  int32\n",
      " 1   Rectal Pain                     25000 non-null  int64\n",
      " 2   Sore Throat                     25000 non-null  int64\n",
      " 3   Penile Oedema                   25000 non-null  int64\n",
      " 4   Oral Lesions                    25000 non-null  int64\n",
      " 5   Solitary Lesion                 25000 non-null  int64\n",
      " 6   Swollen Tonsils                 25000 non-null  int64\n",
      " 7   HIV Infection                   25000 non-null  int64\n",
      " 8   Sexually Transmitted Infection  25000 non-null  int64\n",
      " 9   MonkeyPox                       25000 non-null  int32\n",
      "dtypes: int32(2), int64(8)\n",
      "memory usage: 1.7 MB\n"
     ]
    }
   ],
   "source": [
    "main_data.info()"
   ]
  },
  {
   "cell_type": "markdown",
   "id": "2ff87465",
   "metadata": {
    "id": "BE5ocV-GMg95"
   },
   "source": [
    "<div class=\"alert alert-info\" style=\"background-color:#006a79; color:white; padding:0px 10px; border-radius:5px;\"><h2 style='margin:10px 5px'>Data Preprocessing for Model Building</h2>\n",
    "</div>\n"
   ]
  },
  {
   "cell_type": "code",
   "execution_count": 245,
   "id": "351f05ce",
   "metadata": {},
   "outputs": [],
   "source": [
    "X = main_data.drop('MonkeyPox', axis='columns')\n",
    "y = main_data['MonkeyPox']\n",
    "\n",
    "X_train, X_test, y_train, y_test = train_test_split(X, y, test_size=0.2, stratify=y, random_state=42)"
   ]
  },
  {
   "cell_type": "markdown",
   "id": "83958ac2",
   "metadata": {
    "id": "L3q1zqbx-YLj"
   },
   "source": [
    "<div class=\"alert alert-info\" style=\"background-color:#006a79; color:white; padding:0px 10px; border-radius:5px;\"><h2 style='margin:10px 5px'>Building Model 1-  Logistic Regression</h2>\n",
    "</div>"
   ]
  },
  {
   "cell_type": "code",
   "execution_count": 246,
   "id": "abf4a126",
   "metadata": {},
   "outputs": [
    {
     "name": "stdout",
     "output_type": "stream",
     "text": [
      "Accuracy of Logistic Regression on training set: 0.66\n",
      "Accuracy of Logistic Regression on test set: 0.67\n",
      "---------------------------------------------------------------------------------------------------------------------\n",
      "Classification Report of the training data:\n",
      "\n",
      "               precision    recall  f1-score   support\n",
      "\n",
      "           0       0.60      0.26      0.36      1818\n",
      "           1       0.68      0.90      0.77      3182\n",
      "\n",
      "    accuracy                           0.67      5000\n",
      "   macro avg       0.64      0.58      0.57      5000\n",
      "weighted avg       0.65      0.67      0.62      5000\n",
      " \n",
      "\n",
      "---------------------------------------------------------------------------------------------------------------------\n",
      "Accuracy of Logistic Regression is equal 66.68 %.\n"
     ]
    }
   ],
   "source": [
    "model1 = LogisticRegression(random_state=42)\n",
    "model1.fit(X_train,y_train) \n",
    "print('Accuracy of Logistic Regression on training set: {:.2f}'\n",
    "     .format(model1.score(X_train, y_train)))\n",
    "\n",
    "print('Accuracy of Logistic Regression on test set: {:.2f}'\n",
    "     .format(model1.score(X_test, y_test)))\n",
    "print('-------------'*9)\n",
    "print('Classification Report of the training data:\\n\\n',classification_report(y_test,model1.predict(X_test)),'\\n')\n",
    "print('-------------'*9)\n",
    "y_pred = model1.predict(X_test)\n",
    "accuracy = accuracy_score(y_test, y_pred)*100\n",
    "print('Accuracy of Logistic Regression is equal ' + str(round(accuracy, 2)) + ' %.')"
   ]
  },
  {
   "cell_type": "markdown",
   "id": "376ed8db",
   "metadata": {},
   "source": [
    "#### * Hyper Parameter Tuning for Logistic Regression"
   ]
  },
  {
   "cell_type": "code",
   "execution_count": 125,
   "id": "8116f645",
   "metadata": {},
   "outputs": [
    {
     "name": "stdout",
     "output_type": "stream",
     "text": [
      "---------------------------------------------------------------------------------------------------------------------\n",
      "Best Parameters after Random Search:- \n",
      " {'solver': 'newton-cg', 'penalty': 'l2', 'C': 0.1}\n",
      "---------------------------------------------------------------------------------------------------------------------\n",
      "Best Score:- \n",
      " 0.6632\n"
     ]
    }
   ],
   "source": [
    "solvers = ['newton-cg', 'sag', 'lbfgs']\n",
    "penalty = ['l2','l1']\n",
    "C = [0.01, 0.1, 1.0, 10, 100]\n",
    "param = dict(solver=solvers, penalty=penalty, C=C)\n",
    "random_search = RandomizedSearchCV(estimator=model1, param_distributions=param, cv=5, scoring='accuracy')\n",
    "random_result = random_search.fit(X_train, y_train)\n",
    "print('-------------'*9)\n",
    "print(\"Best Parameters after Random Search:- \\n\",random_result.best_params_)\n",
    "print('-------------'*9)\n",
    "print(\"Best Score:- \\n\",random_result.best_score_)"
   ]
  },
  {
   "cell_type": "markdown",
   "id": "3d7b2e72",
   "metadata": {
    "id": "L3q1zqbx-YLj"
   },
   "source": [
    "<div class=\"alert alert-info\" style=\"background-color:#006a79; color:white; padding:0px 10px; border-radius:5px;\"><h2 style='margin:10px 5px'>Building Model 2- Fitting Logistic Regression Model with best Hyperparameters generated by Random Search</h2>\n",
    "</div>"
   ]
  },
  {
   "cell_type": "code",
   "execution_count": 247,
   "id": "cfc1e120",
   "metadata": {},
   "outputs": [
    {
     "name": "stdout",
     "output_type": "stream",
     "text": [
      "Accuracy of Logistic Regression on training set: 0.66\n",
      "Accuracy of Logistic Regression on test set: 0.67\n",
      "---------------------------------------------------------------------------------------------------------------------\n",
      "Classification Report of the training data:\n",
      "\n",
      "               precision    recall  f1-score   support\n",
      "\n",
      "           0       0.60      0.25      0.36      1818\n",
      "           1       0.68      0.90      0.78      3182\n",
      "\n",
      "    accuracy                           0.67      5000\n",
      "   macro avg       0.64      0.58      0.57      5000\n",
      "weighted avg       0.65      0.67      0.62      5000\n",
      " \n",
      "\n",
      "---------------------------------------------------------------------------------------------------------------------\n",
      "Accuracy of Logistic Regression is equal 66.72 %.\n"
     ]
    }
   ],
   "source": [
    "model2 = LogisticRegression(solver = 'newton-cg', penalty = 'l2', C = 0.1, random_state=42)\n",
    "model2.fit(X_train,y_train) \n",
    "print('Accuracy of Logistic Regression on training set: {:.2f}'\n",
    "     .format(model2.score(X_train, y_train)))\n",
    "\n",
    "print('Accuracy of Logistic Regression on test set: {:.2f}'\n",
    "     .format(model2.score(X_test, y_test)))\n",
    "print('-------------'*9)\n",
    "print('Classification Report of the training data:\\n\\n',classification_report(y_test,model2.predict(X_test)),'\\n')\n",
    "print('-------------'*9)\n",
    "y_pred = model2.predict(X_test)\n",
    "accuracy = accuracy_score(y_test, y_pred)*100\n",
    "print('Accuracy of Logistic Regression is equal ' + str(round(accuracy, 2)) + ' %.')"
   ]
  },
  {
   "cell_type": "markdown",
   "id": "95942fe6",
   "metadata": {
    "id": "L3q1zqbx-YLj"
   },
   "source": [
    "<div class=\"alert alert-info\" style=\"background-color:#006a79; color:white; padding:0px 10px; border-radius:5px;\"><h2 style='margin:10px 5px'>Building Model 3- Random Forest Classifier</h2>\n",
    "</div>"
   ]
  },
  {
   "cell_type": "code",
   "execution_count": 248,
   "id": "0c157fc7",
   "metadata": {},
   "outputs": [
    {
     "name": "stdout",
     "output_type": "stream",
     "text": [
      "Accuracy of Random Forest Classifier on training set: 0.71\n",
      "Accuracy of Random Forest Classifier on test set: 0.68\n",
      "---------------------------------------------------------------------------------------------------------------------\n",
      "Classification Report of the training data:\n",
      "\n",
      "               precision    recall  f1-score   support\n",
      "\n",
      "           0       0.60      0.33      0.43      1818\n",
      "           1       0.70      0.88      0.78      3182\n",
      "\n",
      "    accuracy                           0.68      5000\n",
      "   macro avg       0.65      0.60      0.60      5000\n",
      "weighted avg       0.66      0.68      0.65      5000\n",
      " \n",
      "\n",
      "---------------------------------------------------------------------------------------------------------------------\n",
      "Accuracy of Random Forest Classifier is equal 67.84 %.\n"
     ]
    }
   ],
   "source": [
    "model3 = RandomForestClassifier(random_state=0)\n",
    "model3.fit(X_train,y_train) \n",
    "print('Accuracy of Random Forest Classifier on training set: {:.2f}'\n",
    "     .format(model3.score(X_train, y_train)))\n",
    "\n",
    "print('Accuracy of Random Forest Classifier on test set: {:.2f}'\n",
    "     .format(model3.score(X_test, y_test)))\n",
    "print('-------------'*9)\n",
    "print('Classification Report of the training data:\\n\\n',classification_report(y_test,model3.predict(X_test)),'\\n')\n",
    "print('-------------'*9)\n",
    "y_pred = model3.predict(X_test)\n",
    "accuracy = accuracy_score(y_test, y_pred)*100\n",
    "print('Accuracy of Random Forest Classifier is equal ' + str(round(accuracy, 2)) + ' %.')"
   ]
  },
  {
   "cell_type": "markdown",
   "id": "44ce2e57",
   "metadata": {},
   "source": [
    "#### * Hyper Parameter Tuning for Random Forest Classifier"
   ]
  },
  {
   "cell_type": "code",
   "execution_count": 129,
   "id": "253a2f26",
   "metadata": {},
   "outputs": [
    {
     "name": "stdout",
     "output_type": "stream",
     "text": [
      "---------------------------------------------------------------------------------------------------------------------\n",
      "Best Parameters after Random Search:- \n",
      " {'n_estimators': 200, 'min_samples_split': 3, 'min_samples_leaf': 3, 'max_features': 'auto', 'max_depth': 8, 'bootstrap': False}\n",
      "---------------------------------------------------------------------------------------------------------------------\n",
      "Best Score:- \n",
      " 0.6911833333333335\n"
     ]
    }
   ],
   "source": [
    "n_estimators = [10, 50, 100, 200]\n",
    "max_depth = [4, 6, 8, 10]\n",
    "max_features =  ['sqrt', 'auto', 'log2']\n",
    "min_samples_split = [2, 3, 5, 10]\n",
    "min_samples_leaf = [3, 5, 10] \n",
    "bootstrap = [True, False]\n",
    "grid = dict(n_estimators=n_estimators, max_depth=max_depth, max_features=max_features\n",
    "            , min_samples_split = min_samples_split, min_samples_leaf=min_samples_leaf\n",
    "            , bootstrap=bootstrap)\n",
    "cv = RepeatedStratifiedKFold(n_splits=10, n_repeats=3, random_state=42)\n",
    "random_search = RandomizedSearchCV(estimator=model3, param_distributions=grid, n_jobs=-1, cv=cv, scoring='accuracy')\n",
    "random_result = random_search.fit(X_train,y_train)\n",
    "print('-------------'*9)\n",
    "print(\"Best Parameters after Random Search:- \\n\",random_result.best_params_)\n",
    "print('-------------'*9)\n",
    "print(\"Best Score:- \\n\",random_result.best_score_)"
   ]
  },
  {
   "cell_type": "markdown",
   "id": "8d0a96bc",
   "metadata": {
    "id": "L3q1zqbx-YLj"
   },
   "source": [
    "<div class=\"alert alert-info\" style=\"background-color:#006a79; color:white; padding:0px 10px; border-radius:5px;\"><h2 style='margin:10px 5px'>Building Model 4- Fitting Random Forest Classifier Model with best Hyperparameters generated by Random Search</h2>\n",
    "</div>"
   ]
  },
  {
   "cell_type": "code",
   "execution_count": 249,
   "id": "43812755",
   "metadata": {},
   "outputs": [
    {
     "name": "stdout",
     "output_type": "stream",
     "text": [
      "Accuracy of Random Forest Classifier on training set: 0.70\n",
      "Accuracy of Random Forest Classifier on test set: 0.69\n",
      "---------------------------------------------------------------------------------------------------------------------\n",
      "Classification Report of the training data:\n",
      "\n",
      "               precision    recall  f1-score   support\n",
      "\n",
      "           0       0.67      0.30      0.42      1818\n",
      "           1       0.70      0.91      0.79      3182\n",
      "\n",
      "    accuracy                           0.69      5000\n",
      "   macro avg       0.68      0.61      0.60      5000\n",
      "weighted avg       0.69      0.69      0.65      5000\n",
      " \n",
      "\n",
      "---------------------------------------------------------------------------------------------------------------------\n",
      "Accuracy of Random Forest Classifier is equal 69.14 %.\n"
     ]
    }
   ],
   "source": [
    "model4 = RandomForestClassifier(n_estimators = 200, min_samples_split = 3, min_samples_leaf = 3\n",
    "                                , max_features = 'auto', max_depth = 8, bootstrap = False,random_state=0)\n",
    "model4.fit(X_train,y_train) \n",
    "print('Accuracy of Random Forest Classifier on training set: {:.2f}'\n",
    "     .format(model4.score(X_train, y_train)))\n",
    "\n",
    "print('Accuracy of Random Forest Classifier on test set: {:.2f}'\n",
    "     .format(model4.score(X_test, y_test)))\n",
    "print('-------------'*9)\n",
    "print('Classification Report of the training data:\\n\\n',classification_report(y_test,model4.predict(X_test)),'\\n')\n",
    "print('-------------'*9)\n",
    "y_pred = model4.predict(X_test)\n",
    "accuracy = accuracy_score(y_test, y_pred)*100\n",
    "print('Accuracy of Random Forest Classifier is equal ' + str(round(accuracy, 2)) + ' %.')"
   ]
  },
  {
   "cell_type": "markdown",
   "id": "ade6ca6a",
   "metadata": {
    "id": "L3q1zqbx-YLj"
   },
   "source": [
    "<div class=\"alert alert-info\" style=\"background-color:#006a79; color:white; padding:0px 10px; border-radius:5px;\"><h2 style='margin:10px 5px'>Building Model 5- LGBM Classifier</h2>\n",
    "</div>"
   ]
  },
  {
   "cell_type": "code",
   "execution_count": 250,
   "id": "fc89582b",
   "metadata": {},
   "outputs": [
    {
     "name": "stdout",
     "output_type": "stream",
     "text": [
      "Accuracy of LGBM Classifier on training set: 0.70\n",
      "Accuracy of LGBM Classifier on test set: 0.69\n",
      "---------------------------------------------------------------------------------------------------------------------\n",
      "Classification Report of the training data:\n",
      "\n",
      "               precision    recall  f1-score   support\n",
      "\n",
      "           0       0.66      0.31      0.42      1818\n",
      "           1       0.70      0.91      0.79      3182\n",
      "\n",
      "    accuracy                           0.69      5000\n",
      "   macro avg       0.68      0.61      0.60      5000\n",
      "weighted avg       0.68      0.69      0.65      5000\n",
      " \n",
      "\n",
      "---------------------------------------------------------------------------------------------------------------------\n",
      "Accuracy of LGBM Classifier is equal 69.02 %.\n"
     ]
    }
   ],
   "source": [
    "model5 = LGBMClassifier(random_state=0)\n",
    "model5.fit(X_train,y_train) \n",
    "print('Accuracy of LGBM Classifier on training set: {:.2f}'\n",
    "     .format(model5.score(X_train, y_train)))\n",
    "\n",
    "print('Accuracy of LGBM Classifier on test set: {:.2f}'\n",
    "     .format(model5.score(X_test, y_test)))\n",
    "print('-------------'*9)\n",
    "print('Classification Report of the training data:\\n\\n',classification_report(y_test,model5.predict(X_test)),'\\n')\n",
    "print('-------------'*9)\n",
    "y_pred = model5.predict(X_test)\n",
    "accuracy = accuracy_score(y_test, y_pred)*100\n",
    "print('Accuracy of LGBM Classifier is equal ' + str(round(accuracy, 2)) + ' %.')"
   ]
  },
  {
   "cell_type": "markdown",
   "id": "1646408c",
   "metadata": {},
   "source": [
    "#### * Hyper Parameter Tuning for LGBM Classifier"
   ]
  },
  {
   "cell_type": "code",
   "execution_count": 132,
   "id": "a7aeacdd",
   "metadata": {},
   "outputs": [
    {
     "name": "stdout",
     "output_type": "stream",
     "text": [
      "---------------------------------------------------------------------------------------------------------------------\n",
      "Best Parameters after Random Search:- \n",
      " {'reg_alpha': 2, 'num_leaves': 50, 'n_estimators': 100, 'min_child_samples': 20, 'max_depth': 10, 'learning_rate': 0.07, 'colsample_bytree': 0.5, 'boosting_type': 'dart'}\n",
      "---------------------------------------------------------------------------------------------------------------------\n",
      "Best Score:- \n",
      " 0.6928333333333333\n"
     ]
    }
   ],
   "source": [
    "boosting_type = ['gbdt','dart','goss']\n",
    "num_leaves = [10, 20, 30, 40, 50]\n",
    "max_depth = [-1, 5, 10, 15, 20]\n",
    "learning_rate = [0.03, 0.07, 0.3]\n",
    "n_estimators = [100, 200, 300, 400, 500]\n",
    "min_child_samples = [20, 40]\n",
    "colsample_bytree = [0.5, 1]\n",
    "reg_alpha = [2]\n",
    "reg_lambda = [2]\n",
    "param = dict(boosting_type=boosting_type, num_leaves=num_leaves, max_depth=max_depth, learning_rate=learning_rate,\n",
    "            n_estimators=n_estimators, min_child_samples=min_child_samples, colsample_bytree=colsample_bytree,\n",
    "            reg_alpha=reg_alpha)\n",
    "cv = RepeatedStratifiedKFold(n_splits=10, n_repeats=3, random_state=42)\n",
    "lgbm_search = RandomizedSearchCV(estimator=model5, param_distributions=param, n_jobs=-1, cv=cv, scoring='accuracy')\n",
    "lgbm_result = lgbm_search.fit(X_train,y_train)\n",
    "print('-------------'*9)\n",
    "print(\"Best Parameters after Random Search:- \\n\",lgbm_result.best_params_)\n",
    "print('-------------'*9)\n",
    "print(\"Best Score:- \\n\",lgbm_result.best_score_)"
   ]
  },
  {
   "cell_type": "markdown",
   "id": "fc37ee51",
   "metadata": {
    "id": "L3q1zqbx-YLj"
   },
   "source": [
    "<div class=\"alert alert-info\" style=\"background-color:#006a79; color:white; padding:0px 10px; border-radius:5px;\"><h2 style='margin:10px 5px'>Building Model 6- Fitting LGBM Classifier Model with best Hyperparameters generated by Random Search</h2>\n",
    "</div>"
   ]
  },
  {
   "cell_type": "code",
   "execution_count": 251,
   "id": "a106f6fa",
   "metadata": {},
   "outputs": [
    {
     "name": "stdout",
     "output_type": "stream",
     "text": [
      "Accuracy of LGBM Classifier on training set: 0.70\n",
      "Accuracy of LGBM Classifier on test set: 0.69\n",
      "---------------------------------------------------------------------------------------------------------------------\n",
      "Classification Report of the training data:\n",
      "\n",
      "               precision    recall  f1-score   support\n",
      "\n",
      "           0       0.66      0.31      0.42      1818\n",
      "           1       0.70      0.91      0.79      3182\n",
      "\n",
      "    accuracy                           0.69      5000\n",
      "   macro avg       0.68      0.61      0.61      5000\n",
      "weighted avg       0.68      0.69      0.66      5000\n",
      " \n",
      "\n",
      "---------------------------------------------------------------------------------------------------------------------\n",
      "Accuracy of LGBM Classifier is equal 69.16 %.\n"
     ]
    }
   ],
   "source": [
    "model6 = LGBMClassifier(reg_alpha = 2, num_leaves = 50, n_estimators = 100\n",
    "                        , min_child_samples = 20, max_depth = 10, learning_rate = 0.07\n",
    "                        , colsample_bytree = 0.5, boosting_type = 'dart',random_state=0)\n",
    "model6.fit(X_train,y_train) \n",
    "print('Accuracy of LGBM Classifier on training set: {:.2f}'\n",
    "     .format(model6.score(X_train, y_train)))\n",
    "\n",
    "print('Accuracy of LGBM Classifier on test set: {:.2f}'\n",
    "     .format(model6.score(X_test, y_test)))\n",
    "print('-------------'*9)\n",
    "print('Classification Report of the training data:\\n\\n',classification_report(y_test,model6.predict(X_test)),'\\n')\n",
    "print('-------------'*9)\n",
    "y_pred = model6.predict(X_test)\n",
    "accuracy = accuracy_score(y_test, y_pred)*100\n",
    "print('Accuracy of LGBM Classifier is equal ' + str(round(accuracy, 2)) + ' %.')"
   ]
  },
  {
   "cell_type": "markdown",
   "id": "f240f9ff",
   "metadata": {
    "id": "L3q1zqbx-YLj"
   },
   "source": [
    "<div class=\"alert alert-info\" style=\"background-color:#006a79; color:white; padding:0px 10px; border-radius:5px;\"><h2 style='margin:10px 5px'>Building Model 7- CatBoost Classifier</h2>\n",
    "</div>"
   ]
  },
  {
   "cell_type": "code",
   "execution_count": 252,
   "id": "2513c265",
   "metadata": {},
   "outputs": [
    {
     "name": "stdout",
     "output_type": "stream",
     "text": [
      "Learning rate set to 0.037023\n",
      "0:\tlearn: 0.6856306\ttotal: 224ms\tremaining: 3m 44s\n",
      "1:\tlearn: 0.6786352\ttotal: 243ms\tremaining: 2m 1s\n",
      "2:\tlearn: 0.6730319\ttotal: 257ms\tremaining: 1m 25s\n",
      "3:\tlearn: 0.6672439\ttotal: 270ms\tremaining: 1m 7s\n",
      "4:\tlearn: 0.6617127\ttotal: 283ms\tremaining: 56.4s\n",
      "5:\tlearn: 0.6566160\ttotal: 298ms\tremaining: 49.3s\n",
      "6:\tlearn: 0.6520865\ttotal: 313ms\tremaining: 44.4s\n",
      "7:\tlearn: 0.6477525\ttotal: 326ms\tremaining: 40.4s\n",
      "8:\tlearn: 0.6436375\ttotal: 344ms\tremaining: 37.8s\n",
      "9:\tlearn: 0.6399484\ttotal: 361ms\tremaining: 35.7s\n",
      "10:\tlearn: 0.6370448\ttotal: 373ms\tremaining: 33.5s\n",
      "11:\tlearn: 0.6340120\ttotal: 386ms\tremaining: 31.8s\n",
      "12:\tlearn: 0.6309637\ttotal: 401ms\tremaining: 30.5s\n",
      "13:\tlearn: 0.6293364\ttotal: 413ms\tremaining: 29.1s\n",
      "14:\tlearn: 0.6266554\ttotal: 427ms\tremaining: 28s\n",
      "15:\tlearn: 0.6241799\ttotal: 440ms\tremaining: 27s\n",
      "16:\tlearn: 0.6218982\ttotal: 457ms\tremaining: 26.4s\n",
      "17:\tlearn: 0.6207198\ttotal: 467ms\tremaining: 25.5s\n",
      "18:\tlearn: 0.6187047\ttotal: 481ms\tremaining: 24.9s\n",
      "19:\tlearn: 0.6172503\ttotal: 494ms\tremaining: 24.2s\n",
      "20:\tlearn: 0.6154480\ttotal: 509ms\tremaining: 23.7s\n",
      "21:\tlearn: 0.6139308\ttotal: 524ms\tremaining: 23.3s\n",
      "22:\tlearn: 0.6125970\ttotal: 538ms\tremaining: 22.9s\n",
      "23:\tlearn: 0.6112260\ttotal: 553ms\tremaining: 22.5s\n",
      "24:\tlearn: 0.6102013\ttotal: 565ms\tremaining: 22.1s\n",
      "25:\tlearn: 0.6090972\ttotal: 580ms\tremaining: 21.7s\n",
      "26:\tlearn: 0.6081009\ttotal: 594ms\tremaining: 21.4s\n",
      "27:\tlearn: 0.6070122\ttotal: 609ms\tremaining: 21.2s\n",
      "28:\tlearn: 0.6059303\ttotal: 627ms\tremaining: 21s\n",
      "29:\tlearn: 0.6051009\ttotal: 639ms\tremaining: 20.7s\n",
      "30:\tlearn: 0.6041876\ttotal: 656ms\tremaining: 20.5s\n",
      "31:\tlearn: 0.6034510\ttotal: 672ms\tremaining: 20.3s\n",
      "32:\tlearn: 0.6026777\ttotal: 685ms\tremaining: 20.1s\n",
      "33:\tlearn: 0.6019110\ttotal: 701ms\tremaining: 19.9s\n",
      "34:\tlearn: 0.6013064\ttotal: 718ms\tremaining: 19.8s\n",
      "35:\tlearn: 0.6006588\ttotal: 736ms\tremaining: 19.7s\n",
      "36:\tlearn: 0.6001772\ttotal: 754ms\tremaining: 19.6s\n",
      "37:\tlearn: 0.5996712\ttotal: 771ms\tremaining: 19.5s\n",
      "38:\tlearn: 0.5990848\ttotal: 790ms\tremaining: 19.5s\n",
      "39:\tlearn: 0.5988482\ttotal: 801ms\tremaining: 19.2s\n",
      "40:\tlearn: 0.5983933\ttotal: 817ms\tremaining: 19.1s\n",
      "41:\tlearn: 0.5979563\ttotal: 830ms\tremaining: 18.9s\n",
      "42:\tlearn: 0.5974842\ttotal: 850ms\tremaining: 18.9s\n",
      "43:\tlearn: 0.5970356\ttotal: 870ms\tremaining: 18.9s\n",
      "44:\tlearn: 0.5966001\ttotal: 887ms\tremaining: 18.8s\n",
      "45:\tlearn: 0.5963902\ttotal: 897ms\tremaining: 18.6s\n",
      "46:\tlearn: 0.5959761\ttotal: 914ms\tremaining: 18.5s\n",
      "47:\tlearn: 0.5956346\ttotal: 932ms\tremaining: 18.5s\n",
      "48:\tlearn: 0.5952796\ttotal: 950ms\tremaining: 18.4s\n",
      "49:\tlearn: 0.5950737\ttotal: 964ms\tremaining: 18.3s\n",
      "50:\tlearn: 0.5948878\ttotal: 980ms\tremaining: 18.2s\n",
      "51:\tlearn: 0.5945702\ttotal: 996ms\tremaining: 18.2s\n",
      "52:\tlearn: 0.5943356\ttotal: 1.01s\tremaining: 18.1s\n",
      "53:\tlearn: 0.5940488\ttotal: 1.03s\tremaining: 18s\n",
      "54:\tlearn: 0.5939632\ttotal: 1.04s\tremaining: 17.9s\n",
      "55:\tlearn: 0.5937323\ttotal: 1.06s\tremaining: 17.8s\n",
      "56:\tlearn: 0.5934819\ttotal: 1.07s\tremaining: 17.8s\n",
      "57:\tlearn: 0.5932688\ttotal: 1.1s\tremaining: 17.9s\n",
      "58:\tlearn: 0.5929997\ttotal: 1.15s\tremaining: 18.4s\n",
      "59:\tlearn: 0.5927876\ttotal: 1.2s\tremaining: 18.8s\n",
      "60:\tlearn: 0.5926280\ttotal: 1.24s\tremaining: 19s\n",
      "61:\tlearn: 0.5923911\ttotal: 1.26s\tremaining: 19.1s\n",
      "62:\tlearn: 0.5921793\ttotal: 1.29s\tremaining: 19.2s\n",
      "63:\tlearn: 0.5919314\ttotal: 1.34s\tremaining: 19.6s\n",
      "64:\tlearn: 0.5917546\ttotal: 1.39s\tremaining: 19.9s\n",
      "65:\tlearn: 0.5917164\ttotal: 1.4s\tremaining: 19.9s\n",
      "66:\tlearn: 0.5915459\ttotal: 1.47s\tremaining: 20.4s\n",
      "67:\tlearn: 0.5913714\ttotal: 1.52s\tremaining: 20.9s\n",
      "68:\tlearn: 0.5911914\ttotal: 1.58s\tremaining: 21.3s\n",
      "69:\tlearn: 0.5910204\ttotal: 1.61s\tremaining: 21.4s\n",
      "70:\tlearn: 0.5909364\ttotal: 1.67s\tremaining: 21.8s\n",
      "71:\tlearn: 0.5907716\ttotal: 1.7s\tremaining: 21.9s\n",
      "72:\tlearn: 0.5906334\ttotal: 1.72s\tremaining: 21.8s\n",
      "73:\tlearn: 0.5905051\ttotal: 1.77s\tremaining: 22.1s\n",
      "74:\tlearn: 0.5904384\ttotal: 1.8s\tremaining: 22.2s\n",
      "75:\tlearn: 0.5903080\ttotal: 1.83s\tremaining: 22.3s\n",
      "76:\tlearn: 0.5901728\ttotal: 1.86s\tremaining: 22.3s\n",
      "77:\tlearn: 0.5900658\ttotal: 1.89s\tremaining: 22.4s\n",
      "78:\tlearn: 0.5899071\ttotal: 1.93s\tremaining: 22.5s\n",
      "79:\tlearn: 0.5897931\ttotal: 1.97s\tremaining: 22.6s\n",
      "80:\tlearn: 0.5896752\ttotal: 2s\tremaining: 22.7s\n",
      "81:\tlearn: 0.5895633\ttotal: 2.04s\tremaining: 22.9s\n",
      "82:\tlearn: 0.5894540\ttotal: 2.08s\tremaining: 22.9s\n",
      "83:\tlearn: 0.5893525\ttotal: 2.11s\tremaining: 23s\n",
      "84:\tlearn: 0.5892573\ttotal: 2.15s\tremaining: 23.1s\n",
      "85:\tlearn: 0.5891507\ttotal: 2.18s\tremaining: 23.2s\n",
      "86:\tlearn: 0.5890402\ttotal: 2.22s\tremaining: 23.3s\n",
      "87:\tlearn: 0.5889961\ttotal: 2.28s\tremaining: 23.6s\n",
      "88:\tlearn: 0.5888960\ttotal: 2.31s\tremaining: 23.6s\n",
      "89:\tlearn: 0.5888749\ttotal: 2.33s\tremaining: 23.6s\n",
      "90:\tlearn: 0.5887750\ttotal: 2.37s\tremaining: 23.7s\n",
      "91:\tlearn: 0.5886901\ttotal: 2.4s\tremaining: 23.7s\n",
      "92:\tlearn: 0.5886742\ttotal: 2.43s\tremaining: 23.7s\n",
      "93:\tlearn: 0.5886494\ttotal: 2.45s\tremaining: 23.7s\n",
      "94:\tlearn: 0.5885746\ttotal: 2.48s\tremaining: 23.7s\n",
      "95:\tlearn: 0.5884599\ttotal: 2.51s\tremaining: 23.7s\n",
      "96:\tlearn: 0.5883697\ttotal: 2.53s\tremaining: 23.5s\n",
      "97:\tlearn: 0.5882867\ttotal: 2.55s\tremaining: 23.5s\n",
      "98:\tlearn: 0.5882020\ttotal: 2.57s\tremaining: 23.4s\n",
      "99:\tlearn: 0.5881289\ttotal: 2.59s\tremaining: 23.3s\n",
      "100:\tlearn: 0.5880834\ttotal: 2.6s\tremaining: 23.1s\n",
      "101:\tlearn: 0.5880718\ttotal: 2.61s\tremaining: 23s\n",
      "102:\tlearn: 0.5879740\ttotal: 2.62s\tremaining: 22.8s\n",
      "103:\tlearn: 0.5879669\ttotal: 2.63s\tremaining: 22.7s\n",
      "104:\tlearn: 0.5878964\ttotal: 2.65s\tremaining: 22.6s\n",
      "105:\tlearn: 0.5878847\ttotal: 2.66s\tremaining: 22.4s\n",
      "106:\tlearn: 0.5878660\ttotal: 2.67s\tremaining: 22.3s\n",
      "107:\tlearn: 0.5878559\ttotal: 2.68s\tremaining: 22.1s\n",
      "108:\tlearn: 0.5877815\ttotal: 2.69s\tremaining: 22s\n",
      "109:\tlearn: 0.5877752\ttotal: 2.7s\tremaining: 21.8s\n",
      "110:\tlearn: 0.5877679\ttotal: 2.71s\tremaining: 21.7s\n",
      "111:\tlearn: 0.5877027\ttotal: 2.72s\tremaining: 21.6s\n",
      "112:\tlearn: 0.5876459\ttotal: 2.74s\tremaining: 21.5s\n",
      "113:\tlearn: 0.5875873\ttotal: 2.75s\tremaining: 21.4s\n",
      "114:\tlearn: 0.5875288\ttotal: 2.76s\tremaining: 21.3s\n",
      "115:\tlearn: 0.5874738\ttotal: 2.77s\tremaining: 21.1s\n",
      "116:\tlearn: 0.5874394\ttotal: 2.79s\tremaining: 21s\n",
      "117:\tlearn: 0.5873647\ttotal: 2.8s\tremaining: 20.9s\n",
      "118:\tlearn: 0.5872812\ttotal: 2.81s\tremaining: 20.8s\n",
      "119:\tlearn: 0.5872275\ttotal: 2.83s\tremaining: 20.7s\n",
      "120:\tlearn: 0.5871573\ttotal: 2.84s\tremaining: 20.6s\n",
      "121:\tlearn: 0.5871112\ttotal: 2.85s\tremaining: 20.5s\n",
      "122:\tlearn: 0.5871080\ttotal: 2.86s\tremaining: 20.4s\n",
      "123:\tlearn: 0.5870751\ttotal: 2.88s\tremaining: 20.3s\n",
      "124:\tlearn: 0.5870243\ttotal: 2.89s\tremaining: 20.2s\n",
      "125:\tlearn: 0.5869713\ttotal: 2.9s\tremaining: 20.1s\n",
      "126:\tlearn: 0.5869709\ttotal: 2.91s\tremaining: 20s\n",
      "127:\tlearn: 0.5869345\ttotal: 2.93s\tremaining: 19.9s\n",
      "128:\tlearn: 0.5868631\ttotal: 2.94s\tremaining: 19.9s\n",
      "129:\tlearn: 0.5868583\ttotal: 2.95s\tremaining: 19.8s\n",
      "130:\tlearn: 0.5868556\ttotal: 2.96s\tremaining: 19.6s\n",
      "131:\tlearn: 0.5868504\ttotal: 2.97s\tremaining: 19.5s\n",
      "132:\tlearn: 0.5868461\ttotal: 2.98s\tremaining: 19.4s\n",
      "133:\tlearn: 0.5867843\ttotal: 2.99s\tremaining: 19.3s\n",
      "134:\tlearn: 0.5867538\ttotal: 3s\tremaining: 19.3s\n",
      "135:\tlearn: 0.5867443\ttotal: 3.02s\tremaining: 19.2s\n",
      "136:\tlearn: 0.5866945\ttotal: 3.03s\tremaining: 19.1s\n",
      "137:\tlearn: 0.5866285\ttotal: 3.04s\tremaining: 19s\n",
      "138:\tlearn: 0.5865814\ttotal: 3.06s\tremaining: 18.9s\n",
      "139:\tlearn: 0.5865775\ttotal: 3.06s\tremaining: 18.8s\n",
      "140:\tlearn: 0.5865225\ttotal: 3.08s\tremaining: 18.8s\n",
      "141:\tlearn: 0.5864710\ttotal: 3.09s\tremaining: 18.7s\n",
      "142:\tlearn: 0.5864103\ttotal: 3.1s\tremaining: 18.6s\n",
      "143:\tlearn: 0.5864058\ttotal: 3.12s\tremaining: 18.5s\n",
      "144:\tlearn: 0.5864022\ttotal: 3.13s\tremaining: 18.4s\n",
      "145:\tlearn: 0.5863462\ttotal: 3.14s\tremaining: 18.4s\n",
      "146:\tlearn: 0.5863415\ttotal: 3.15s\tremaining: 18.3s\n",
      "147:\tlearn: 0.5862823\ttotal: 3.16s\tremaining: 18.2s\n",
      "148:\tlearn: 0.5862283\ttotal: 3.18s\tremaining: 18.1s\n",
      "149:\tlearn: 0.5861838\ttotal: 3.19s\tremaining: 18.1s\n",
      "150:\tlearn: 0.5861830\ttotal: 3.2s\tremaining: 18s\n",
      "151:\tlearn: 0.5861604\ttotal: 3.22s\tremaining: 17.9s\n",
      "152:\tlearn: 0.5861100\ttotal: 3.23s\tremaining: 17.9s\n",
      "153:\tlearn: 0.5860903\ttotal: 3.25s\tremaining: 17.9s\n",
      "154:\tlearn: 0.5860808\ttotal: 3.26s\tremaining: 17.8s\n",
      "155:\tlearn: 0.5860515\ttotal: 3.28s\tremaining: 17.7s\n",
      "156:\tlearn: 0.5860056\ttotal: 3.29s\tremaining: 17.7s\n",
      "157:\tlearn: 0.5859740\ttotal: 3.31s\tremaining: 17.6s\n",
      "158:\tlearn: 0.5859244\ttotal: 3.33s\tremaining: 17.6s\n",
      "159:\tlearn: 0.5859216\ttotal: 3.34s\tremaining: 17.6s\n",
      "160:\tlearn: 0.5859121\ttotal: 3.36s\tremaining: 17.5s\n",
      "161:\tlearn: 0.5859046\ttotal: 3.37s\tremaining: 17.4s\n",
      "162:\tlearn: 0.5858446\ttotal: 3.39s\tremaining: 17.4s\n",
      "163:\tlearn: 0.5857965\ttotal: 3.41s\tremaining: 17.4s\n",
      "164:\tlearn: 0.5857618\ttotal: 3.42s\tremaining: 17.3s\n"
     ]
    },
    {
     "name": "stdout",
     "output_type": "stream",
     "text": [
      "165:\tlearn: 0.5857378\ttotal: 3.44s\tremaining: 17.3s\n",
      "166:\tlearn: 0.5856942\ttotal: 3.46s\tremaining: 17.2s\n",
      "167:\tlearn: 0.5856916\ttotal: 3.46s\tremaining: 17.2s\n",
      "168:\tlearn: 0.5856915\ttotal: 3.47s\tremaining: 17.1s\n",
      "169:\tlearn: 0.5856915\ttotal: 3.49s\tremaining: 17s\n",
      "170:\tlearn: 0.5856636\ttotal: 3.5s\tremaining: 17s\n",
      "171:\tlearn: 0.5856636\ttotal: 3.52s\tremaining: 16.9s\n",
      "172:\tlearn: 0.5856135\ttotal: 3.54s\tremaining: 16.9s\n",
      "173:\tlearn: 0.5856131\ttotal: 3.55s\tremaining: 16.8s\n",
      "174:\tlearn: 0.5855793\ttotal: 3.57s\tremaining: 16.8s\n",
      "175:\tlearn: 0.5855136\ttotal: 3.58s\tremaining: 16.8s\n",
      "176:\tlearn: 0.5854689\ttotal: 3.6s\tremaining: 16.7s\n",
      "177:\tlearn: 0.5854396\ttotal: 3.62s\tremaining: 16.7s\n",
      "178:\tlearn: 0.5854381\ttotal: 3.63s\tremaining: 16.7s\n",
      "179:\tlearn: 0.5854378\ttotal: 3.64s\tremaining: 16.6s\n",
      "180:\tlearn: 0.5854106\ttotal: 3.66s\tremaining: 16.6s\n",
      "181:\tlearn: 0.5853773\ttotal: 3.68s\tremaining: 16.5s\n",
      "182:\tlearn: 0.5853768\ttotal: 3.69s\tremaining: 16.5s\n",
      "183:\tlearn: 0.5853362\ttotal: 3.71s\tremaining: 16.5s\n",
      "184:\tlearn: 0.5853353\ttotal: 3.72s\tremaining: 16.4s\n",
      "185:\tlearn: 0.5853337\ttotal: 3.73s\tremaining: 16.3s\n",
      "186:\tlearn: 0.5853323\ttotal: 3.75s\tremaining: 16.3s\n",
      "187:\tlearn: 0.5852553\ttotal: 3.76s\tremaining: 16.2s\n",
      "188:\tlearn: 0.5852200\ttotal: 3.77s\tremaining: 16.2s\n",
      "189:\tlearn: 0.5852200\ttotal: 3.78s\tremaining: 16.1s\n",
      "190:\tlearn: 0.5851857\ttotal: 3.79s\tremaining: 16.1s\n",
      "191:\tlearn: 0.5851714\ttotal: 3.81s\tremaining: 16s\n",
      "192:\tlearn: 0.5851707\ttotal: 3.82s\tremaining: 16s\n",
      "193:\tlearn: 0.5851709\ttotal: 3.83s\tremaining: 15.9s\n",
      "194:\tlearn: 0.5851325\ttotal: 3.84s\tremaining: 15.9s\n",
      "195:\tlearn: 0.5851291\ttotal: 3.85s\tremaining: 15.8s\n",
      "196:\tlearn: 0.5851017\ttotal: 3.87s\tremaining: 15.8s\n",
      "197:\tlearn: 0.5850562\ttotal: 3.88s\tremaining: 15.7s\n",
      "198:\tlearn: 0.5850156\ttotal: 3.9s\tremaining: 15.7s\n",
      "199:\tlearn: 0.5849748\ttotal: 3.91s\tremaining: 15.6s\n",
      "200:\tlearn: 0.5849619\ttotal: 3.92s\tremaining: 15.6s\n",
      "201:\tlearn: 0.5849620\ttotal: 3.93s\tremaining: 15.5s\n",
      "202:\tlearn: 0.5849450\ttotal: 3.95s\tremaining: 15.5s\n",
      "203:\tlearn: 0.5849433\ttotal: 3.96s\tremaining: 15.4s\n",
      "204:\tlearn: 0.5848904\ttotal: 3.97s\tremaining: 15.4s\n",
      "205:\tlearn: 0.5848746\ttotal: 3.98s\tremaining: 15.4s\n",
      "206:\tlearn: 0.5848741\ttotal: 4s\tremaining: 15.3s\n",
      "207:\tlearn: 0.5848743\ttotal: 4s\tremaining: 15.2s\n",
      "208:\tlearn: 0.5848429\ttotal: 4.02s\tremaining: 15.2s\n",
      "209:\tlearn: 0.5848164\ttotal: 4.03s\tremaining: 15.2s\n",
      "210:\tlearn: 0.5848164\ttotal: 4.03s\tremaining: 15.1s\n",
      "211:\tlearn: 0.5848161\ttotal: 4.04s\tremaining: 15s\n",
      "212:\tlearn: 0.5848162\ttotal: 4.05s\tremaining: 15s\n",
      "213:\tlearn: 0.5848144\ttotal: 4.06s\tremaining: 14.9s\n",
      "214:\tlearn: 0.5848141\ttotal: 4.07s\tremaining: 14.9s\n",
      "215:\tlearn: 0.5848136\ttotal: 4.08s\tremaining: 14.8s\n",
      "216:\tlearn: 0.5848105\ttotal: 4.09s\tremaining: 14.8s\n",
      "217:\tlearn: 0.5847748\ttotal: 4.1s\tremaining: 14.7s\n",
      "218:\tlearn: 0.5847336\ttotal: 4.12s\tremaining: 14.7s\n",
      "219:\tlearn: 0.5847062\ttotal: 4.13s\tremaining: 14.6s\n",
      "220:\tlearn: 0.5846658\ttotal: 4.14s\tremaining: 14.6s\n",
      "221:\tlearn: 0.5846368\ttotal: 4.16s\tremaining: 14.6s\n",
      "222:\tlearn: 0.5846080\ttotal: 4.17s\tremaining: 14.5s\n",
      "223:\tlearn: 0.5846077\ttotal: 4.18s\tremaining: 14.5s\n",
      "224:\tlearn: 0.5845646\ttotal: 4.19s\tremaining: 14.4s\n",
      "225:\tlearn: 0.5845642\ttotal: 4.21s\tremaining: 14.4s\n",
      "226:\tlearn: 0.5845000\ttotal: 4.22s\tremaining: 14.4s\n",
      "227:\tlearn: 0.5844988\ttotal: 4.23s\tremaining: 14.3s\n",
      "228:\tlearn: 0.5844989\ttotal: 4.24s\tremaining: 14.3s\n",
      "229:\tlearn: 0.5844980\ttotal: 4.26s\tremaining: 14.3s\n",
      "230:\tlearn: 0.5844802\ttotal: 4.27s\tremaining: 14.2s\n",
      "231:\tlearn: 0.5844388\ttotal: 4.29s\tremaining: 14.2s\n",
      "232:\tlearn: 0.5843999\ttotal: 4.31s\tremaining: 14.2s\n",
      "233:\tlearn: 0.5843639\ttotal: 4.32s\tremaining: 14.2s\n",
      "234:\tlearn: 0.5843633\ttotal: 4.34s\tremaining: 14.1s\n",
      "235:\tlearn: 0.5843381\ttotal: 4.35s\tremaining: 14.1s\n",
      "236:\tlearn: 0.5843032\ttotal: 4.37s\tremaining: 14.1s\n",
      "237:\tlearn: 0.5843027\ttotal: 4.38s\tremaining: 14s\n",
      "238:\tlearn: 0.5842744\ttotal: 4.4s\tremaining: 14s\n",
      "239:\tlearn: 0.5842741\ttotal: 4.41s\tremaining: 14s\n",
      "240:\tlearn: 0.5842541\ttotal: 4.42s\tremaining: 13.9s\n",
      "241:\tlearn: 0.5842535\ttotal: 4.44s\tremaining: 13.9s\n",
      "242:\tlearn: 0.5842246\ttotal: 4.46s\tremaining: 13.9s\n",
      "243:\tlearn: 0.5842065\ttotal: 4.47s\tremaining: 13.8s\n",
      "244:\tlearn: 0.5841789\ttotal: 4.48s\tremaining: 13.8s\n",
      "245:\tlearn: 0.5841538\ttotal: 4.5s\tremaining: 13.8s\n",
      "246:\tlearn: 0.5841395\ttotal: 4.51s\tremaining: 13.8s\n",
      "247:\tlearn: 0.5841269\ttotal: 4.53s\tremaining: 13.7s\n",
      "248:\tlearn: 0.5841198\ttotal: 4.54s\tremaining: 13.7s\n",
      "249:\tlearn: 0.5840825\ttotal: 4.56s\tremaining: 13.7s\n",
      "250:\tlearn: 0.5840477\ttotal: 4.57s\tremaining: 13.6s\n",
      "251:\tlearn: 0.5840263\ttotal: 4.58s\tremaining: 13.6s\n",
      "252:\tlearn: 0.5840261\ttotal: 4.59s\tremaining: 13.6s\n",
      "253:\tlearn: 0.5840256\ttotal: 4.6s\tremaining: 13.5s\n",
      "254:\tlearn: 0.5840129\ttotal: 4.62s\tremaining: 13.5s\n",
      "255:\tlearn: 0.5840126\ttotal: 4.63s\tremaining: 13.4s\n",
      "256:\tlearn: 0.5839588\ttotal: 4.64s\tremaining: 13.4s\n",
      "257:\tlearn: 0.5839362\ttotal: 4.66s\tremaining: 13.4s\n",
      "258:\tlearn: 0.5838924\ttotal: 4.67s\tremaining: 13.4s\n",
      "259:\tlearn: 0.5838841\ttotal: 4.68s\tremaining: 13.3s\n",
      "260:\tlearn: 0.5838479\ttotal: 4.7s\tremaining: 13.3s\n",
      "261:\tlearn: 0.5838478\ttotal: 4.71s\tremaining: 13.3s\n",
      "262:\tlearn: 0.5838192\ttotal: 4.72s\tremaining: 13.2s\n",
      "263:\tlearn: 0.5837999\ttotal: 4.73s\tremaining: 13.2s\n",
      "264:\tlearn: 0.5837640\ttotal: 4.74s\tremaining: 13.2s\n",
      "265:\tlearn: 0.5837444\ttotal: 4.76s\tremaining: 13.1s\n",
      "266:\tlearn: 0.5837444\ttotal: 4.77s\tremaining: 13.1s\n",
      "267:\tlearn: 0.5837324\ttotal: 4.78s\tremaining: 13.1s\n",
      "268:\tlearn: 0.5837099\ttotal: 4.79s\tremaining: 13s\n",
      "269:\tlearn: 0.5836865\ttotal: 4.82s\tremaining: 13s\n",
      "270:\tlearn: 0.5836529\ttotal: 4.83s\tremaining: 13s\n",
      "271:\tlearn: 0.5836198\ttotal: 4.85s\tremaining: 13s\n",
      "272:\tlearn: 0.5835897\ttotal: 4.87s\tremaining: 13s\n",
      "273:\tlearn: 0.5835687\ttotal: 4.89s\tremaining: 13s\n",
      "274:\tlearn: 0.5835494\ttotal: 4.91s\tremaining: 12.9s\n",
      "275:\tlearn: 0.5835495\ttotal: 4.92s\tremaining: 12.9s\n",
      "276:\tlearn: 0.5835190\ttotal: 4.93s\tremaining: 12.9s\n",
      "277:\tlearn: 0.5834898\ttotal: 4.95s\tremaining: 12.8s\n",
      "278:\tlearn: 0.5834572\ttotal: 4.96s\tremaining: 12.8s\n",
      "279:\tlearn: 0.5834571\ttotal: 4.97s\tremaining: 12.8s\n",
      "280:\tlearn: 0.5834303\ttotal: 4.99s\tremaining: 12.8s\n",
      "281:\tlearn: 0.5833867\ttotal: 5s\tremaining: 12.7s\n",
      "282:\tlearn: 0.5833485\ttotal: 5.03s\tremaining: 12.7s\n",
      "283:\tlearn: 0.5833266\ttotal: 5.06s\tremaining: 12.8s\n",
      "284:\tlearn: 0.5833007\ttotal: 5.08s\tremaining: 12.7s\n",
      "285:\tlearn: 0.5832781\ttotal: 5.1s\tremaining: 12.7s\n",
      "286:\tlearn: 0.5832433\ttotal: 5.12s\tremaining: 12.7s\n",
      "287:\tlearn: 0.5832171\ttotal: 5.13s\tremaining: 12.7s\n",
      "288:\tlearn: 0.5831948\ttotal: 5.14s\tremaining: 12.7s\n",
      "289:\tlearn: 0.5831631\ttotal: 5.16s\tremaining: 12.6s\n",
      "290:\tlearn: 0.5831333\ttotal: 5.17s\tremaining: 12.6s\n",
      "291:\tlearn: 0.5831247\ttotal: 5.18s\tremaining: 12.6s\n",
      "292:\tlearn: 0.5830979\ttotal: 5.2s\tremaining: 12.5s\n",
      "293:\tlearn: 0.5830681\ttotal: 5.21s\tremaining: 12.5s\n",
      "294:\tlearn: 0.5830329\ttotal: 5.22s\tremaining: 12.5s\n",
      "295:\tlearn: 0.5830330\ttotal: 5.23s\tremaining: 12.4s\n",
      "296:\tlearn: 0.5830069\ttotal: 5.25s\tremaining: 12.4s\n",
      "297:\tlearn: 0.5829888\ttotal: 5.26s\tremaining: 12.4s\n",
      "298:\tlearn: 0.5829702\ttotal: 5.28s\tremaining: 12.4s\n",
      "299:\tlearn: 0.5829347\ttotal: 5.29s\tremaining: 12.3s\n",
      "300:\tlearn: 0.5829151\ttotal: 5.3s\tremaining: 12.3s\n",
      "301:\tlearn: 0.5828852\ttotal: 5.32s\tremaining: 12.3s\n",
      "302:\tlearn: 0.5828550\ttotal: 5.33s\tremaining: 12.3s\n",
      "303:\tlearn: 0.5828305\ttotal: 5.34s\tremaining: 12.2s\n",
      "304:\tlearn: 0.5828036\ttotal: 5.36s\tremaining: 12.2s\n",
      "305:\tlearn: 0.5827704\ttotal: 5.37s\tremaining: 12.2s\n",
      "306:\tlearn: 0.5827397\ttotal: 5.38s\tremaining: 12.2s\n",
      "307:\tlearn: 0.5827236\ttotal: 5.39s\tremaining: 12.1s\n",
      "308:\tlearn: 0.5827016\ttotal: 5.41s\tremaining: 12.1s\n",
      "309:\tlearn: 0.5826833\ttotal: 5.42s\tremaining: 12.1s\n",
      "310:\tlearn: 0.5826490\ttotal: 5.43s\tremaining: 12s\n",
      "311:\tlearn: 0.5826300\ttotal: 5.45s\tremaining: 12s\n",
      "312:\tlearn: 0.5826007\ttotal: 5.46s\tremaining: 12s\n",
      "313:\tlearn: 0.5825676\ttotal: 5.48s\tremaining: 12s\n",
      "314:\tlearn: 0.5825382\ttotal: 5.49s\tremaining: 11.9s\n",
      "315:\tlearn: 0.5824953\ttotal: 5.5s\tremaining: 11.9s\n",
      "316:\tlearn: 0.5824490\ttotal: 5.52s\tremaining: 11.9s\n",
      "317:\tlearn: 0.5824181\ttotal: 5.53s\tremaining: 11.9s\n",
      "318:\tlearn: 0.5823852\ttotal: 5.55s\tremaining: 11.8s\n",
      "319:\tlearn: 0.5823587\ttotal: 5.56s\tremaining: 11.8s\n",
      "320:\tlearn: 0.5823391\ttotal: 5.57s\tremaining: 11.8s\n",
      "321:\tlearn: 0.5823127\ttotal: 5.59s\tremaining: 11.8s\n",
      "322:\tlearn: 0.5822759\ttotal: 5.6s\tremaining: 11.7s\n",
      "323:\tlearn: 0.5822596\ttotal: 5.61s\tremaining: 11.7s\n",
      "324:\tlearn: 0.5822275\ttotal: 5.62s\tremaining: 11.7s\n",
      "325:\tlearn: 0.5822020\ttotal: 5.64s\tremaining: 11.7s\n",
      "326:\tlearn: 0.5821782\ttotal: 5.65s\tremaining: 11.6s\n",
      "327:\tlearn: 0.5821487\ttotal: 5.66s\tremaining: 11.6s\n",
      "328:\tlearn: 0.5821149\ttotal: 5.68s\tremaining: 11.6s\n",
      "329:\tlearn: 0.5820944\ttotal: 5.69s\tremaining: 11.6s\n",
      "330:\tlearn: 0.5820687\ttotal: 5.7s\tremaining: 11.5s\n",
      "331:\tlearn: 0.5820458\ttotal: 5.71s\tremaining: 11.5s\n",
      "332:\tlearn: 0.5820257\ttotal: 5.73s\tremaining: 11.5s\n",
      "333:\tlearn: 0.5819981\ttotal: 5.74s\tremaining: 11.5s\n"
     ]
    },
    {
     "name": "stdout",
     "output_type": "stream",
     "text": [
      "334:\tlearn: 0.5819712\ttotal: 5.76s\tremaining: 11.4s\n",
      "335:\tlearn: 0.5819451\ttotal: 5.77s\tremaining: 11.4s\n",
      "336:\tlearn: 0.5819124\ttotal: 5.78s\tremaining: 11.4s\n",
      "337:\tlearn: 0.5818851\ttotal: 5.8s\tremaining: 11.4s\n",
      "338:\tlearn: 0.5818628\ttotal: 5.81s\tremaining: 11.3s\n",
      "339:\tlearn: 0.5818405\ttotal: 5.82s\tremaining: 11.3s\n",
      "340:\tlearn: 0.5818053\ttotal: 5.84s\tremaining: 11.3s\n",
      "341:\tlearn: 0.5817754\ttotal: 5.85s\tremaining: 11.3s\n",
      "342:\tlearn: 0.5817514\ttotal: 5.87s\tremaining: 11.2s\n",
      "343:\tlearn: 0.5817299\ttotal: 5.88s\tremaining: 11.2s\n",
      "344:\tlearn: 0.5817182\ttotal: 5.9s\tremaining: 11.2s\n",
      "345:\tlearn: 0.5816866\ttotal: 5.92s\tremaining: 11.2s\n",
      "346:\tlearn: 0.5816649\ttotal: 5.93s\tremaining: 11.2s\n",
      "347:\tlearn: 0.5816405\ttotal: 5.95s\tremaining: 11.1s\n",
      "348:\tlearn: 0.5816125\ttotal: 5.96s\tremaining: 11.1s\n",
      "349:\tlearn: 0.5815798\ttotal: 5.97s\tremaining: 11.1s\n",
      "350:\tlearn: 0.5815528\ttotal: 5.99s\tremaining: 11.1s\n",
      "351:\tlearn: 0.5815306\ttotal: 6.01s\tremaining: 11.1s\n",
      "352:\tlearn: 0.5815102\ttotal: 6.03s\tremaining: 11s\n",
      "353:\tlearn: 0.5814810\ttotal: 6.04s\tremaining: 11s\n",
      "354:\tlearn: 0.5814588\ttotal: 6.05s\tremaining: 11s\n",
      "355:\tlearn: 0.5814397\ttotal: 6.07s\tremaining: 11s\n",
      "356:\tlearn: 0.5814004\ttotal: 6.08s\tremaining: 10.9s\n",
      "357:\tlearn: 0.5813751\ttotal: 6.09s\tremaining: 10.9s\n",
      "358:\tlearn: 0.5813599\ttotal: 6.11s\tremaining: 10.9s\n",
      "359:\tlearn: 0.5813371\ttotal: 6.14s\tremaining: 10.9s\n",
      "360:\tlearn: 0.5813013\ttotal: 6.16s\tremaining: 10.9s\n",
      "361:\tlearn: 0.5812785\ttotal: 6.18s\tremaining: 10.9s\n",
      "362:\tlearn: 0.5812630\ttotal: 6.19s\tremaining: 10.9s\n",
      "363:\tlearn: 0.5812289\ttotal: 6.21s\tremaining: 10.8s\n",
      "364:\tlearn: 0.5812094\ttotal: 6.22s\tremaining: 10.8s\n",
      "365:\tlearn: 0.5811773\ttotal: 6.23s\tremaining: 10.8s\n",
      "366:\tlearn: 0.5811632\ttotal: 6.25s\tremaining: 10.8s\n",
      "367:\tlearn: 0.5811433\ttotal: 6.26s\tremaining: 10.7s\n",
      "368:\tlearn: 0.5811224\ttotal: 6.27s\tremaining: 10.7s\n",
      "369:\tlearn: 0.5810963\ttotal: 6.29s\tremaining: 10.7s\n",
      "370:\tlearn: 0.5810744\ttotal: 6.3s\tremaining: 10.7s\n",
      "371:\tlearn: 0.5810522\ttotal: 6.31s\tremaining: 10.7s\n",
      "372:\tlearn: 0.5810309\ttotal: 6.33s\tremaining: 10.6s\n",
      "373:\tlearn: 0.5810057\ttotal: 6.34s\tremaining: 10.6s\n",
      "374:\tlearn: 0.5809769\ttotal: 6.35s\tremaining: 10.6s\n",
      "375:\tlearn: 0.5809504\ttotal: 6.37s\tremaining: 10.6s\n",
      "376:\tlearn: 0.5809256\ttotal: 6.38s\tremaining: 10.5s\n",
      "377:\tlearn: 0.5809065\ttotal: 6.39s\tremaining: 10.5s\n",
      "378:\tlearn: 0.5808908\ttotal: 6.41s\tremaining: 10.5s\n",
      "379:\tlearn: 0.5808654\ttotal: 6.42s\tremaining: 10.5s\n",
      "380:\tlearn: 0.5808442\ttotal: 6.43s\tremaining: 10.5s\n",
      "381:\tlearn: 0.5808232\ttotal: 6.45s\tremaining: 10.4s\n",
      "382:\tlearn: 0.5808030\ttotal: 6.46s\tremaining: 10.4s\n",
      "383:\tlearn: 0.5807850\ttotal: 6.47s\tremaining: 10.4s\n",
      "384:\tlearn: 0.5807636\ttotal: 6.49s\tremaining: 10.4s\n",
      "385:\tlearn: 0.5807432\ttotal: 6.5s\tremaining: 10.3s\n",
      "386:\tlearn: 0.5807296\ttotal: 6.52s\tremaining: 10.3s\n",
      "387:\tlearn: 0.5807070\ttotal: 6.53s\tremaining: 10.3s\n",
      "388:\tlearn: 0.5806903\ttotal: 6.54s\tremaining: 10.3s\n",
      "389:\tlearn: 0.5806706\ttotal: 6.56s\tremaining: 10.3s\n",
      "390:\tlearn: 0.5806526\ttotal: 6.57s\tremaining: 10.2s\n",
      "391:\tlearn: 0.5806317\ttotal: 6.58s\tremaining: 10.2s\n",
      "392:\tlearn: 0.5806111\ttotal: 6.6s\tremaining: 10.2s\n",
      "393:\tlearn: 0.5805932\ttotal: 6.61s\tremaining: 10.2s\n",
      "394:\tlearn: 0.5805710\ttotal: 6.63s\tremaining: 10.2s\n",
      "395:\tlearn: 0.5805459\ttotal: 6.64s\tremaining: 10.1s\n",
      "396:\tlearn: 0.5805266\ttotal: 6.66s\tremaining: 10.1s\n",
      "397:\tlearn: 0.5805045\ttotal: 6.67s\tremaining: 10.1s\n",
      "398:\tlearn: 0.5804826\ttotal: 6.69s\tremaining: 10.1s\n",
      "399:\tlearn: 0.5804532\ttotal: 6.7s\tremaining: 10.1s\n",
      "400:\tlearn: 0.5804341\ttotal: 6.72s\tremaining: 10s\n",
      "401:\tlearn: 0.5804126\ttotal: 6.74s\tremaining: 10s\n",
      "402:\tlearn: 0.5803922\ttotal: 6.75s\tremaining: 10s\n",
      "403:\tlearn: 0.5803670\ttotal: 6.76s\tremaining: 9.98s\n",
      "404:\tlearn: 0.5803426\ttotal: 6.78s\tremaining: 9.96s\n",
      "405:\tlearn: 0.5803251\ttotal: 6.79s\tremaining: 9.94s\n",
      "406:\tlearn: 0.5803075\ttotal: 6.8s\tremaining: 9.91s\n",
      "407:\tlearn: 0.5802882\ttotal: 6.82s\tremaining: 9.9s\n",
      "408:\tlearn: 0.5802724\ttotal: 6.83s\tremaining: 9.88s\n",
      "409:\tlearn: 0.5802564\ttotal: 6.85s\tremaining: 9.86s\n",
      "410:\tlearn: 0.5802415\ttotal: 6.86s\tremaining: 9.83s\n",
      "411:\tlearn: 0.5802207\ttotal: 6.88s\tremaining: 9.81s\n",
      "412:\tlearn: 0.5801942\ttotal: 6.89s\tremaining: 9.79s\n",
      "413:\tlearn: 0.5801815\ttotal: 6.9s\tremaining: 9.77s\n",
      "414:\tlearn: 0.5801624\ttotal: 6.92s\tremaining: 9.75s\n",
      "415:\tlearn: 0.5801424\ttotal: 6.93s\tremaining: 9.73s\n",
      "416:\tlearn: 0.5801247\ttotal: 6.94s\tremaining: 9.7s\n",
      "417:\tlearn: 0.5801089\ttotal: 6.96s\tremaining: 9.68s\n",
      "418:\tlearn: 0.5800952\ttotal: 6.97s\tremaining: 9.66s\n",
      "419:\tlearn: 0.5800792\ttotal: 6.98s\tremaining: 9.64s\n",
      "420:\tlearn: 0.5800627\ttotal: 7s\tremaining: 9.62s\n",
      "421:\tlearn: 0.5800407\ttotal: 7.01s\tremaining: 9.6s\n",
      "422:\tlearn: 0.5800193\ttotal: 7.03s\tremaining: 9.58s\n",
      "423:\tlearn: 0.5800021\ttotal: 7.04s\tremaining: 9.56s\n",
      "424:\tlearn: 0.5799850\ttotal: 7.05s\tremaining: 9.54s\n",
      "425:\tlearn: 0.5799657\ttotal: 7.07s\tremaining: 9.53s\n",
      "426:\tlearn: 0.5799487\ttotal: 7.08s\tremaining: 9.51s\n",
      "427:\tlearn: 0.5799343\ttotal: 7.1s\tremaining: 9.48s\n",
      "428:\tlearn: 0.5799158\ttotal: 7.11s\tremaining: 9.46s\n",
      "429:\tlearn: 0.5798995\ttotal: 7.13s\tremaining: 9.45s\n",
      "430:\tlearn: 0.5798874\ttotal: 7.14s\tremaining: 9.42s\n",
      "431:\tlearn: 0.5798770\ttotal: 7.15s\tremaining: 9.4s\n",
      "432:\tlearn: 0.5798521\ttotal: 7.17s\tremaining: 9.38s\n",
      "433:\tlearn: 0.5798349\ttotal: 7.18s\tremaining: 9.37s\n",
      "434:\tlearn: 0.5798195\ttotal: 7.2s\tremaining: 9.35s\n",
      "435:\tlearn: 0.5798053\ttotal: 7.21s\tremaining: 9.33s\n",
      "436:\tlearn: 0.5797840\ttotal: 7.23s\tremaining: 9.31s\n",
      "437:\tlearn: 0.5797698\ttotal: 7.24s\tremaining: 9.29s\n",
      "438:\tlearn: 0.5797518\ttotal: 7.25s\tremaining: 9.27s\n",
      "439:\tlearn: 0.5797340\ttotal: 7.27s\tremaining: 9.25s\n",
      "440:\tlearn: 0.5797189\ttotal: 7.28s\tremaining: 9.23s\n",
      "441:\tlearn: 0.5796972\ttotal: 7.3s\tremaining: 9.21s\n",
      "442:\tlearn: 0.5796836\ttotal: 7.31s\tremaining: 9.19s\n",
      "443:\tlearn: 0.5796654\ttotal: 7.33s\tremaining: 9.17s\n",
      "444:\tlearn: 0.5796467\ttotal: 7.34s\tremaining: 9.15s\n",
      "445:\tlearn: 0.5796311\ttotal: 7.35s\tremaining: 9.13s\n",
      "446:\tlearn: 0.5796132\ttotal: 7.36s\tremaining: 9.11s\n",
      "447:\tlearn: 0.5795981\ttotal: 7.38s\tremaining: 9.09s\n",
      "448:\tlearn: 0.5795827\ttotal: 7.39s\tremaining: 9.07s\n",
      "449:\tlearn: 0.5795679\ttotal: 7.4s\tremaining: 9.05s\n",
      "450:\tlearn: 0.5795543\ttotal: 7.42s\tremaining: 9.03s\n",
      "451:\tlearn: 0.5795393\ttotal: 7.43s\tremaining: 9.01s\n",
      "452:\tlearn: 0.5795202\ttotal: 7.45s\tremaining: 8.99s\n",
      "453:\tlearn: 0.5795054\ttotal: 7.46s\tremaining: 8.97s\n",
      "454:\tlearn: 0.5794848\ttotal: 7.47s\tremaining: 8.95s\n",
      "455:\tlearn: 0.5794718\ttotal: 7.49s\tremaining: 8.93s\n",
      "456:\tlearn: 0.5794565\ttotal: 7.5s\tremaining: 8.91s\n",
      "457:\tlearn: 0.5794382\ttotal: 7.51s\tremaining: 8.89s\n",
      "458:\tlearn: 0.5794240\ttotal: 7.53s\tremaining: 8.87s\n",
      "459:\tlearn: 0.5794107\ttotal: 7.54s\tremaining: 8.85s\n",
      "460:\tlearn: 0.5793892\ttotal: 7.56s\tremaining: 8.83s\n",
      "461:\tlearn: 0.5793726\ttotal: 7.57s\tremaining: 8.82s\n",
      "462:\tlearn: 0.5793526\ttotal: 7.58s\tremaining: 8.8s\n",
      "463:\tlearn: 0.5793349\ttotal: 7.6s\tremaining: 8.78s\n",
      "464:\tlearn: 0.5793176\ttotal: 7.61s\tremaining: 8.76s\n",
      "465:\tlearn: 0.5793051\ttotal: 7.63s\tremaining: 8.74s\n",
      "466:\tlearn: 0.5792911\ttotal: 7.64s\tremaining: 8.72s\n",
      "467:\tlearn: 0.5792802\ttotal: 7.65s\tremaining: 8.7s\n",
      "468:\tlearn: 0.5792545\ttotal: 7.67s\tremaining: 8.68s\n",
      "469:\tlearn: 0.5792360\ttotal: 7.68s\tremaining: 8.66s\n",
      "470:\tlearn: 0.5792192\ttotal: 7.7s\tremaining: 8.64s\n",
      "471:\tlearn: 0.5792043\ttotal: 7.71s\tremaining: 8.63s\n",
      "472:\tlearn: 0.5791931\ttotal: 7.72s\tremaining: 8.61s\n",
      "473:\tlearn: 0.5791821\ttotal: 7.74s\tremaining: 8.59s\n",
      "474:\tlearn: 0.5791629\ttotal: 7.75s\tremaining: 8.57s\n",
      "475:\tlearn: 0.5791468\ttotal: 7.77s\tremaining: 8.55s\n",
      "476:\tlearn: 0.5791396\ttotal: 7.79s\tremaining: 8.54s\n",
      "477:\tlearn: 0.5791241\ttotal: 7.81s\tremaining: 8.53s\n",
      "478:\tlearn: 0.5791133\ttotal: 7.83s\tremaining: 8.51s\n",
      "479:\tlearn: 0.5790954\ttotal: 7.84s\tremaining: 8.5s\n",
      "480:\tlearn: 0.5790795\ttotal: 7.86s\tremaining: 8.48s\n",
      "481:\tlearn: 0.5790638\ttotal: 7.88s\tremaining: 8.46s\n",
      "482:\tlearn: 0.5790415\ttotal: 7.89s\tremaining: 8.45s\n",
      "483:\tlearn: 0.5790214\ttotal: 7.91s\tremaining: 8.43s\n",
      "484:\tlearn: 0.5790011\ttotal: 7.92s\tremaining: 8.41s\n",
      "485:\tlearn: 0.5789903\ttotal: 7.94s\tremaining: 8.4s\n",
      "486:\tlearn: 0.5789753\ttotal: 7.95s\tremaining: 8.38s\n",
      "487:\tlearn: 0.5789610\ttotal: 7.97s\tremaining: 8.36s\n",
      "488:\tlearn: 0.5789466\ttotal: 7.98s\tremaining: 8.34s\n",
      "489:\tlearn: 0.5789321\ttotal: 7.99s\tremaining: 8.32s\n",
      "490:\tlearn: 0.5789154\ttotal: 8.01s\tremaining: 8.3s\n",
      "491:\tlearn: 0.5788969\ttotal: 8.02s\tremaining: 8.28s\n",
      "492:\tlearn: 0.5788858\ttotal: 8.04s\tremaining: 8.26s\n",
      "493:\tlearn: 0.5788676\ttotal: 8.05s\tremaining: 8.24s\n",
      "494:\tlearn: 0.5788560\ttotal: 8.06s\tremaining: 8.23s\n",
      "495:\tlearn: 0.5788474\ttotal: 8.08s\tremaining: 8.21s\n",
      "496:\tlearn: 0.5788374\ttotal: 8.09s\tremaining: 8.19s\n"
     ]
    },
    {
     "name": "stdout",
     "output_type": "stream",
     "text": [
      "497:\tlearn: 0.5788251\ttotal: 8.11s\tremaining: 8.17s\n",
      "498:\tlearn: 0.5788145\ttotal: 8.12s\tremaining: 8.15s\n",
      "499:\tlearn: 0.5787946\ttotal: 8.13s\tremaining: 8.13s\n",
      "500:\tlearn: 0.5787792\ttotal: 8.14s\tremaining: 8.11s\n",
      "501:\tlearn: 0.5787662\ttotal: 8.16s\tremaining: 8.09s\n",
      "502:\tlearn: 0.5787512\ttotal: 8.17s\tremaining: 8.07s\n",
      "503:\tlearn: 0.5787386\ttotal: 8.18s\tremaining: 8.05s\n",
      "504:\tlearn: 0.5787259\ttotal: 8.2s\tremaining: 8.04s\n",
      "505:\tlearn: 0.5787141\ttotal: 8.21s\tremaining: 8.02s\n",
      "506:\tlearn: 0.5787012\ttotal: 8.22s\tremaining: 8s\n",
      "507:\tlearn: 0.5786881\ttotal: 8.24s\tremaining: 7.98s\n",
      "508:\tlearn: 0.5786757\ttotal: 8.25s\tremaining: 7.96s\n",
      "509:\tlearn: 0.5786653\ttotal: 8.27s\tremaining: 7.94s\n",
      "510:\tlearn: 0.5786563\ttotal: 8.28s\tremaining: 7.92s\n",
      "511:\tlearn: 0.5786448\ttotal: 8.29s\tremaining: 7.9s\n",
      "512:\tlearn: 0.5786328\ttotal: 8.31s\tremaining: 7.88s\n",
      "513:\tlearn: 0.5786159\ttotal: 8.32s\tremaining: 7.87s\n",
      "514:\tlearn: 0.5785979\ttotal: 8.33s\tremaining: 7.85s\n",
      "515:\tlearn: 0.5785873\ttotal: 8.35s\tremaining: 7.83s\n",
      "516:\tlearn: 0.5785737\ttotal: 8.36s\tremaining: 7.81s\n",
      "517:\tlearn: 0.5785565\ttotal: 8.38s\tremaining: 7.79s\n",
      "518:\tlearn: 0.5785430\ttotal: 8.39s\tremaining: 7.77s\n",
      "519:\tlearn: 0.5785282\ttotal: 8.4s\tremaining: 7.76s\n",
      "520:\tlearn: 0.5785189\ttotal: 8.41s\tremaining: 7.74s\n",
      "521:\tlearn: 0.5785069\ttotal: 8.43s\tremaining: 7.72s\n",
      "522:\tlearn: 0.5784938\ttotal: 8.44s\tremaining: 7.7s\n",
      "523:\tlearn: 0.5784769\ttotal: 8.46s\tremaining: 7.68s\n",
      "524:\tlearn: 0.5784596\ttotal: 8.47s\tremaining: 7.67s\n",
      "525:\tlearn: 0.5784481\ttotal: 8.48s\tremaining: 7.65s\n",
      "526:\tlearn: 0.5784365\ttotal: 8.5s\tremaining: 7.63s\n",
      "527:\tlearn: 0.5784133\ttotal: 8.51s\tremaining: 7.61s\n",
      "528:\tlearn: 0.5784046\ttotal: 8.53s\tremaining: 7.59s\n",
      "529:\tlearn: 0.5783950\ttotal: 8.54s\tremaining: 7.57s\n",
      "530:\tlearn: 0.5783797\ttotal: 8.55s\tremaining: 7.56s\n",
      "531:\tlearn: 0.5783588\ttotal: 8.57s\tremaining: 7.54s\n",
      "532:\tlearn: 0.5783469\ttotal: 8.58s\tremaining: 7.52s\n",
      "533:\tlearn: 0.5783374\ttotal: 8.6s\tremaining: 7.5s\n",
      "534:\tlearn: 0.5783325\ttotal: 8.61s\tremaining: 7.48s\n",
      "535:\tlearn: 0.5783175\ttotal: 8.62s\tremaining: 7.46s\n",
      "536:\tlearn: 0.5783001\ttotal: 8.63s\tremaining: 7.45s\n",
      "537:\tlearn: 0.5782899\ttotal: 8.65s\tremaining: 7.43s\n",
      "538:\tlearn: 0.5782767\ttotal: 8.66s\tremaining: 7.41s\n",
      "539:\tlearn: 0.5782687\ttotal: 8.68s\tremaining: 7.39s\n",
      "540:\tlearn: 0.5782575\ttotal: 8.69s\tremaining: 7.38s\n",
      "541:\tlearn: 0.5782473\ttotal: 8.71s\tremaining: 7.36s\n",
      "542:\tlearn: 0.5782382\ttotal: 8.72s\tremaining: 7.34s\n",
      "543:\tlearn: 0.5782279\ttotal: 8.73s\tremaining: 7.32s\n",
      "544:\tlearn: 0.5782120\ttotal: 8.75s\tremaining: 7.3s\n",
      "545:\tlearn: 0.5781953\ttotal: 8.76s\tremaining: 7.29s\n",
      "546:\tlearn: 0.5781813\ttotal: 8.78s\tremaining: 7.27s\n",
      "547:\tlearn: 0.5781681\ttotal: 8.79s\tremaining: 7.25s\n",
      "548:\tlearn: 0.5781539\ttotal: 8.81s\tremaining: 7.24s\n",
      "549:\tlearn: 0.5781423\ttotal: 8.82s\tremaining: 7.22s\n",
      "550:\tlearn: 0.5781296\ttotal: 8.83s\tremaining: 7.2s\n",
      "551:\tlearn: 0.5781170\ttotal: 8.85s\tremaining: 7.18s\n",
      "552:\tlearn: 0.5781021\ttotal: 8.86s\tremaining: 7.16s\n",
      "553:\tlearn: 0.5780869\ttotal: 8.88s\tremaining: 7.14s\n",
      "554:\tlearn: 0.5780738\ttotal: 8.89s\tremaining: 7.13s\n",
      "555:\tlearn: 0.5780593\ttotal: 8.9s\tremaining: 7.11s\n",
      "556:\tlearn: 0.5780440\ttotal: 8.91s\tremaining: 7.09s\n",
      "557:\tlearn: 0.5780351\ttotal: 8.93s\tremaining: 7.07s\n",
      "558:\tlearn: 0.5780239\ttotal: 8.94s\tremaining: 7.05s\n",
      "559:\tlearn: 0.5780072\ttotal: 8.96s\tremaining: 7.04s\n",
      "560:\tlearn: 0.5779979\ttotal: 8.97s\tremaining: 7.02s\n",
      "561:\tlearn: 0.5779890\ttotal: 8.98s\tremaining: 7s\n",
      "562:\tlearn: 0.5779767\ttotal: 9s\tremaining: 6.98s\n",
      "563:\tlearn: 0.5779631\ttotal: 9.01s\tremaining: 6.97s\n",
      "564:\tlearn: 0.5779503\ttotal: 9.03s\tremaining: 6.95s\n",
      "565:\tlearn: 0.5779399\ttotal: 9.04s\tremaining: 6.93s\n",
      "566:\tlearn: 0.5779279\ttotal: 9.05s\tremaining: 6.91s\n",
      "567:\tlearn: 0.5779171\ttotal: 9.07s\tremaining: 6.9s\n",
      "568:\tlearn: 0.5779099\ttotal: 9.08s\tremaining: 6.88s\n",
      "569:\tlearn: 0.5778946\ttotal: 9.09s\tremaining: 6.86s\n",
      "570:\tlearn: 0.5778827\ttotal: 9.11s\tremaining: 6.84s\n",
      "571:\tlearn: 0.5778730\ttotal: 9.12s\tremaining: 6.82s\n",
      "572:\tlearn: 0.5778637\ttotal: 9.13s\tremaining: 6.81s\n",
      "573:\tlearn: 0.5778551\ttotal: 9.15s\tremaining: 6.79s\n",
      "574:\tlearn: 0.5778463\ttotal: 9.16s\tremaining: 6.77s\n",
      "575:\tlearn: 0.5778374\ttotal: 9.17s\tremaining: 6.75s\n",
      "576:\tlearn: 0.5778278\ttotal: 9.19s\tremaining: 6.74s\n",
      "577:\tlearn: 0.5778099\ttotal: 9.2s\tremaining: 6.72s\n",
      "578:\tlearn: 0.5778003\ttotal: 9.22s\tremaining: 6.7s\n",
      "579:\tlearn: 0.5777870\ttotal: 9.23s\tremaining: 6.68s\n",
      "580:\tlearn: 0.5777721\ttotal: 9.24s\tremaining: 6.67s\n",
      "581:\tlearn: 0.5777623\ttotal: 9.26s\tremaining: 6.65s\n",
      "582:\tlearn: 0.5777490\ttotal: 9.27s\tremaining: 6.63s\n",
      "583:\tlearn: 0.5777397\ttotal: 9.28s\tremaining: 6.61s\n",
      "584:\tlearn: 0.5777316\ttotal: 9.3s\tremaining: 6.59s\n",
      "585:\tlearn: 0.5777223\ttotal: 9.31s\tremaining: 6.58s\n",
      "586:\tlearn: 0.5777109\ttotal: 9.32s\tremaining: 6.56s\n",
      "587:\tlearn: 0.5777035\ttotal: 9.34s\tremaining: 6.54s\n",
      "588:\tlearn: 0.5776901\ttotal: 9.35s\tremaining: 6.53s\n",
      "589:\tlearn: 0.5776809\ttotal: 9.37s\tremaining: 6.51s\n",
      "590:\tlearn: 0.5776751\ttotal: 9.38s\tremaining: 6.49s\n",
      "591:\tlearn: 0.5776664\ttotal: 9.39s\tremaining: 6.47s\n",
      "592:\tlearn: 0.5776576\ttotal: 9.41s\tremaining: 6.46s\n",
      "593:\tlearn: 0.5776431\ttotal: 9.42s\tremaining: 6.44s\n",
      "594:\tlearn: 0.5776338\ttotal: 9.44s\tremaining: 6.42s\n",
      "595:\tlearn: 0.5776234\ttotal: 9.46s\tremaining: 6.41s\n",
      "596:\tlearn: 0.5776143\ttotal: 9.47s\tremaining: 6.39s\n",
      "597:\tlearn: 0.5776026\ttotal: 9.49s\tremaining: 6.38s\n",
      "598:\tlearn: 0.5775924\ttotal: 9.5s\tremaining: 6.36s\n",
      "599:\tlearn: 0.5775810\ttotal: 9.52s\tremaining: 6.34s\n",
      "600:\tlearn: 0.5775742\ttotal: 9.54s\tremaining: 6.33s\n",
      "601:\tlearn: 0.5775652\ttotal: 9.55s\tremaining: 6.32s\n",
      "602:\tlearn: 0.5775505\ttotal: 9.57s\tremaining: 6.3s\n",
      "603:\tlearn: 0.5775390\ttotal: 9.59s\tremaining: 6.29s\n",
      "604:\tlearn: 0.5775293\ttotal: 9.61s\tremaining: 6.27s\n",
      "605:\tlearn: 0.5775199\ttotal: 9.62s\tremaining: 6.26s\n",
      "606:\tlearn: 0.5775068\ttotal: 9.64s\tremaining: 6.24s\n",
      "607:\tlearn: 0.5774964\ttotal: 9.66s\tremaining: 6.23s\n",
      "608:\tlearn: 0.5774893\ttotal: 9.68s\tremaining: 6.21s\n",
      "609:\tlearn: 0.5774812\ttotal: 9.69s\tremaining: 6.2s\n",
      "610:\tlearn: 0.5774696\ttotal: 9.71s\tremaining: 6.18s\n",
      "611:\tlearn: 0.5774583\ttotal: 9.72s\tremaining: 6.16s\n",
      "612:\tlearn: 0.5774498\ttotal: 9.74s\tremaining: 6.15s\n",
      "613:\tlearn: 0.5774379\ttotal: 9.76s\tremaining: 6.13s\n",
      "614:\tlearn: 0.5774265\ttotal: 9.78s\tremaining: 6.12s\n",
      "615:\tlearn: 0.5774154\ttotal: 9.79s\tremaining: 6.1s\n",
      "616:\tlearn: 0.5774044\ttotal: 9.81s\tremaining: 6.09s\n",
      "617:\tlearn: 0.5773911\ttotal: 9.82s\tremaining: 6.07s\n",
      "618:\tlearn: 0.5773844\ttotal: 9.84s\tremaining: 6.06s\n",
      "619:\tlearn: 0.5773734\ttotal: 9.86s\tremaining: 6.04s\n",
      "620:\tlearn: 0.5773628\ttotal: 9.88s\tremaining: 6.03s\n",
      "621:\tlearn: 0.5773588\ttotal: 9.89s\tremaining: 6.01s\n",
      "622:\tlearn: 0.5773513\ttotal: 9.9s\tremaining: 5.99s\n",
      "623:\tlearn: 0.5773420\ttotal: 9.92s\tremaining: 5.98s\n",
      "624:\tlearn: 0.5773286\ttotal: 9.93s\tremaining: 5.96s\n",
      "625:\tlearn: 0.5773223\ttotal: 9.95s\tremaining: 5.95s\n",
      "626:\tlearn: 0.5773092\ttotal: 9.97s\tremaining: 5.93s\n",
      "627:\tlearn: 0.5773020\ttotal: 9.98s\tremaining: 5.91s\n",
      "628:\tlearn: 0.5772901\ttotal: 10s\tremaining: 5.9s\n",
      "629:\tlearn: 0.5772811\ttotal: 10s\tremaining: 5.88s\n",
      "630:\tlearn: 0.5772637\ttotal: 10s\tremaining: 5.87s\n",
      "631:\tlearn: 0.5772538\ttotal: 10.1s\tremaining: 5.85s\n",
      "632:\tlearn: 0.5772445\ttotal: 10.1s\tremaining: 5.84s\n",
      "633:\tlearn: 0.5772353\ttotal: 10.1s\tremaining: 5.82s\n",
      "634:\tlearn: 0.5772197\ttotal: 10.1s\tremaining: 5.8s\n",
      "635:\tlearn: 0.5772135\ttotal: 10.1s\tremaining: 5.79s\n",
      "636:\tlearn: 0.5772056\ttotal: 10.1s\tremaining: 5.78s\n",
      "637:\tlearn: 0.5771965\ttotal: 10.2s\tremaining: 5.76s\n",
      "638:\tlearn: 0.5771895\ttotal: 10.2s\tremaining: 5.75s\n",
      "639:\tlearn: 0.5771775\ttotal: 10.2s\tremaining: 5.73s\n",
      "640:\tlearn: 0.5771685\ttotal: 10.2s\tremaining: 5.71s\n",
      "641:\tlearn: 0.5771612\ttotal: 10.2s\tremaining: 5.7s\n",
      "642:\tlearn: 0.5771531\ttotal: 10.2s\tremaining: 5.68s\n",
      "643:\tlearn: 0.5771403\ttotal: 10.3s\tremaining: 5.67s\n",
      "644:\tlearn: 0.5771348\ttotal: 10.3s\tremaining: 5.65s\n",
      "645:\tlearn: 0.5771269\ttotal: 10.3s\tremaining: 5.63s\n",
      "646:\tlearn: 0.5771190\ttotal: 10.3s\tremaining: 5.62s\n",
      "647:\tlearn: 0.5771136\ttotal: 10.3s\tremaining: 5.6s\n",
      "648:\tlearn: 0.5771035\ttotal: 10.3s\tremaining: 5.58s\n",
      "649:\tlearn: 0.5770970\ttotal: 10.3s\tremaining: 5.57s\n",
      "650:\tlearn: 0.5770840\ttotal: 10.4s\tremaining: 5.55s\n",
      "651:\tlearn: 0.5770742\ttotal: 10.4s\tremaining: 5.54s\n",
      "652:\tlearn: 0.5770631\ttotal: 10.4s\tremaining: 5.52s\n",
      "653:\tlearn: 0.5770541\ttotal: 10.4s\tremaining: 5.5s\n",
      "654:\tlearn: 0.5770441\ttotal: 10.4s\tremaining: 5.49s\n",
      "655:\tlearn: 0.5770371\ttotal: 10.4s\tremaining: 5.47s\n",
      "656:\tlearn: 0.5770300\ttotal: 10.4s\tremaining: 5.46s\n",
      "657:\tlearn: 0.5770198\ttotal: 10.5s\tremaining: 5.44s\n"
     ]
    },
    {
     "name": "stdout",
     "output_type": "stream",
     "text": [
      "658:\tlearn: 0.5770118\ttotal: 10.5s\tremaining: 5.42s\n",
      "659:\tlearn: 0.5770029\ttotal: 10.5s\tremaining: 5.41s\n",
      "660:\tlearn: 0.5769960\ttotal: 10.5s\tremaining: 5.39s\n",
      "661:\tlearn: 0.5769857\ttotal: 10.5s\tremaining: 5.37s\n",
      "662:\tlearn: 0.5769758\ttotal: 10.5s\tremaining: 5.36s\n",
      "663:\tlearn: 0.5769669\ttotal: 10.6s\tremaining: 5.34s\n",
      "664:\tlearn: 0.5769591\ttotal: 10.6s\tremaining: 5.33s\n",
      "665:\tlearn: 0.5769511\ttotal: 10.6s\tremaining: 5.31s\n",
      "666:\tlearn: 0.5769383\ttotal: 10.6s\tremaining: 5.3s\n",
      "667:\tlearn: 0.5769289\ttotal: 10.6s\tremaining: 5.28s\n",
      "668:\tlearn: 0.5769146\ttotal: 10.6s\tremaining: 5.26s\n",
      "669:\tlearn: 0.5769052\ttotal: 10.7s\tremaining: 5.25s\n",
      "670:\tlearn: 0.5768958\ttotal: 10.7s\tremaining: 5.24s\n",
      "671:\tlearn: 0.5768868\ttotal: 10.7s\tremaining: 5.22s\n",
      "672:\tlearn: 0.5768783\ttotal: 10.7s\tremaining: 5.21s\n",
      "673:\tlearn: 0.5768709\ttotal: 10.7s\tremaining: 5.19s\n",
      "674:\tlearn: 0.5768604\ttotal: 10.8s\tremaining: 5.18s\n",
      "675:\tlearn: 0.5768552\ttotal: 10.8s\tremaining: 5.16s\n",
      "676:\tlearn: 0.5768402\ttotal: 10.8s\tremaining: 5.15s\n",
      "677:\tlearn: 0.5768322\ttotal: 10.8s\tremaining: 5.13s\n",
      "678:\tlearn: 0.5768241\ttotal: 10.8s\tremaining: 5.11s\n",
      "679:\tlearn: 0.5768147\ttotal: 10.8s\tremaining: 5.1s\n",
      "680:\tlearn: 0.5768077\ttotal: 10.9s\tremaining: 5.08s\n",
      "681:\tlearn: 0.5767960\ttotal: 10.9s\tremaining: 5.07s\n",
      "682:\tlearn: 0.5767894\ttotal: 10.9s\tremaining: 5.05s\n",
      "683:\tlearn: 0.5767787\ttotal: 10.9s\tremaining: 5.04s\n",
      "684:\tlearn: 0.5767695\ttotal: 10.9s\tremaining: 5.02s\n",
      "685:\tlearn: 0.5767643\ttotal: 10.9s\tremaining: 5s\n",
      "686:\tlearn: 0.5767587\ttotal: 10.9s\tremaining: 4.99s\n",
      "687:\tlearn: 0.5767488\ttotal: 11s\tremaining: 4.97s\n",
      "688:\tlearn: 0.5767412\ttotal: 11s\tremaining: 4.95s\n",
      "689:\tlearn: 0.5767347\ttotal: 11s\tremaining: 4.93s\n",
      "690:\tlearn: 0.5767248\ttotal: 11s\tremaining: 4.92s\n",
      "691:\tlearn: 0.5767200\ttotal: 11s\tremaining: 4.9s\n",
      "692:\tlearn: 0.5767136\ttotal: 11s\tremaining: 4.88s\n",
      "693:\tlearn: 0.5767071\ttotal: 11s\tremaining: 4.87s\n",
      "694:\tlearn: 0.5766993\ttotal: 11.1s\tremaining: 4.85s\n",
      "695:\tlearn: 0.5766884\ttotal: 11.1s\tremaining: 4.83s\n",
      "696:\tlearn: 0.5766832\ttotal: 11.1s\tremaining: 4.82s\n",
      "697:\tlearn: 0.5766764\ttotal: 11.1s\tremaining: 4.8s\n",
      "698:\tlearn: 0.5766678\ttotal: 11.1s\tremaining: 4.78s\n",
      "699:\tlearn: 0.5766614\ttotal: 11.1s\tremaining: 4.77s\n",
      "700:\tlearn: 0.5766512\ttotal: 11.1s\tremaining: 4.75s\n",
      "701:\tlearn: 0.5766402\ttotal: 11.1s\tremaining: 4.73s\n",
      "702:\tlearn: 0.5766330\ttotal: 11.2s\tremaining: 4.72s\n",
      "703:\tlearn: 0.5766235\ttotal: 11.2s\tremaining: 4.7s\n",
      "704:\tlearn: 0.5766191\ttotal: 11.2s\tremaining: 4.68s\n",
      "705:\tlearn: 0.5766108\ttotal: 11.2s\tremaining: 4.67s\n",
      "706:\tlearn: 0.5766065\ttotal: 11.2s\tremaining: 4.65s\n",
      "707:\tlearn: 0.5765936\ttotal: 11.2s\tremaining: 4.63s\n",
      "708:\tlearn: 0.5765857\ttotal: 11.2s\tremaining: 4.61s\n",
      "709:\tlearn: 0.5765787\ttotal: 11.3s\tremaining: 4.6s\n",
      "710:\tlearn: 0.5765625\ttotal: 11.3s\tremaining: 4.58s\n",
      "711:\tlearn: 0.5765550\ttotal: 11.3s\tremaining: 4.56s\n",
      "712:\tlearn: 0.5765484\ttotal: 11.3s\tremaining: 4.55s\n",
      "713:\tlearn: 0.5765422\ttotal: 11.3s\tremaining: 4.53s\n",
      "714:\tlearn: 0.5765364\ttotal: 11.3s\tremaining: 4.51s\n",
      "715:\tlearn: 0.5765282\ttotal: 11.3s\tremaining: 4.5s\n",
      "716:\tlearn: 0.5765222\ttotal: 11.4s\tremaining: 4.48s\n",
      "717:\tlearn: 0.5765133\ttotal: 11.4s\tremaining: 4.46s\n",
      "718:\tlearn: 0.5765068\ttotal: 11.4s\tremaining: 4.45s\n",
      "719:\tlearn: 0.5764960\ttotal: 11.4s\tremaining: 4.43s\n",
      "720:\tlearn: 0.5764900\ttotal: 11.4s\tremaining: 4.41s\n",
      "721:\tlearn: 0.5764827\ttotal: 11.4s\tremaining: 4.4s\n",
      "722:\tlearn: 0.5764740\ttotal: 11.4s\tremaining: 4.38s\n",
      "723:\tlearn: 0.5764651\ttotal: 11.5s\tremaining: 4.37s\n",
      "724:\tlearn: 0.5764590\ttotal: 11.5s\tremaining: 4.35s\n",
      "725:\tlearn: 0.5764513\ttotal: 11.5s\tremaining: 4.34s\n",
      "726:\tlearn: 0.5764459\ttotal: 11.5s\tremaining: 4.32s\n",
      "727:\tlearn: 0.5764377\ttotal: 11.5s\tremaining: 4.31s\n",
      "728:\tlearn: 0.5764302\ttotal: 11.6s\tremaining: 4.3s\n",
      "729:\tlearn: 0.5764243\ttotal: 11.6s\tremaining: 4.28s\n",
      "730:\tlearn: 0.5764207\ttotal: 11.6s\tremaining: 4.27s\n",
      "731:\tlearn: 0.5764117\ttotal: 11.6s\tremaining: 4.25s\n",
      "732:\tlearn: 0.5764031\ttotal: 11.6s\tremaining: 4.24s\n",
      "733:\tlearn: 0.5763977\ttotal: 11.7s\tremaining: 4.22s\n",
      "734:\tlearn: 0.5763896\ttotal: 11.7s\tremaining: 4.21s\n",
      "735:\tlearn: 0.5763825\ttotal: 11.7s\tremaining: 4.19s\n",
      "736:\tlearn: 0.5763720\ttotal: 11.7s\tremaining: 4.18s\n",
      "737:\tlearn: 0.5763666\ttotal: 11.7s\tremaining: 4.16s\n",
      "738:\tlearn: 0.5763596\ttotal: 11.7s\tremaining: 4.14s\n",
      "739:\tlearn: 0.5763487\ttotal: 11.8s\tremaining: 4.13s\n",
      "740:\tlearn: 0.5763409\ttotal: 11.8s\tremaining: 4.11s\n",
      "741:\tlearn: 0.5763344\ttotal: 11.8s\tremaining: 4.1s\n",
      "742:\tlearn: 0.5763257\ttotal: 11.8s\tremaining: 4.08s\n",
      "743:\tlearn: 0.5763174\ttotal: 11.8s\tremaining: 4.07s\n",
      "744:\tlearn: 0.5763109\ttotal: 11.8s\tremaining: 4.05s\n",
      "745:\tlearn: 0.5763018\ttotal: 11.9s\tremaining: 4.04s\n",
      "746:\tlearn: 0.5762951\ttotal: 11.9s\tremaining: 4.02s\n",
      "747:\tlearn: 0.5762888\ttotal: 11.9s\tremaining: 4s\n",
      "748:\tlearn: 0.5762833\ttotal: 11.9s\tremaining: 3.99s\n",
      "749:\tlearn: 0.5762765\ttotal: 11.9s\tremaining: 3.97s\n",
      "750:\tlearn: 0.5762711\ttotal: 11.9s\tremaining: 3.96s\n",
      "751:\tlearn: 0.5762616\ttotal: 12s\tremaining: 3.94s\n",
      "752:\tlearn: 0.5762554\ttotal: 12s\tremaining: 3.93s\n",
      "753:\tlearn: 0.5762509\ttotal: 12s\tremaining: 3.91s\n",
      "754:\tlearn: 0.5762410\ttotal: 12s\tremaining: 3.9s\n",
      "755:\tlearn: 0.5762359\ttotal: 12s\tremaining: 3.88s\n",
      "756:\tlearn: 0.5762243\ttotal: 12s\tremaining: 3.86s\n",
      "757:\tlearn: 0.5762158\ttotal: 12.1s\tremaining: 3.85s\n",
      "758:\tlearn: 0.5762107\ttotal: 12.1s\tremaining: 3.83s\n",
      "759:\tlearn: 0.5762023\ttotal: 12.1s\tremaining: 3.82s\n",
      "760:\tlearn: 0.5761959\ttotal: 12.1s\tremaining: 3.8s\n",
      "761:\tlearn: 0.5761901\ttotal: 12.1s\tremaining: 3.79s\n",
      "762:\tlearn: 0.5761823\ttotal: 12.1s\tremaining: 3.77s\n",
      "763:\tlearn: 0.5761735\ttotal: 12.2s\tremaining: 3.75s\n",
      "764:\tlearn: 0.5761679\ttotal: 12.2s\tremaining: 3.74s\n",
      "765:\tlearn: 0.5761633\ttotal: 12.2s\tremaining: 3.72s\n",
      "766:\tlearn: 0.5761515\ttotal: 12.2s\tremaining: 3.71s\n",
      "767:\tlearn: 0.5761411\ttotal: 12.2s\tremaining: 3.69s\n",
      "768:\tlearn: 0.5761313\ttotal: 12.2s\tremaining: 3.68s\n",
      "769:\tlearn: 0.5761206\ttotal: 12.3s\tremaining: 3.66s\n",
      "770:\tlearn: 0.5761140\ttotal: 12.3s\tremaining: 3.65s\n",
      "771:\tlearn: 0.5761057\ttotal: 12.3s\tremaining: 3.63s\n",
      "772:\tlearn: 0.5760977\ttotal: 12.3s\tremaining: 3.61s\n",
      "773:\tlearn: 0.5760918\ttotal: 12.3s\tremaining: 3.6s\n",
      "774:\tlearn: 0.5760836\ttotal: 12.3s\tremaining: 3.58s\n",
      "775:\tlearn: 0.5760760\ttotal: 12.4s\tremaining: 3.57s\n",
      "776:\tlearn: 0.5760686\ttotal: 12.4s\tremaining: 3.55s\n",
      "777:\tlearn: 0.5760627\ttotal: 12.4s\tremaining: 3.53s\n",
      "778:\tlearn: 0.5760553\ttotal: 12.4s\tremaining: 3.52s\n",
      "779:\tlearn: 0.5760496\ttotal: 12.4s\tremaining: 3.5s\n",
      "780:\tlearn: 0.5760445\ttotal: 12.4s\tremaining: 3.49s\n",
      "781:\tlearn: 0.5760374\ttotal: 12.5s\tremaining: 3.47s\n",
      "782:\tlearn: 0.5760300\ttotal: 12.5s\tremaining: 3.46s\n",
      "783:\tlearn: 0.5760227\ttotal: 12.5s\tremaining: 3.44s\n",
      "784:\tlearn: 0.5760156\ttotal: 12.5s\tremaining: 3.42s\n",
      "785:\tlearn: 0.5760097\ttotal: 12.5s\tremaining: 3.41s\n",
      "786:\tlearn: 0.5760042\ttotal: 12.5s\tremaining: 3.39s\n",
      "787:\tlearn: 0.5759962\ttotal: 12.6s\tremaining: 3.38s\n",
      "788:\tlearn: 0.5759912\ttotal: 12.6s\tremaining: 3.36s\n",
      "789:\tlearn: 0.5759853\ttotal: 12.6s\tremaining: 3.34s\n",
      "790:\tlearn: 0.5759791\ttotal: 12.6s\tremaining: 3.33s\n",
      "791:\tlearn: 0.5759722\ttotal: 12.6s\tremaining: 3.31s\n",
      "792:\tlearn: 0.5759673\ttotal: 12.6s\tremaining: 3.3s\n",
      "793:\tlearn: 0.5759576\ttotal: 12.6s\tremaining: 3.28s\n",
      "794:\tlearn: 0.5759536\ttotal: 12.7s\tremaining: 3.27s\n",
      "795:\tlearn: 0.5759469\ttotal: 12.7s\tremaining: 3.25s\n",
      "796:\tlearn: 0.5759426\ttotal: 12.7s\tremaining: 3.24s\n",
      "797:\tlearn: 0.5759324\ttotal: 12.7s\tremaining: 3.22s\n",
      "798:\tlearn: 0.5759254\ttotal: 12.7s\tremaining: 3.21s\n",
      "799:\tlearn: 0.5759185\ttotal: 12.8s\tremaining: 3.19s\n",
      "800:\tlearn: 0.5759125\ttotal: 12.8s\tremaining: 3.17s\n",
      "801:\tlearn: 0.5759058\ttotal: 12.8s\tremaining: 3.16s\n",
      "802:\tlearn: 0.5758963\ttotal: 12.8s\tremaining: 3.14s\n",
      "803:\tlearn: 0.5758901\ttotal: 12.8s\tremaining: 3.12s\n",
      "804:\tlearn: 0.5758865\ttotal: 12.8s\tremaining: 3.11s\n",
      "805:\tlearn: 0.5758788\ttotal: 12.8s\tremaining: 3.09s\n",
      "806:\tlearn: 0.5758754\ttotal: 12.9s\tremaining: 3.07s\n",
      "807:\tlearn: 0.5758693\ttotal: 12.9s\tremaining: 3.06s\n",
      "808:\tlearn: 0.5758629\ttotal: 12.9s\tremaining: 3.04s\n",
      "809:\tlearn: 0.5758525\ttotal: 12.9s\tremaining: 3.02s\n",
      "810:\tlearn: 0.5758476\ttotal: 12.9s\tremaining: 3.01s\n",
      "811:\tlearn: 0.5758423\ttotal: 12.9s\tremaining: 2.99s\n",
      "812:\tlearn: 0.5758360\ttotal: 12.9s\tremaining: 2.97s\n",
      "813:\tlearn: 0.5758296\ttotal: 12.9s\tremaining: 2.96s\n",
      "814:\tlearn: 0.5758229\ttotal: 13s\tremaining: 2.94s\n",
      "815:\tlearn: 0.5758171\ttotal: 13s\tremaining: 2.92s\n",
      "816:\tlearn: 0.5758134\ttotal: 13s\tremaining: 2.91s\n",
      "817:\tlearn: 0.5758077\ttotal: 13s\tremaining: 2.89s\n",
      "818:\tlearn: 0.5758007\ttotal: 13s\tremaining: 2.87s\n",
      "819:\tlearn: 0.5757974\ttotal: 13s\tremaining: 2.86s\n",
      "820:\tlearn: 0.5757877\ttotal: 13s\tremaining: 2.84s\n",
      "821:\tlearn: 0.5757798\ttotal: 13s\tremaining: 2.82s\n",
      "822:\tlearn: 0.5757744\ttotal: 13.1s\tremaining: 2.81s\n",
      "823:\tlearn: 0.5757689\ttotal: 13.1s\tremaining: 2.79s\n"
     ]
    },
    {
     "name": "stdout",
     "output_type": "stream",
     "text": [
      "824:\tlearn: 0.5757626\ttotal: 13.1s\tremaining: 2.77s\n",
      "825:\tlearn: 0.5757562\ttotal: 13.1s\tremaining: 2.76s\n",
      "826:\tlearn: 0.5757509\ttotal: 13.1s\tremaining: 2.74s\n",
      "827:\tlearn: 0.5757447\ttotal: 13.1s\tremaining: 2.73s\n",
      "828:\tlearn: 0.5757374\ttotal: 13.1s\tremaining: 2.71s\n",
      "829:\tlearn: 0.5757322\ttotal: 13.2s\tremaining: 2.69s\n",
      "830:\tlearn: 0.5757246\ttotal: 13.2s\tremaining: 2.68s\n",
      "831:\tlearn: 0.5757198\ttotal: 13.2s\tremaining: 2.66s\n",
      "832:\tlearn: 0.5757127\ttotal: 13.2s\tremaining: 2.64s\n",
      "833:\tlearn: 0.5757080\ttotal: 13.2s\tremaining: 2.63s\n",
      "834:\tlearn: 0.5757029\ttotal: 13.2s\tremaining: 2.61s\n",
      "835:\tlearn: 0.5756952\ttotal: 13.2s\tremaining: 2.59s\n",
      "836:\tlearn: 0.5756907\ttotal: 13.2s\tremaining: 2.58s\n",
      "837:\tlearn: 0.5756848\ttotal: 13.3s\tremaining: 2.56s\n",
      "838:\tlearn: 0.5756795\ttotal: 13.3s\tremaining: 2.55s\n",
      "839:\tlearn: 0.5756754\ttotal: 13.3s\tremaining: 2.53s\n",
      "840:\tlearn: 0.5756724\ttotal: 13.3s\tremaining: 2.51s\n",
      "841:\tlearn: 0.5756638\ttotal: 13.3s\tremaining: 2.5s\n",
      "842:\tlearn: 0.5756558\ttotal: 13.3s\tremaining: 2.48s\n",
      "843:\tlearn: 0.5756498\ttotal: 13.3s\tremaining: 2.46s\n",
      "844:\tlearn: 0.5756445\ttotal: 13.3s\tremaining: 2.45s\n",
      "845:\tlearn: 0.5756393\ttotal: 13.4s\tremaining: 2.43s\n",
      "846:\tlearn: 0.5756364\ttotal: 13.4s\tremaining: 2.42s\n",
      "847:\tlearn: 0.5756319\ttotal: 13.4s\tremaining: 2.4s\n",
      "848:\tlearn: 0.5756283\ttotal: 13.4s\tremaining: 2.38s\n",
      "849:\tlearn: 0.5756221\ttotal: 13.4s\tremaining: 2.37s\n",
      "850:\tlearn: 0.5756127\ttotal: 13.4s\tremaining: 2.35s\n",
      "851:\tlearn: 0.5756053\ttotal: 13.4s\tremaining: 2.33s\n",
      "852:\tlearn: 0.5756014\ttotal: 13.5s\tremaining: 2.32s\n",
      "853:\tlearn: 0.5755949\ttotal: 13.5s\tremaining: 2.3s\n",
      "854:\tlearn: 0.5755893\ttotal: 13.5s\tremaining: 2.29s\n",
      "855:\tlearn: 0.5755841\ttotal: 13.5s\tremaining: 2.27s\n",
      "856:\tlearn: 0.5755802\ttotal: 13.5s\tremaining: 2.25s\n",
      "857:\tlearn: 0.5755772\ttotal: 13.5s\tremaining: 2.24s\n",
      "858:\tlearn: 0.5755727\ttotal: 13.5s\tremaining: 2.22s\n",
      "859:\tlearn: 0.5755650\ttotal: 13.5s\tremaining: 2.21s\n",
      "860:\tlearn: 0.5755623\ttotal: 13.6s\tremaining: 2.19s\n",
      "861:\tlearn: 0.5755581\ttotal: 13.6s\tremaining: 2.17s\n",
      "862:\tlearn: 0.5755544\ttotal: 13.6s\tremaining: 2.16s\n",
      "863:\tlearn: 0.5755489\ttotal: 13.6s\tremaining: 2.14s\n",
      "864:\tlearn: 0.5755427\ttotal: 13.6s\tremaining: 2.12s\n",
      "865:\tlearn: 0.5755370\ttotal: 13.6s\tremaining: 2.11s\n",
      "866:\tlearn: 0.5755312\ttotal: 13.6s\tremaining: 2.09s\n",
      "867:\tlearn: 0.5755258\ttotal: 13.6s\tremaining: 2.08s\n",
      "868:\tlearn: 0.5755208\ttotal: 13.7s\tremaining: 2.06s\n",
      "869:\tlearn: 0.5755146\ttotal: 13.7s\tremaining: 2.04s\n",
      "870:\tlearn: 0.5755077\ttotal: 13.7s\tremaining: 2.03s\n",
      "871:\tlearn: 0.5755013\ttotal: 13.7s\tremaining: 2.01s\n",
      "872:\tlearn: 0.5754960\ttotal: 13.7s\tremaining: 2s\n",
      "873:\tlearn: 0.5754937\ttotal: 13.7s\tremaining: 1.98s\n",
      "874:\tlearn: 0.5754919\ttotal: 13.7s\tremaining: 1.96s\n",
      "875:\tlearn: 0.5754857\ttotal: 13.8s\tremaining: 1.95s\n",
      "876:\tlearn: 0.5754816\ttotal: 13.8s\tremaining: 1.93s\n",
      "877:\tlearn: 0.5754776\ttotal: 13.8s\tremaining: 1.91s\n",
      "878:\tlearn: 0.5754683\ttotal: 13.8s\tremaining: 1.9s\n",
      "879:\tlearn: 0.5754628\ttotal: 13.8s\tremaining: 1.88s\n",
      "880:\tlearn: 0.5754579\ttotal: 13.8s\tremaining: 1.87s\n",
      "881:\tlearn: 0.5754495\ttotal: 13.8s\tremaining: 1.85s\n",
      "882:\tlearn: 0.5754439\ttotal: 13.8s\tremaining: 1.83s\n",
      "883:\tlearn: 0.5754385\ttotal: 13.9s\tremaining: 1.82s\n",
      "884:\tlearn: 0.5754324\ttotal: 13.9s\tremaining: 1.8s\n",
      "885:\tlearn: 0.5754285\ttotal: 13.9s\tremaining: 1.79s\n",
      "886:\tlearn: 0.5754239\ttotal: 13.9s\tremaining: 1.77s\n",
      "887:\tlearn: 0.5754136\ttotal: 13.9s\tremaining: 1.75s\n",
      "888:\tlearn: 0.5754084\ttotal: 13.9s\tremaining: 1.74s\n",
      "889:\tlearn: 0.5754031\ttotal: 13.9s\tremaining: 1.72s\n",
      "890:\tlearn: 0.5754002\ttotal: 13.9s\tremaining: 1.71s\n",
      "891:\tlearn: 0.5753951\ttotal: 14s\tremaining: 1.69s\n",
      "892:\tlearn: 0.5753875\ttotal: 14s\tremaining: 1.67s\n",
      "893:\tlearn: 0.5753801\ttotal: 14s\tremaining: 1.66s\n",
      "894:\tlearn: 0.5753741\ttotal: 14s\tremaining: 1.64s\n",
      "895:\tlearn: 0.5753706\ttotal: 14s\tremaining: 1.63s\n",
      "896:\tlearn: 0.5753631\ttotal: 14s\tremaining: 1.61s\n",
      "897:\tlearn: 0.5753464\ttotal: 14s\tremaining: 1.59s\n",
      "898:\tlearn: 0.5753407\ttotal: 14.1s\tremaining: 1.58s\n",
      "899:\tlearn: 0.5753355\ttotal: 14.1s\tremaining: 1.56s\n",
      "900:\tlearn: 0.5753306\ttotal: 14.1s\tremaining: 1.55s\n",
      "901:\tlearn: 0.5753256\ttotal: 14.1s\tremaining: 1.53s\n",
      "902:\tlearn: 0.5753203\ttotal: 14.1s\tremaining: 1.52s\n",
      "903:\tlearn: 0.5753153\ttotal: 14.1s\tremaining: 1.5s\n",
      "904:\tlearn: 0.5753106\ttotal: 14.1s\tremaining: 1.48s\n",
      "905:\tlearn: 0.5753058\ttotal: 14.2s\tremaining: 1.47s\n",
      "906:\tlearn: 0.5753036\ttotal: 14.2s\tremaining: 1.45s\n",
      "907:\tlearn: 0.5752941\ttotal: 14.2s\tremaining: 1.44s\n",
      "908:\tlearn: 0.5752887\ttotal: 14.2s\tremaining: 1.42s\n",
      "909:\tlearn: 0.5752865\ttotal: 14.2s\tremaining: 1.41s\n",
      "910:\tlearn: 0.5752828\ttotal: 14.2s\tremaining: 1.39s\n",
      "911:\tlearn: 0.5752780\ttotal: 14.2s\tremaining: 1.37s\n",
      "912:\tlearn: 0.5752737\ttotal: 14.3s\tremaining: 1.36s\n",
      "913:\tlearn: 0.5752675\ttotal: 14.3s\tremaining: 1.34s\n",
      "914:\tlearn: 0.5752655\ttotal: 14.3s\tremaining: 1.33s\n",
      "915:\tlearn: 0.5752618\ttotal: 14.3s\tremaining: 1.31s\n",
      "916:\tlearn: 0.5752553\ttotal: 14.3s\tremaining: 1.29s\n",
      "917:\tlearn: 0.5752502\ttotal: 14.3s\tremaining: 1.28s\n",
      "918:\tlearn: 0.5752439\ttotal: 14.3s\tremaining: 1.26s\n",
      "919:\tlearn: 0.5752417\ttotal: 14.4s\tremaining: 1.25s\n",
      "920:\tlearn: 0.5752360\ttotal: 14.4s\tremaining: 1.23s\n",
      "921:\tlearn: 0.5752292\ttotal: 14.4s\tremaining: 1.22s\n",
      "922:\tlearn: 0.5752251\ttotal: 14.4s\tremaining: 1.2s\n",
      "923:\tlearn: 0.5752177\ttotal: 14.4s\tremaining: 1.19s\n",
      "924:\tlearn: 0.5752136\ttotal: 14.4s\tremaining: 1.17s\n",
      "925:\tlearn: 0.5752051\ttotal: 14.4s\tremaining: 1.15s\n",
      "926:\tlearn: 0.5752014\ttotal: 14.4s\tremaining: 1.14s\n",
      "927:\tlearn: 0.5751970\ttotal: 14.5s\tremaining: 1.12s\n",
      "928:\tlearn: 0.5751892\ttotal: 14.5s\tremaining: 1.11s\n",
      "929:\tlearn: 0.5751844\ttotal: 14.5s\tremaining: 1.09s\n",
      "930:\tlearn: 0.5751782\ttotal: 14.5s\tremaining: 1.07s\n",
      "931:\tlearn: 0.5751711\ttotal: 14.5s\tremaining: 1.06s\n",
      "932:\tlearn: 0.5751661\ttotal: 14.5s\tremaining: 1.04s\n",
      "933:\tlearn: 0.5751605\ttotal: 14.5s\tremaining: 1.03s\n",
      "934:\tlearn: 0.5751554\ttotal: 14.6s\tremaining: 1.01s\n",
      "935:\tlearn: 0.5751510\ttotal: 14.6s\tremaining: 996ms\n",
      "936:\tlearn: 0.5751474\ttotal: 14.6s\tremaining: 981ms\n",
      "937:\tlearn: 0.5751428\ttotal: 14.6s\tremaining: 965ms\n",
      "938:\tlearn: 0.5751350\ttotal: 14.6s\tremaining: 949ms\n",
      "939:\tlearn: 0.5751293\ttotal: 14.6s\tremaining: 934ms\n",
      "940:\tlearn: 0.5751263\ttotal: 14.6s\tremaining: 918ms\n",
      "941:\tlearn: 0.5751200\ttotal: 14.7s\tremaining: 902ms\n",
      "942:\tlearn: 0.5751148\ttotal: 14.7s\tremaining: 887ms\n",
      "943:\tlearn: 0.5751117\ttotal: 14.7s\tremaining: 871ms\n",
      "944:\tlearn: 0.5751052\ttotal: 14.7s\tremaining: 855ms\n",
      "945:\tlearn: 0.5751001\ttotal: 14.7s\tremaining: 840ms\n",
      "946:\tlearn: 0.5750935\ttotal: 14.7s\tremaining: 824ms\n",
      "947:\tlearn: 0.5750878\ttotal: 14.7s\tremaining: 808ms\n",
      "948:\tlearn: 0.5750855\ttotal: 14.7s\tremaining: 793ms\n",
      "949:\tlearn: 0.5750802\ttotal: 14.8s\tremaining: 777ms\n",
      "950:\tlearn: 0.5750769\ttotal: 14.8s\tremaining: 761ms\n",
      "951:\tlearn: 0.5750729\ttotal: 14.8s\tremaining: 745ms\n",
      "952:\tlearn: 0.5750680\ttotal: 14.8s\tremaining: 730ms\n",
      "953:\tlearn: 0.5750617\ttotal: 14.8s\tremaining: 714ms\n",
      "954:\tlearn: 0.5750577\ttotal: 14.8s\tremaining: 698ms\n",
      "955:\tlearn: 0.5750555\ttotal: 14.8s\tremaining: 683ms\n",
      "956:\tlearn: 0.5750499\ttotal: 14.8s\tremaining: 667ms\n",
      "957:\tlearn: 0.5750453\ttotal: 14.9s\tremaining: 651ms\n",
      "958:\tlearn: 0.5750414\ttotal: 14.9s\tremaining: 636ms\n",
      "959:\tlearn: 0.5750358\ttotal: 14.9s\tremaining: 621ms\n",
      "960:\tlearn: 0.5750258\ttotal: 14.9s\tremaining: 605ms\n",
      "961:\tlearn: 0.5750208\ttotal: 14.9s\tremaining: 590ms\n",
      "962:\tlearn: 0.5750160\ttotal: 14.9s\tremaining: 574ms\n",
      "963:\tlearn: 0.5750116\ttotal: 15s\tremaining: 558ms\n",
      "964:\tlearn: 0.5750075\ttotal: 15s\tremaining: 543ms\n",
      "965:\tlearn: 0.5750027\ttotal: 15s\tremaining: 527ms\n",
      "966:\tlearn: 0.5749976\ttotal: 15s\tremaining: 512ms\n",
      "967:\tlearn: 0.5749937\ttotal: 15s\tremaining: 496ms\n",
      "968:\tlearn: 0.5749920\ttotal: 15s\tremaining: 481ms\n",
      "969:\tlearn: 0.5749869\ttotal: 15s\tremaining: 465ms\n",
      "970:\tlearn: 0.5749829\ttotal: 15.1s\tremaining: 450ms\n",
      "971:\tlearn: 0.5749751\ttotal: 15.1s\tremaining: 434ms\n",
      "972:\tlearn: 0.5749660\ttotal: 15.1s\tremaining: 418ms\n",
      "973:\tlearn: 0.5749613\ttotal: 15.1s\tremaining: 403ms\n",
      "974:\tlearn: 0.5749572\ttotal: 15.1s\tremaining: 387ms\n",
      "975:\tlearn: 0.5749553\ttotal: 15.1s\tremaining: 372ms\n",
      "976:\tlearn: 0.5749499\ttotal: 15.1s\tremaining: 356ms\n",
      "977:\tlearn: 0.5749462\ttotal: 15.1s\tremaining: 341ms\n",
      "978:\tlearn: 0.5749410\ttotal: 15.2s\tremaining: 325ms\n",
      "979:\tlearn: 0.5749377\ttotal: 15.2s\tremaining: 310ms\n",
      "980:\tlearn: 0.5749352\ttotal: 15.2s\tremaining: 294ms\n",
      "981:\tlearn: 0.5749319\ttotal: 15.2s\tremaining: 279ms\n",
      "982:\tlearn: 0.5749269\ttotal: 15.2s\tremaining: 263ms\n",
      "983:\tlearn: 0.5749179\ttotal: 15.2s\tremaining: 248ms\n",
      "984:\tlearn: 0.5749141\ttotal: 15.2s\tremaining: 232ms\n",
      "985:\tlearn: 0.5749069\ttotal: 15.3s\tremaining: 217ms\n"
     ]
    },
    {
     "name": "stdout",
     "output_type": "stream",
     "text": [
      "986:\tlearn: 0.5749024\ttotal: 15.3s\tremaining: 201ms\n",
      "987:\tlearn: 0.5748982\ttotal: 15.3s\tremaining: 186ms\n",
      "988:\tlearn: 0.5748932\ttotal: 15.3s\tremaining: 170ms\n",
      "989:\tlearn: 0.5748906\ttotal: 15.3s\tremaining: 155ms\n",
      "990:\tlearn: 0.5748867\ttotal: 15.3s\tremaining: 139ms\n",
      "991:\tlearn: 0.5748822\ttotal: 15.3s\tremaining: 124ms\n",
      "992:\tlearn: 0.5748788\ttotal: 15.4s\tremaining: 108ms\n",
      "993:\tlearn: 0.5748748\ttotal: 15.4s\tremaining: 92.8ms\n",
      "994:\tlearn: 0.5748667\ttotal: 15.4s\tremaining: 77.3ms\n",
      "995:\tlearn: 0.5748628\ttotal: 15.4s\tremaining: 61.8ms\n",
      "996:\tlearn: 0.5748582\ttotal: 15.4s\tremaining: 46.4ms\n",
      "997:\tlearn: 0.5748543\ttotal: 15.4s\tremaining: 30.9ms\n",
      "998:\tlearn: 0.5748510\ttotal: 15.4s\tremaining: 15.4ms\n",
      "999:\tlearn: 0.5748463\ttotal: 15.4s\tremaining: 0us\n",
      "Accuracy of CatBoost Classifier on training set: 0.70\n",
      "Accuracy of CatBoost Classifier on test set: 0.69\n",
      "---------------------------------------------------------------------------------------------------------------------\n",
      "Classification Report of the training data:\n",
      "\n",
      "               precision    recall  f1-score   support\n",
      "\n",
      "           0       0.65      0.32      0.43      1818\n",
      "           1       0.70      0.90      0.79      3182\n",
      "\n",
      "    accuracy                           0.69      5000\n",
      "   macro avg       0.67      0.61      0.61      5000\n",
      "weighted avg       0.68      0.69      0.66      5000\n",
      " \n",
      "\n",
      "---------------------------------------------------------------------------------------------------------------------\n",
      "Accuracy of CatBoost Classifier is equal 68.92 %.\n"
     ]
    }
   ],
   "source": [
    "model7 = CatBoostClassifier(random_state=0)\n",
    "model7.fit(X_train,y_train) \n",
    "print('Accuracy of CatBoost Classifier on training set: {:.2f}'\n",
    "     .format(model7.score(X_train, y_train)))\n",
    "\n",
    "print('Accuracy of CatBoost Classifier on test set: {:.2f}'\n",
    "     .format(model7.score(X_test, y_test)))\n",
    "print('-------------'*9)\n",
    "print('Classification Report of the training data:\\n\\n',classification_report(y_test,model7.predict(X_test)),'\\n')\n",
    "print('-------------'*9)\n",
    "y_pred = model7.predict(X_test)\n",
    "accuracy = accuracy_score(y_test, y_pred)*100\n",
    "print('Accuracy of CatBoost Classifier is equal ' + str(round(accuracy, 2)) + ' %.')"
   ]
  },
  {
   "cell_type": "markdown",
   "id": "85a7ef2d",
   "metadata": {},
   "source": [
    "#### * Hyper Parameter Tuning for CatBoost Classifier"
   ]
  },
  {
   "cell_type": "code",
   "execution_count": 137,
   "id": "7feb140e",
   "metadata": {},
   "outputs": [
    {
     "name": "stdout",
     "output_type": "stream",
     "text": [
      "0:\tlearn: 0.6871193\ttotal: 6.52ms\tremaining: 515ms\n",
      "1:\tlearn: 0.6814208\ttotal: 12.7ms\tremaining: 496ms\n",
      "2:\tlearn: 0.6759253\ttotal: 18.2ms\tremaining: 468ms\n",
      "3:\tlearn: 0.6708436\ttotal: 23.6ms\tremaining: 448ms\n",
      "4:\tlearn: 0.6662630\ttotal: 29.7ms\tremaining: 445ms\n",
      "5:\tlearn: 0.6618688\ttotal: 35.1ms\tremaining: 432ms\n",
      "6:\tlearn: 0.6578040\ttotal: 40.4ms\tremaining: 421ms\n",
      "7:\tlearn: 0.6541069\ttotal: 45.6ms\tremaining: 410ms\n",
      "8:\tlearn: 0.6505830\ttotal: 50.7ms\tremaining: 400ms\n",
      "9:\tlearn: 0.6473445\ttotal: 57.4ms\tremaining: 402ms\n",
      "10:\tlearn: 0.6444311\ttotal: 62.6ms\tremaining: 393ms\n",
      "11:\tlearn: 0.6415588\ttotal: 68ms\tremaining: 385ms\n",
      "12:\tlearn: 0.6389096\ttotal: 73.8ms\tremaining: 380ms\n",
      "13:\tlearn: 0.6364115\ttotal: 79.2ms\tremaining: 373ms\n",
      "14:\tlearn: 0.6340816\ttotal: 84.9ms\tremaining: 368ms\n",
      "15:\tlearn: 0.6320886\ttotal: 90.3ms\tremaining: 361ms\n",
      "16:\tlearn: 0.6300146\ttotal: 96.6ms\tremaining: 358ms\n",
      "17:\tlearn: 0.6280901\ttotal: 102ms\tremaining: 353ms\n",
      "18:\tlearn: 0.6262735\ttotal: 108ms\tremaining: 347ms\n",
      "19:\tlearn: 0.6246408\ttotal: 113ms\tremaining: 340ms\n",
      "20:\tlearn: 0.6230319\ttotal: 119ms\tremaining: 335ms\n",
      "21:\tlearn: 0.6216068\ttotal: 125ms\tremaining: 329ms\n",
      "22:\tlearn: 0.6201990\ttotal: 130ms\tremaining: 323ms\n",
      "23:\tlearn: 0.6189441\ttotal: 136ms\tremaining: 318ms\n",
      "24:\tlearn: 0.6178105\ttotal: 142ms\tremaining: 312ms\n",
      "25:\tlearn: 0.6167189\ttotal: 147ms\tremaining: 305ms\n",
      "26:\tlearn: 0.6157124\ttotal: 152ms\tremaining: 299ms\n",
      "27:\tlearn: 0.6146868\ttotal: 158ms\tremaining: 293ms\n",
      "28:\tlearn: 0.6136473\ttotal: 164ms\tremaining: 288ms\n",
      "29:\tlearn: 0.6126819\ttotal: 169ms\tremaining: 282ms\n",
      "30:\tlearn: 0.6117540\ttotal: 174ms\tremaining: 276ms\n",
      "31:\tlearn: 0.6108923\ttotal: 180ms\tremaining: 270ms\n",
      "32:\tlearn: 0.6101749\ttotal: 186ms\tremaining: 265ms\n",
      "33:\tlearn: 0.6094677\ttotal: 194ms\tremaining: 262ms\n",
      "34:\tlearn: 0.6087544\ttotal: 201ms\tremaining: 258ms\n",
      "35:\tlearn: 0.6080706\ttotal: 207ms\tremaining: 253ms\n",
      "36:\tlearn: 0.6074158\ttotal: 214ms\tremaining: 248ms\n",
      "37:\tlearn: 0.6068381\ttotal: 220ms\tremaining: 243ms\n",
      "38:\tlearn: 0.6062396\ttotal: 226ms\tremaining: 238ms\n",
      "39:\tlearn: 0.6056691\ttotal: 234ms\tremaining: 234ms\n",
      "40:\tlearn: 0.6052526\ttotal: 241ms\tremaining: 229ms\n",
      "41:\tlearn: 0.6047230\ttotal: 247ms\tremaining: 224ms\n",
      "42:\tlearn: 0.6042106\ttotal: 254ms\tremaining: 219ms\n",
      "43:\tlearn: 0.6037604\ttotal: 261ms\tremaining: 213ms\n",
      "44:\tlearn: 0.6032841\ttotal: 267ms\tremaining: 208ms\n",
      "45:\tlearn: 0.6028637\ttotal: 274ms\tremaining: 202ms\n",
      "46:\tlearn: 0.6024457\ttotal: 280ms\tremaining: 197ms\n",
      "47:\tlearn: 0.6020394\ttotal: 287ms\tremaining: 192ms\n",
      "48:\tlearn: 0.6016510\ttotal: 293ms\tremaining: 185ms\n",
      "49:\tlearn: 0.6013005\ttotal: 298ms\tremaining: 179ms\n",
      "50:\tlearn: 0.6009842\ttotal: 305ms\tremaining: 173ms\n",
      "51:\tlearn: 0.6006438\ttotal: 311ms\tremaining: 168ms\n",
      "52:\tlearn: 0.6003304\ttotal: 318ms\tremaining: 162ms\n",
      "53:\tlearn: 0.6000150\ttotal: 325ms\tremaining: 156ms\n",
      "54:\tlearn: 0.5997250\ttotal: 332ms\tremaining: 151ms\n",
      "55:\tlearn: 0.5994396\ttotal: 338ms\tremaining: 145ms\n",
      "56:\tlearn: 0.5991536\ttotal: 345ms\tremaining: 139ms\n",
      "57:\tlearn: 0.5988820\ttotal: 352ms\tremaining: 134ms\n",
      "58:\tlearn: 0.5986381\ttotal: 359ms\tremaining: 128ms\n",
      "59:\tlearn: 0.5983981\ttotal: 365ms\tremaining: 122ms\n",
      "60:\tlearn: 0.5981843\ttotal: 372ms\tremaining: 116ms\n",
      "61:\tlearn: 0.5979723\ttotal: 379ms\tremaining: 110ms\n",
      "62:\tlearn: 0.5977384\ttotal: 387ms\tremaining: 104ms\n",
      "63:\tlearn: 0.5975232\ttotal: 393ms\tremaining: 98.3ms\n",
      "64:\tlearn: 0.5973135\ttotal: 399ms\tremaining: 92.1ms\n",
      "65:\tlearn: 0.5971144\ttotal: 406ms\tremaining: 86.1ms\n",
      "66:\tlearn: 0.5969269\ttotal: 412ms\tremaining: 80ms\n",
      "67:\tlearn: 0.5967210\ttotal: 419ms\tremaining: 74ms\n",
      "68:\tlearn: 0.5965394\ttotal: 426ms\tremaining: 68ms\n",
      "69:\tlearn: 0.5963584\ttotal: 433ms\tremaining: 61.9ms\n",
      "70:\tlearn: 0.5961790\ttotal: 440ms\tremaining: 55.8ms\n",
      "71:\tlearn: 0.5960263\ttotal: 447ms\tremaining: 49.6ms\n",
      "72:\tlearn: 0.5958677\ttotal: 454ms\tremaining: 43.5ms\n",
      "73:\tlearn: 0.5957318\ttotal: 460ms\tremaining: 37.3ms\n",
      "74:\tlearn: 0.5955912\ttotal: 467ms\tremaining: 31.1ms\n",
      "75:\tlearn: 0.5954519\ttotal: 473ms\tremaining: 24.9ms\n",
      "76:\tlearn: 0.5953176\ttotal: 480ms\tremaining: 18.7ms\n",
      "77:\tlearn: 0.5952333\ttotal: 487ms\tremaining: 12.5ms\n",
      "78:\tlearn: 0.5950983\ttotal: 494ms\tremaining: 6.25ms\n",
      "79:\tlearn: 0.5949688\ttotal: 500ms\tremaining: 0us\n",
      "---------------------------------------------------------------------------------------------------------------------\n",
      " Results from Grid Search \n",
      "\n",
      " The best estimator across ALL searched params:\n",
      " <catboost.core.CatBoostClassifier object at 0x0000020D174A62B0>\n",
      "---------------------------------------------------------------------------------------------------------------------\n",
      "\n",
      " The best score across ALL searched params:\n",
      " 0.6930000000000001\n",
      "---------------------------------------------------------------------------------------------------------------------\n",
      "\n",
      " The best parameters across ALL searched params:\n",
      " {'depth': 4, 'iterations': 80, 'learning_rate': 0.04}\n"
     ]
    }
   ],
   "source": [
    "parameters = {'depth': [4,5,6,7,8,9, 10]\n",
    "              ,'learning_rate' : [0.01,0.02,0.03,0.04]\n",
    "              ,'iterations' : [10, 20,30,40,50,60,70,80,90, 100]\n",
    "             }\n",
    "Grid_m7 = GridSearchCV(estimator=model7, param_grid = parameters, cv = 2, n_jobs=-1)\n",
    "Grid_m7.fit(X_train, y_train)\n",
    "print('-------------'*9)\n",
    "print(\" Results from Grid Search \" )\n",
    "print(\"\\n The best estimator across ALL searched params:\\n\",Grid_m7.best_estimator_)\n",
    "print('-------------'*9)\n",
    "print(\"\\n The best score across ALL searched params:\\n\",Grid_m7.best_score_)\n",
    "print('-------------'*9)\n",
    "print(\"\\n The best parameters across ALL searched params:\\n\",Grid_m7.best_params_)"
   ]
  },
  {
   "cell_type": "markdown",
   "id": "e39c5952",
   "metadata": {
    "id": "L3q1zqbx-YLj"
   },
   "source": [
    "<div class=\"alert alert-info\" style=\"background-color:#006a79; color:white; padding:0px 10px; border-radius:5px;\"><h2 style='margin:10px 5px'>Building Model 8- Fitting CatBoost Classifier Model with best Hyperparameters generated by Grid Search</h2>\n",
    "</div>"
   ]
  },
  {
   "cell_type": "code",
   "execution_count": 253,
   "id": "f944e993",
   "metadata": {},
   "outputs": [
    {
     "name": "stdout",
     "output_type": "stream",
     "text": [
      "0:\tlearn: 0.6868170\ttotal: 8ms\tremaining: 632ms\n",
      "1:\tlearn: 0.6811853\ttotal: 14.8ms\tremaining: 578ms\n",
      "2:\tlearn: 0.6757214\ttotal: 21ms\tremaining: 539ms\n",
      "3:\tlearn: 0.6706658\ttotal: 27.4ms\tremaining: 520ms\n",
      "4:\tlearn: 0.6661384\ttotal: 32.7ms\tremaining: 491ms\n",
      "5:\tlearn: 0.6618686\ttotal: 38.5ms\tremaining: 474ms\n",
      "6:\tlearn: 0.6577803\ttotal: 43.9ms\tremaining: 458ms\n",
      "7:\tlearn: 0.6540885\ttotal: 49.9ms\tremaining: 449ms\n",
      "8:\tlearn: 0.6505464\ttotal: 55.7ms\tremaining: 439ms\n",
      "9:\tlearn: 0.6472641\ttotal: 61.9ms\tremaining: 433ms\n",
      "10:\tlearn: 0.6443984\ttotal: 68.8ms\tremaining: 432ms\n",
      "11:\tlearn: 0.6415389\ttotal: 74.9ms\tremaining: 424ms\n",
      "12:\tlearn: 0.6388993\ttotal: 82.2ms\tremaining: 424ms\n",
      "13:\tlearn: 0.6364129\ttotal: 88.4ms\tremaining: 417ms\n",
      "14:\tlearn: 0.6340836\ttotal: 95.1ms\tremaining: 412ms\n",
      "15:\tlearn: 0.6321450\ttotal: 102ms\tremaining: 409ms\n",
      "16:\tlearn: 0.6304005\ttotal: 109ms\tremaining: 405ms\n",
      "17:\tlearn: 0.6284643\ttotal: 116ms\tremaining: 399ms\n",
      "18:\tlearn: 0.6266324\ttotal: 123ms\tremaining: 394ms\n",
      "19:\tlearn: 0.6250322\ttotal: 129ms\tremaining: 388ms\n",
      "20:\tlearn: 0.6234121\ttotal: 136ms\tremaining: 382ms\n",
      "21:\tlearn: 0.6218996\ttotal: 143ms\tremaining: 376ms\n",
      "22:\tlearn: 0.6204684\ttotal: 149ms\tremaining: 370ms\n",
      "23:\tlearn: 0.6192116\ttotal: 155ms\tremaining: 362ms\n",
      "24:\tlearn: 0.6180030\ttotal: 162ms\tremaining: 357ms\n",
      "25:\tlearn: 0.6169216\ttotal: 169ms\tremaining: 351ms\n",
      "26:\tlearn: 0.6158562\ttotal: 176ms\tremaining: 345ms\n",
      "27:\tlearn: 0.6149209\ttotal: 182ms\tremaining: 338ms\n",
      "28:\tlearn: 0.6138970\ttotal: 189ms\tremaining: 333ms\n",
      "29:\tlearn: 0.6129200\ttotal: 195ms\tremaining: 325ms\n",
      "30:\tlearn: 0.6120545\ttotal: 201ms\tremaining: 318ms\n",
      "31:\tlearn: 0.6111670\ttotal: 207ms\tremaining: 310ms\n",
      "32:\tlearn: 0.6104514\ttotal: 213ms\tremaining: 303ms\n",
      "33:\tlearn: 0.6096615\ttotal: 218ms\tremaining: 295ms\n",
      "34:\tlearn: 0.6089735\ttotal: 224ms\tremaining: 288ms\n",
      "35:\tlearn: 0.6082526\ttotal: 231ms\tremaining: 282ms\n",
      "36:\tlearn: 0.6075776\ttotal: 239ms\tremaining: 278ms\n",
      "37:\tlearn: 0.6070831\ttotal: 246ms\tremaining: 272ms\n",
      "38:\tlearn: 0.6065174\ttotal: 254ms\tremaining: 267ms\n",
      "39:\tlearn: 0.6059378\ttotal: 261ms\tremaining: 261ms\n",
      "40:\tlearn: 0.6055188\ttotal: 268ms\tremaining: 255ms\n",
      "41:\tlearn: 0.6049902\ttotal: 275ms\tremaining: 249ms\n",
      "42:\tlearn: 0.6044595\ttotal: 282ms\tremaining: 243ms\n",
      "43:\tlearn: 0.6039797\ttotal: 289ms\tremaining: 236ms\n",
      "44:\tlearn: 0.6035874\ttotal: 295ms\tremaining: 230ms\n",
      "45:\tlearn: 0.6031638\ttotal: 302ms\tremaining: 223ms\n",
      "46:\tlearn: 0.6027564\ttotal: 308ms\tremaining: 216ms\n",
      "47:\tlearn: 0.6023722\ttotal: 315ms\tremaining: 210ms\n",
      "48:\tlearn: 0.6021036\ttotal: 321ms\tremaining: 203ms\n",
      "49:\tlearn: 0.6017173\ttotal: 328ms\tremaining: 197ms\n",
      "50:\tlearn: 0.6014488\ttotal: 335ms\tremaining: 190ms\n",
      "51:\tlearn: 0.6011057\ttotal: 341ms\tremaining: 184ms\n",
      "52:\tlearn: 0.6007631\ttotal: 348ms\tremaining: 177ms\n",
      "53:\tlearn: 0.6004710\ttotal: 354ms\tremaining: 171ms\n",
      "54:\tlearn: 0.6001655\ttotal: 361ms\tremaining: 164ms\n",
      "55:\tlearn: 0.5998691\ttotal: 369ms\tremaining: 158ms\n",
      "56:\tlearn: 0.5996036\ttotal: 374ms\tremaining: 151ms\n",
      "57:\tlearn: 0.5993170\ttotal: 380ms\tremaining: 144ms\n",
      "58:\tlearn: 0.5991257\ttotal: 386ms\tremaining: 137ms\n",
      "59:\tlearn: 0.5988744\ttotal: 392ms\tremaining: 131ms\n",
      "60:\tlearn: 0.5986435\ttotal: 397ms\tremaining: 124ms\n",
      "61:\tlearn: 0.5984298\ttotal: 403ms\tremaining: 117ms\n",
      "62:\tlearn: 0.5981663\ttotal: 410ms\tremaining: 111ms\n",
      "63:\tlearn: 0.5979487\ttotal: 420ms\tremaining: 105ms\n",
      "64:\tlearn: 0.5977888\ttotal: 427ms\tremaining: 98.5ms\n",
      "65:\tlearn: 0.5975802\ttotal: 435ms\tremaining: 92.3ms\n",
      "66:\tlearn: 0.5973941\ttotal: 443ms\tremaining: 86ms\n",
      "67:\tlearn: 0.5971896\ttotal: 450ms\tremaining: 79.4ms\n",
      "68:\tlearn: 0.5970568\ttotal: 457ms\tremaining: 72.8ms\n",
      "69:\tlearn: 0.5968701\ttotal: 463ms\tremaining: 66.2ms\n",
      "70:\tlearn: 0.5966903\ttotal: 470ms\tremaining: 59.6ms\n",
      "71:\tlearn: 0.5965239\ttotal: 477ms\tremaining: 53ms\n",
      "72:\tlearn: 0.5964086\ttotal: 484ms\tremaining: 46.4ms\n",
      "73:\tlearn: 0.5962394\ttotal: 491ms\tremaining: 39.8ms\n",
      "74:\tlearn: 0.5961491\ttotal: 497ms\tremaining: 33.1ms\n",
      "75:\tlearn: 0.5959721\ttotal: 504ms\tremaining: 26.5ms\n",
      "76:\tlearn: 0.5958391\ttotal: 510ms\tremaining: 19.9ms\n",
      "77:\tlearn: 0.5956980\ttotal: 517ms\tremaining: 13.3ms\n",
      "78:\tlearn: 0.5955620\ttotal: 524ms\tremaining: 6.63ms\n",
      "79:\tlearn: 0.5954175\ttotal: 530ms\tremaining: 0us\n",
      "Accuracy of CatBoost Classifier on training set: 0.69\n",
      "Accuracy of CatBoost Classifier on test set: 0.69\n",
      "---------------------------------------------------------------------------------------------------------------------\n",
      "Classification Report of the training data:\n",
      "\n",
      "               precision    recall  f1-score   support\n",
      "\n",
      "           0       0.66      0.32      0.43      1818\n",
      "           1       0.70      0.91      0.79      3182\n",
      "\n",
      "    accuracy                           0.69      5000\n",
      "   macro avg       0.68      0.61      0.61      5000\n",
      "weighted avg       0.68      0.69      0.66      5000\n",
      " \n",
      "\n",
      "---------------------------------------------------------------------------------------------------------------------\n",
      "Accuracy of CatBoost Classifier is equal 69.14 %.\n"
     ]
    }
   ],
   "source": [
    "model8 = CatBoostClassifier(depth = 4, iterations = 80, learning_rate = 0.04, random_state=0)\n",
    "model8.fit(X_train,y_train) \n",
    "print('Accuracy of CatBoost Classifier on training set: {:.2f}'\n",
    "     .format(model8.score(X_train, y_train)))\n",
    "\n",
    "print('Accuracy of CatBoost Classifier on test set: {:.2f}'\n",
    "     .format(model8.score(X_test, y_test)))\n",
    "print('-------------'*9)\n",
    "print('Classification Report of the training data:\\n\\n',classification_report(y_test,model8.predict(X_test)),'\\n')\n",
    "print('-------------'*9)\n",
    "y_pred = model8.predict(X_test)\n",
    "accuracy = accuracy_score(y_test, y_pred)*100\n",
    "print('Accuracy of CatBoost Classifier is equal ' + str(round(accuracy, 2)) + ' %.')"
   ]
  },
  {
   "cell_type": "markdown",
   "id": "2e06a21e",
   "metadata": {
    "id": "L3q1zqbx-YLj"
   },
   "source": [
    "<div class=\"alert alert-info\" style=\"background-color:#006a79; color:white; padding:0px 10px; border-radius:5px;\"><h2 style='margin:10px 5px'>Building Model 9- KNeighbors Classifier</h2>\n",
    "</div>"
   ]
  },
  {
   "cell_type": "code",
   "execution_count": 254,
   "id": "8e691ada",
   "metadata": {},
   "outputs": [
    {
     "name": "stdout",
     "output_type": "stream",
     "text": [
      "Accuracy of KNeighbors Classifier on training set: 0.67\n",
      "Accuracy of KNeighbors Classifier on test set: 0.65\n",
      "---------------------------------------------------------------------------------------------------------------------\n",
      "Classification Report of the training data:\n",
      "\n",
      "               precision    recall  f1-score   support\n",
      "\n",
      "           0       0.53      0.38      0.44      1818\n",
      "           1       0.69      0.81      0.75      3182\n",
      "\n",
      "    accuracy                           0.65      5000\n",
      "   macro avg       0.61      0.59      0.59      5000\n",
      "weighted avg       0.63      0.65      0.64      5000\n",
      " \n",
      "\n",
      "---------------------------------------------------------------------------------------------------------------------\n",
      "Accuracy of KNeighbors Classifier is equal 65.12 %.\n"
     ]
    }
   ],
   "source": [
    "model9 = KNeighborsClassifier(n_jobs= -1)\n",
    "model9.fit(X_train,y_train) \n",
    "print('Accuracy of KNeighbors Classifier on training set: {:.2f}'\n",
    "     .format(model9.score(X_train, y_train)))\n",
    "\n",
    "print('Accuracy of KNeighbors Classifier on test set: {:.2f}'\n",
    "     .format(model9.score(X_test, y_test)))\n",
    "print('-------------'*9)\n",
    "print('Classification Report of the training data:\\n\\n',classification_report(y_test,model9.predict(X_test)),'\\n')\n",
    "print('-------------'*9)\n",
    "y_pred = model9.predict(X_test)\n",
    "accuracy = accuracy_score(y_test, y_pred)*100\n",
    "print('Accuracy of KNeighbors Classifier is equal ' + str(round(accuracy, 2)) + ' %.')"
   ]
  },
  {
   "cell_type": "markdown",
   "id": "6724a74a",
   "metadata": {},
   "source": [
    "#### * Hyper Parameter Tuning for KNeighbors Classifier"
   ]
  },
  {
   "cell_type": "code",
   "execution_count": 142,
   "id": "b9564f22",
   "metadata": {},
   "outputs": [
    {
     "name": "stdout",
     "output_type": "stream",
     "text": [
      "---------------------------------------------------------------------------------------------------------------------\n",
      " Results from Grid Search \n",
      "Best Hyper Parameters:\n",
      " {'algorithm': 'brute', 'leaf_size': 1, 'n_jobs': -1, 'n_neighbors': 9, 'weights': 'uniform'}\n",
      "---------------------------------------------------------------------------------------------------------------------\n",
      "\n",
      " The best score across ALL searched params:\n",
      " 0.6640499999999999\n",
      "---------------------------------------------------------------------------------------------------------------------\n",
      "\n",
      " The best parameters across ALL searched params:\n",
      " {'algorithm': 'brute', 'leaf_size': 1, 'n_jobs': -1, 'n_neighbors': 9, 'weights': 'uniform'}\n"
     ]
    }
   ],
   "source": [
    "params = {'n_neighbors':[5,6,7,8,9,10],\n",
    "          'leaf_size':[1,2,3,5],\n",
    "          'weights':['uniform', 'distance'],\n",
    "          'algorithm':['auto', 'ball_tree','kd_tree','brute'],\n",
    "          'n_jobs':[-1]}\n",
    "\n",
    "model = GridSearchCV(model9, param_grid=params, n_jobs=1)\n",
    "model.fit(X_train,y_train)\n",
    "print('-------------'*9)\n",
    "print(\" Results from Grid Search \" )\n",
    "print(\"Best Hyper Parameters:\\n\",model.best_params_)\n",
    "print('-------------'*9)\n",
    "print(\"\\n The best score across ALL searched params:\\n\",model.best_score_)\n",
    "print('-------------'*9)\n",
    "print(\"\\n The best parameters across ALL searched params:\\n\",model.best_params_)"
   ]
  },
  {
   "cell_type": "markdown",
   "id": "c7db07de",
   "metadata": {
    "id": "L3q1zqbx-YLj"
   },
   "source": [
    "<div class=\"alert alert-info\" style=\"background-color:#006a79; color:white; padding:0px 10px; border-radius:5px;\"><h2 style='margin:10px 5px'>Building Model 10- Fitting KNeighbors Classifier Model with best Hyperparameters generated by Grid Search</h2>\n",
    "</div>"
   ]
  },
  {
   "cell_type": "code",
   "execution_count": 255,
   "id": "69ac67a8",
   "metadata": {},
   "outputs": [
    {
     "name": "stdout",
     "output_type": "stream",
     "text": [
      "Accuracy of KNeighbors Classifier on training set: 0.69\n",
      "Accuracy of KNeighbors Classifier on test set: 0.66\n",
      "---------------------------------------------------------------------------------------------------------------------\n",
      "Classification Report of the training data:\n",
      "\n",
      "               precision    recall  f1-score   support\n",
      "\n",
      "           0       0.56      0.37      0.44      1818\n",
      "           1       0.70      0.83      0.76      3182\n",
      "\n",
      "    accuracy                           0.66      5000\n",
      "   macro avg       0.63      0.60      0.60      5000\n",
      "weighted avg       0.65      0.66      0.64      5000\n",
      " \n",
      "\n",
      "---------------------------------------------------------------------------------------------------------------------\n",
      "Accuracy of KNeighbors Classifier is equal 66.42 %.\n"
     ]
    }
   ],
   "source": [
    "model10 = KNeighborsClassifier(algorithm = 'brute', leaf_size = 1\n",
    "                              , n_neighbors = 9, weights = 'uniform',n_jobs= -1)\n",
    "model10.fit(X_train,y_train) \n",
    "print('Accuracy of KNeighbors Classifier on training set: {:.2f}'\n",
    "     .format(model10.score(X_train, y_train)))\n",
    "\n",
    "print('Accuracy of KNeighbors Classifier on test set: {:.2f}'\n",
    "     .format(model10.score(X_test, y_test)))\n",
    "print('-------------'*9)\n",
    "print('Classification Report of the training data:\\n\\n',classification_report(y_test,model10.predict(X_test)),'\\n')\n",
    "print('-------------'*9)\n",
    "y_pred = model10.predict(X_test)\n",
    "accuracy = accuracy_score(y_test, y_pred)*100\n",
    "print('Accuracy of KNeighbors Classifier is equal ' + str(round(accuracy, 2)) + ' %.')"
   ]
  },
  {
   "cell_type": "markdown",
   "id": "000b8c9f",
   "metadata": {
    "id": "L3q1zqbx-YLj"
   },
   "source": [
    "<div class=\"alert alert-info\" style=\"background-color:#006a79; color:white; padding:0px 10px; border-radius:5px;\"><h2 style='margin:10px 5px'>Building Model 11- XGB Classifier</h2>\n",
    "</div>"
   ]
  },
  {
   "cell_type": "code",
   "execution_count": 256,
   "id": "66ab65ae",
   "metadata": {},
   "outputs": [
    {
     "name": "stdout",
     "output_type": "stream",
     "text": [
      "Accuracy of XGB Classifier on training set: 0.70\n",
      "Accuracy of XGB Classifier on test set: 0.69\n",
      "---------------------------------------------------------------------------------------------------------------------\n",
      "Classification Report of the training data:\n",
      "\n",
      "               precision    recall  f1-score   support\n",
      "\n",
      "           0       0.63      0.32      0.42      1818\n",
      "           1       0.70      0.89      0.78      3182\n",
      "\n",
      "    accuracy                           0.69      5000\n",
      "   macro avg       0.66      0.61      0.60      5000\n",
      "weighted avg       0.67      0.69      0.65      5000\n",
      " \n",
      "\n",
      "---------------------------------------------------------------------------------------------------------------------\n",
      "Accuracy of XGB Classifier is equal 68.52 %.\n"
     ]
    }
   ],
   "source": [
    "model11 = XGBClassifier(random_state=0)\n",
    "\n",
    "model11.fit(X_train,y_train) \n",
    "print('Accuracy of XGB Classifier on training set: {:.2f}'\n",
    "     .format(model11.score(X_train, y_train)))\n",
    "\n",
    "print('Accuracy of XGB Classifier on test set: {:.2f}'\n",
    "     .format(model11.score(X_test, y_test)))\n",
    "print('-------------'*9)\n",
    "print('Classification Report of the training data:\\n\\n',classification_report(y_test,model11.predict(X_test)),'\\n')\n",
    "print('-------------'*9)\n",
    "y_pred = model11.predict(X_test)\n",
    "accuracy = accuracy_score(y_test, y_pred)*100\n",
    "print('Accuracy of XGB Classifier is equal ' + str(round(accuracy, 2)) + ' %.')"
   ]
  },
  {
   "cell_type": "markdown",
   "id": "94c3b693",
   "metadata": {},
   "source": [
    "#### * Hyper Parameter Tuning for Hyper Parameter Tuning for XGB Classifier"
   ]
  },
  {
   "cell_type": "code",
   "execution_count": 145,
   "id": "ded1ebc8",
   "metadata": {},
   "outputs": [
    {
     "name": "stdout",
     "output_type": "stream",
     "text": [
      "Fitting 5 folds for each of 25 candidates, totalling 125 fits\n",
      "---------------------------------------------------------------------------------------------------------------------\n",
      "Best Parameters after Random Search:- \n",
      " {'subsample': 0.8999999999999999, 'num_class': 10, 'n_estimators': 500, 'min_child_weight': 5, 'max_depth': 15, 'learning_rate': 0.01, 'gamma': 0.2, 'colsample_bytree': 0.6, 'colsample_bylevel': 0.7}\n",
      "---------------------------------------------------------------------------------------------------------------------\n",
      "Best Score:- \n",
      " 0.69255\n"
     ]
    }
   ],
   "source": [
    "params = {'max_depth': [3, 6, 10, 15],'min_child_weight' : [ 1, 3, 5, 7 ],'gamma': [ 0.0, 0.1, 0.2 , 0.3, 0.4 ],\n",
    "              'learning_rate': [0.01, 0.1, 0.2, 0.3, 0.4],\n",
    "              'subsample': np.arange(0.5, 1.0, 0.1),\n",
    "              'colsample_bytree': np.arange(0.5, 1.0, 0.1),\n",
    "              'colsample_bylevel': np.arange(0.5, 1.0, 0.1),\n",
    "              'n_estimators': [100, 250, 500, 750],\n",
    "              'num_class': [10]\n",
    "              }\n",
    "\n",
    "xgbclf = xgb.XGBClassifier(objective=\"multi:softmax\", tree_method='hist')\n",
    "clf_search = RandomizedSearchCV(estimator=xgbclf,param_distributions=params,scoring='accuracy'\n",
    "                         ,n_iter=25,n_jobs=4,verbose=1)\n",
    "clf_result = clf_search.fit(X_train,y_train)\n",
    "print('-------------'*9)\n",
    "print(\"Best Parameters after Random Search:- \\n\",clf_result.best_params_)\n",
    "print('-------------'*9)\n",
    "print(\"Best Score:- \\n\",clf_result.best_score_)"
   ]
  },
  {
   "cell_type": "markdown",
   "id": "a45bcaba",
   "metadata": {
    "id": "L3q1zqbx-YLj"
   },
   "source": [
    "<div class=\"alert alert-info\" style=\"background-color:#006a79; color:white; padding:0px 10px; border-radius:5px;\"><h2 style='margin:10px 5px'>Building Model 12- Fitting XGB Classifier Model with best Hyperparameters generated by Random Search</h2>\n",
    "</div>"
   ]
  },
  {
   "cell_type": "code",
   "execution_count": 257,
   "id": "b6ec309b",
   "metadata": {},
   "outputs": [
    {
     "name": "stdout",
     "output_type": "stream",
     "text": [
      "Accuracy of XGB Classifier on training set: 0.70\n",
      "Accuracy of XGB Classifier on test set: 0.69\n",
      "---------------------------------------------------------------------------------------------------------------------\n",
      "Classification Report of the training data:\n",
      "\n",
      "               precision    recall  f1-score   support\n",
      "\n",
      "           0       0.65      0.32      0.43      1818\n",
      "           1       0.70      0.90      0.79      3182\n",
      "\n",
      "    accuracy                           0.69      5000\n",
      "   macro avg       0.68      0.61      0.61      5000\n",
      "weighted avg       0.68      0.69      0.66      5000\n",
      " \n",
      "\n",
      "---------------------------------------------------------------------------------------------------------------------\n",
      "Accuracy of XGB Classifier is equal 69.12 %.\n"
     ]
    }
   ],
   "source": [
    "model12 = XGBClassifier(subsample = 0.8999999999999999, n_estimators = 500\n",
    "                        , min_child_weight = 5, max_depth = 15\n",
    "                        , learning_rate = 0.01, gamma = 0.2\n",
    "                        , colsample_bytree = 0.6, colsample_bylevel = 0.7,random_state=0)\n",
    "\n",
    "model12.fit(X_train,y_train) \n",
    "print('Accuracy of XGB Classifier on training set: {:.2f}'\n",
    "     .format(model12.score(X_train, y_train)))\n",
    "\n",
    "print('Accuracy of XGB Classifier on test set: {:.2f}'\n",
    "     .format(model12.score(X_test, y_test)))\n",
    "print('-------------'*9)\n",
    "print('Classification Report of the training data:\\n\\n',classification_report(y_test,model12.predict(X_test)),'\\n')\n",
    "print('-------------'*9)\n",
    "y_pred = model12.predict(X_test)\n",
    "accuracy = accuracy_score(y_test, y_pred)*100\n",
    "print('Accuracy of XGB Classifier is equal ' + str(round(accuracy, 2)) + ' %.')"
   ]
  },
  {
   "cell_type": "markdown",
   "id": "b0dc9378",
   "metadata": {
    "id": "L3q1zqbx-YLj"
   },
   "source": [
    "<div class=\"alert alert-info\" style=\"background-color:#006a79; color:white; padding:0px 10px; border-radius:5px;\"><h2 style='margin:10px 5px'>Building Model 13- Linear Support Vector Classification</h2>\n",
    "</div>"
   ]
  },
  {
   "cell_type": "code",
   "execution_count": 258,
   "id": "d3ea9642",
   "metadata": {},
   "outputs": [
    {
     "name": "stdout",
     "output_type": "stream",
     "text": [
      "Accuracy of Linear SVC on training set: 0.66\n",
      "Accuracy of Linear SVC on test set: 0.67\n",
      "---------------------------------------------------------------------------------------------------------------------\n",
      "Classification Report of the training data:\n",
      "\n",
      "               precision    recall  f1-score   support\n",
      "\n",
      "           0       0.61      0.24      0.35      1818\n",
      "           1       0.68      0.91      0.78      3182\n",
      "\n",
      "    accuracy                           0.67      5000\n",
      "   macro avg       0.64      0.58      0.56      5000\n",
      "weighted avg       0.65      0.67      0.62      5000\n",
      " \n",
      "\n",
      "---------------------------------------------------------------------------------------------------------------------\n",
      "Accuracy of Linear SVC is equal 66.7 %.\n"
     ]
    }
   ],
   "source": [
    "model13 = make_pipeline(StandardScaler(),LinearSVC())\n",
    "\n",
    "model13.fit(X_train,y_train) \n",
    "print('Accuracy of Linear SVC on training set: {:.2f}'\n",
    "     .format(model13.score(X_train, y_train)))\n",
    "\n",
    "print('Accuracy of Linear SVC on test set: {:.2f}'\n",
    "     .format(model13.score(X_test, y_test)))\n",
    "print('-------------'*9)\n",
    "print('Classification Report of the training data:\\n\\n',classification_report(y_test,model13.predict(X_test)),'\\n')\n",
    "print('-------------'*9)\n",
    "y_pred = model13.predict(X_test)\n",
    "accuracy = accuracy_score(y_test, y_pred)*100\n",
    "print('Accuracy of Linear SVC is equal ' + str(round(accuracy, 2)) + ' %.')"
   ]
  },
  {
   "cell_type": "markdown",
   "id": "612e39f6",
   "metadata": {
    "id": "L3q1zqbx-YLj"
   },
   "source": [
    "<div class=\"alert alert-info\" style=\"background-color:#006a79; color:white; padding:0px 10px; border-radius:5px;\"><h2 style='margin:10px 5px'>Building Model 14- Stochastic Gradient Descent Classifier</h2>\n",
    "</div>"
   ]
  },
  {
   "cell_type": "code",
   "execution_count": 259,
   "id": "48856019",
   "metadata": {},
   "outputs": [
    {
     "name": "stdout",
     "output_type": "stream",
     "text": [
      "Accuracy of SGD Classifier on training set: 0.64\n",
      "Accuracy of SGD Classifier on test set: 0.64\n",
      "---------------------------------------------------------------------------------------------------------------------\n",
      "Classification Report of the training data:\n",
      "\n",
      "               precision    recall  f1-score   support\n",
      "\n",
      "           0       0.00      0.00      0.00      1818\n",
      "           1       0.64      1.00      0.78      3182\n",
      "\n",
      "    accuracy                           0.64      5000\n",
      "   macro avg       0.32      0.50      0.39      5000\n",
      "weighted avg       0.41      0.64      0.49      5000\n",
      " \n",
      "\n",
      "---------------------------------------------------------------------------------------------------------------------\n",
      "Accuracy of SGD Classifier is equal 63.64 %.\n"
     ]
    }
   ],
   "source": [
    "model14 = make_pipeline(StandardScaler(),SGDClassifier())\n",
    "\n",
    "model14.fit(X_train,y_train) \n",
    "print('Accuracy of SGD Classifier on training set: {:.2f}'\n",
    "     .format(model14.score(X_train, y_train)))\n",
    "\n",
    "print('Accuracy of SGD Classifier on test set: {:.2f}'\n",
    "     .format(model14.score(X_test, y_test)))\n",
    "print('-------------'*9)\n",
    "print('Classification Report of the training data:\\n\\n',classification_report(y_test,model14.predict(X_test)),'\\n')\n",
    "print('-------------'*9)\n",
    "y_pred = model14.predict(X_test)\n",
    "accuracy = accuracy_score(y_test, y_pred)*100\n",
    "print('Accuracy of SGD Classifier is equal ' + str(round(accuracy, 2)) + ' %.')"
   ]
  },
  {
   "cell_type": "markdown",
   "id": "be6cc106",
   "metadata": {
    "id": "L3q1zqbx-YLj"
   },
   "source": [
    "<div class=\"alert alert-info\" style=\"background-color:#006a79; color:white; padding:0px 10px; border-radius:5px;\"><h2 style='margin:10px 5px'>Building Model 15- Linear Support Vector Classification (Generate Probability Estimates)</h2>\n",
    "</div>"
   ]
  },
  {
   "cell_type": "code",
   "execution_count": 260,
   "id": "cc0df3a8",
   "metadata": {},
   "outputs": [
    {
     "name": "stdout",
     "output_type": "stream",
     "text": [
      "Accuracy of Linear SVC on training set: 0.66\n",
      "Accuracy of Linear SVC on test set: 0.67\n",
      "---------------------------------------------------------------------------------------------------------------------\n",
      "Classification Report of the training data:\n",
      "\n",
      "               precision    recall  f1-score   support\n",
      "\n",
      "           0       0.60      0.26      0.36      1818\n",
      "           1       0.68      0.90      0.78      3182\n",
      "\n",
      "    accuracy                           0.67      5000\n",
      "   macro avg       0.64      0.58      0.57      5000\n",
      "weighted avg       0.65      0.67      0.62      5000\n",
      " \n",
      "\n",
      "---------------------------------------------------------------------------------------------------------------------\n",
      "Accuracy of Linear SVC is equal 66.8 %.\n"
     ]
    }
   ],
   "source": [
    "mm = make_pipeline(StandardScaler(),LinearSVC())\n",
    "model15 = CalibratedClassifierCV(mm)\n",
    "\n",
    "model15.fit(X_train,y_train) \n",
    "print('Accuracy of Linear SVC on training set: {:.2f}'\n",
    "     .format(model15.score(X_train, y_train)))\n",
    "\n",
    "print('Accuracy of Linear SVC on test set: {:.2f}'\n",
    "     .format(model15.score(X_test, y_test)))\n",
    "print('-------------'*9)\n",
    "print('Classification Report of the training data:\\n\\n',classification_report(y_test,model15.predict(X_test)),'\\n')\n",
    "print('-------------'*9)\n",
    "y_pred = model15.predict(X_test)\n",
    "accuracy = accuracy_score(y_test, y_pred)*100\n",
    "print('Accuracy of Linear SVC is equal ' + str(round(accuracy, 2)) + ' %.')"
   ]
  },
  {
   "cell_type": "markdown",
   "id": "b66f55ef",
   "metadata": {
    "id": "L3q1zqbx-YLj"
   },
   "source": [
    "<div class=\"alert alert-info\" style=\"background-color:#006a79; color:white; padding:0px 10px; border-radius:5px;\"><h2 style='margin:10px 5px'>Building Model 16- Stochastic Gradient Descent Classifier (Generate Probability Estimates)</h2>\n",
    "</div>"
   ]
  },
  {
   "cell_type": "code",
   "execution_count": 261,
   "id": "c7429bb3",
   "metadata": {},
   "outputs": [
    {
     "name": "stdout",
     "output_type": "stream",
     "text": [
      "Accuracy of SGD Classifier on training set: 0.66\n",
      "Accuracy of SGD Classifier on test set: 0.67\n",
      "---------------------------------------------------------------------------------------------------------------------\n",
      "Classification Report of the training data:\n",
      "\n",
      "               precision    recall  f1-score   support\n",
      "\n",
      "           0       0.62      0.21      0.32      1818\n",
      "           1       0.67      0.93      0.78      3182\n",
      "\n",
      "    accuracy                           0.67      5000\n",
      "   macro avg       0.65      0.57      0.55      5000\n",
      "weighted avg       0.66      0.67      0.61      5000\n",
      " \n",
      "\n",
      "---------------------------------------------------------------------------------------------------------------------\n",
      "Accuracy of Linear SVC is equal 66.8 %.\n"
     ]
    }
   ],
   "source": [
    "ab = make_pipeline(StandardScaler(),SGDClassifier(loss = 'hinge'))\n",
    "model16 = CalibratedClassifierCV(ab)\n",
    "\n",
    "model16.fit(X_train,y_train) \n",
    "print('Accuracy of SGD Classifier on training set: {:.2f}'\n",
    "     .format(model16.score(X_train, y_train)))\n",
    "\n",
    "print('Accuracy of SGD Classifier on test set: {:.2f}'\n",
    "     .format(model16.score(X_test, y_test)))\n",
    "print('-------------'*9)\n",
    "print('Classification Report of the training data:\\n\\n',classification_report(y_test,model16.predict(X_test)),'\\n')\n",
    "print('-------------'*9)\n",
    "y_pred = model15.predict(X_test)\n",
    "accuracy = accuracy_score(y_test, y_pred)*100\n",
    "print('Accuracy of Linear SVC is equal ' + str(round(accuracy, 2)) + ' %.')"
   ]
  },
  {
   "cell_type": "markdown",
   "id": "512a95be",
   "metadata": {
    "id": "L3q1zqbx-YLj"
   },
   "source": [
    "<div class=\"alert alert-info\" style=\"background-color:#006a79; color:white; padding:0px 10px; border-radius:5px;\"><h2 style='margin:10px 5px'>Building Model 17- AdaBoost Classifier</h2>\n",
    "</div>"
   ]
  },
  {
   "cell_type": "code",
   "execution_count": 262,
   "id": "9831af43",
   "metadata": {},
   "outputs": [
    {
     "name": "stdout",
     "output_type": "stream",
     "text": [
      "Accuracy of AdaBoost Classifier on training set: 0.69\n",
      "Accuracy of AdaBoost Classifier on test set: 0.69\n",
      "---------------------------------------------------------------------------------------------------------------------\n",
      "Classification Report of the training data:\n",
      "\n",
      "               precision    recall  f1-score   support\n",
      "\n",
      "           0       0.62      0.37      0.46      1818\n",
      "           1       0.71      0.87      0.78      3182\n",
      "\n",
      "    accuracy                           0.69      5000\n",
      "   macro avg       0.66      0.62      0.62      5000\n",
      "weighted avg       0.67      0.69      0.66      5000\n",
      " \n",
      "\n",
      "---------------------------------------------------------------------------------------------------------------------\n",
      "Accuracy of AdaBoost Classifier is equal 68.76 %.\n"
     ]
    }
   ],
   "source": [
    "model17 = AdaBoostClassifier(random_state=42)\n",
    "\n",
    "model17.fit(X_train,y_train) \n",
    "print('Accuracy of AdaBoost Classifier on training set: {:.2f}'\n",
    "     .format(model17.score(X_train, y_train)))\n",
    "\n",
    "print('Accuracy of AdaBoost Classifier on test set: {:.2f}'\n",
    "     .format(model17.score(X_test, y_test)))\n",
    "print('-------------'*9)\n",
    "print('Classification Report of the training data:\\n\\n',classification_report(y_test,model17.predict(X_test)),'\\n')\n",
    "print('-------------'*9)\n",
    "y_pred = model17.predict(X_test)\n",
    "accuracy = accuracy_score(y_test, y_pred)*100\n",
    "print('Accuracy of AdaBoost Classifier is equal ' + str(round(accuracy, 2)) + ' %.')"
   ]
  },
  {
   "cell_type": "markdown",
   "id": "7c53dd4d",
   "metadata": {},
   "source": [
    "#### * Hyper Parameter Tuning for Hyper Parameter Tuning for AdaBoost Classifier"
   ]
  },
  {
   "cell_type": "code",
   "execution_count": 156,
   "id": "b19ff0ef",
   "metadata": {},
   "outputs": [
    {
     "name": "stdout",
     "output_type": "stream",
     "text": [
      "---------------------------------------------------------------------------------------------------------------------\n",
      "Best Parameters after Random Search:- \n",
      " AdaBoostClassifier(learning_rate=0.97, n_estimators=10, random_state=42)\n",
      "---------------------------------------------------------------------------------------------------------------------\n",
      "Best Score:- \n",
      " 0.6925\n"
     ]
    }
   ],
   "source": [
    "parameters = {\n",
    "    'n_estimators': [2, 3, 4, 5, 6, 7, 8, 9, 10, 11, 12, 20],\n",
    "    'learning_rate': [(0.97 + x / 100) for x in range(0, 8)],\n",
    "    'algorithm': ['SAMME', 'SAMME.R']\n",
    "}\n",
    "\n",
    "ab_clf = AdaBoostClassifier(random_state=42)\n",
    "clf_search = GridSearchCV(ab_clf, parameters, cv=5, verbose=0, n_jobs=-1)\n",
    "clf_result = clf_search.fit(X_train,y_train)\n",
    "print('-------------'*9)\n",
    "print(\"Best Parameters after Random Search:- \\n\",clf_result.best_estimator_)\n",
    "print('-------------'*9)\n",
    "print(\"Best Score:- \\n\",clf_result.best_score_)"
   ]
  },
  {
   "cell_type": "markdown",
   "id": "e1fb2b4f",
   "metadata": {
    "id": "L3q1zqbx-YLj"
   },
   "source": [
    "<div class=\"alert alert-info\" style=\"background-color:#006a79; color:white; padding:0px 10px; border-radius:5px;\"><h2 style='margin:10px 5px'>Building Model 18- Fitting AdaBoost Classifier Model with best Hyperparameters generated by Grid Search</h2>\n",
    "</div>"
   ]
  },
  {
   "cell_type": "code",
   "execution_count": 263,
   "id": "0c196d07",
   "metadata": {},
   "outputs": [
    {
     "name": "stdout",
     "output_type": "stream",
     "text": [
      "Accuracy of AdaBoost Classifier on training set: 0.69\n",
      "Accuracy of AdaBoost Classifier on test set: 0.69\n",
      "---------------------------------------------------------------------------------------------------------------------\n",
      "Classification Report of the training data:\n",
      "\n",
      "               precision    recall  f1-score   support\n",
      "\n",
      "           0       0.63      0.36      0.46      1818\n",
      "           1       0.71      0.88      0.78      3182\n",
      "\n",
      "    accuracy                           0.69      5000\n",
      "   macro avg       0.67      0.62      0.62      5000\n",
      "weighted avg       0.68      0.69      0.66      5000\n",
      " \n",
      "\n",
      "---------------------------------------------------------------------------------------------------------------------\n",
      "Accuracy of AdaBoost Classifier is equal 69.08 %.\n"
     ]
    }
   ],
   "source": [
    "model18 = AdaBoostClassifier(learning_rate=0.97, n_estimators=10, random_state=42)\n",
    "\n",
    "model18.fit(X_train,y_train) \n",
    "print('Accuracy of AdaBoost Classifier on training set: {:.2f}'\n",
    "     .format(model18.score(X_train, y_train)))\n",
    "\n",
    "print('Accuracy of AdaBoost Classifier on test set: {:.2f}'\n",
    "     .format(model18.score(X_test, y_test)))\n",
    "print('-------------'*9)\n",
    "print('Classification Report of the training data:\\n\\n',classification_report(y_test,model18.predict(X_test)),'\\n')\n",
    "print('-------------'*9)\n",
    "y_pred = model18.predict(X_test)\n",
    "accuracy = accuracy_score(y_test, y_pred)*100\n",
    "print('Accuracy of AdaBoost Classifier is equal ' + str(round(accuracy, 2)) + ' %.')"
   ]
  },
  {
   "cell_type": "markdown",
   "id": "26cba535",
   "metadata": {
    "id": "L3q1zqbx-YLj"
   },
   "source": [
    "<div class=\"alert alert-info\" style=\"background-color:#006a79; color:white; padding:0px 10px; border-radius:5px;\"><h2 style='margin:10px 5px'>Building Model 19- MLP Classifier</h2>\n",
    "</div>"
   ]
  },
  {
   "cell_type": "code",
   "execution_count": 264,
   "id": "234673af",
   "metadata": {},
   "outputs": [
    {
     "name": "stdout",
     "output_type": "stream",
     "text": [
      "Accuracy of MLP Classifier on training set: 0.66\n",
      "Accuracy of MLP Classifier on test set: 0.67\n",
      "---------------------------------------------------------------------------------------------------------------------\n",
      "Classification Report of the training data:\n",
      "\n",
      "               precision    recall  f1-score   support\n",
      "\n",
      "           0       0.58      0.32      0.41      1818\n",
      "           1       0.69      0.86      0.77      3182\n",
      "\n",
      "    accuracy                           0.67      5000\n",
      "   macro avg       0.63      0.59      0.59      5000\n",
      "weighted avg       0.65      0.67      0.64      5000\n",
      " \n",
      "\n",
      "---------------------------------------------------------------------------------------------------------------------\n",
      "Accuracy of MLP Classifier is equal 66.7 %.\n"
     ]
    }
   ],
   "source": [
    "model19 = MLPClassifier(random_state=99, activation='logistic')\n",
    "\n",
    "model19.fit(X_train,y_train) \n",
    "print('Accuracy of MLP Classifier on training set: {:.2f}'\n",
    "     .format(model19.score(X_train, y_train)))\n",
    "\n",
    "print('Accuracy of MLP Classifier on test set: {:.2f}'\n",
    "     .format(model19.score(X_test, y_test)))\n",
    "print('-------------'*9)\n",
    "print('Classification Report of the training data:\\n\\n',classification_report(y_test,model19.predict(X_test)),'\\n')\n",
    "print('-------------'*9)\n",
    "y_pred = model19.predict(X_test)\n",
    "accuracy = accuracy_score(y_test, y_pred)*100\n",
    "print('Accuracy of MLP Classifier is equal ' + str(round(accuracy, 2)) + ' %.')"
   ]
  },
  {
   "cell_type": "markdown",
   "id": "9ec436d4",
   "metadata": {},
   "source": [
    "#### * Hyper Parameter Tuning for Hyper Parameter Tuning for MLP Classifier"
   ]
  },
  {
   "cell_type": "code",
   "execution_count": 167,
   "id": "c8657a37",
   "metadata": {},
   "outputs": [
    {
     "name": "stdout",
     "output_type": "stream",
     "text": [
      "{'activation': 'tanh', 'alpha': 0.05, 'hidden_layer_sizes': (150, 100, 50), 'learning_rate': 'constant', 'max_iter': 100, 'solver': 'adam'}\n"
     ]
    }
   ],
   "source": [
    "mlp_clf = MLPClassifier(random_state=99)\n",
    "param_grid = {\n",
    "    'hidden_layer_sizes': [(150,100,50), (120,80,40), (100,50,30)],\n",
    "    'max_iter': [50, 100, 150],\n",
    "    'activation': ['tanh', 'relu'],\n",
    "    'solver': ['sgd', 'adam'],\n",
    "    'alpha': [0.0001, 0.05],\n",
    "    'learning_rate': ['constant','adaptive'],\n",
    "}\n",
    "\n",
    "grid = GridSearchCV(mlp_clf, param_grid, n_jobs= -1, cv=5)\n",
    "grid.fit(X_train, y_train)\n",
    "\n",
    "print(grid.best_params_) "
   ]
  },
  {
   "cell_type": "markdown",
   "id": "348627c6",
   "metadata": {
    "id": "L3q1zqbx-YLj"
   },
   "source": [
    "<div class=\"alert alert-info\" style=\"background-color:#006a79; color:white; padding:0px 10px; border-radius:5px;\"><h2 style='margin:10px 5px'>Building Model 20- Fitting MLP Classifier Model with best Hyperparameters generated by Grid Search</h2>\n",
    "</div>"
   ]
  },
  {
   "cell_type": "code",
   "execution_count": 265,
   "id": "2109d182",
   "metadata": {},
   "outputs": [
    {
     "name": "stdout",
     "output_type": "stream",
     "text": [
      "Accuracy of MLP Classifier on training set: 0.69\n",
      "Accuracy of MLP Classifier on test set: 0.69\n",
      "---------------------------------------------------------------------------------------------------------------------\n",
      "Classification Report of the training data:\n",
      "\n",
      "               precision    recall  f1-score   support\n",
      "\n",
      "           0       0.69      0.26      0.38      1818\n",
      "           1       0.69      0.93      0.79      3182\n",
      "\n",
      "    accuracy                           0.69      5000\n",
      "   macro avg       0.69      0.60      0.59      5000\n",
      "weighted avg       0.69      0.69      0.64      5000\n",
      " \n",
      "\n",
      "---------------------------------------------------------------------------------------------------------------------\n",
      "Accuracy of MLP Classifier is equal 68.92 %.\n"
     ]
    }
   ],
   "source": [
    "model20 = MLPClassifier(activation = 'tanh', alpha = 0.05, hidden_layer_sizes = (150, 100, 50)\n",
    "                        , learning_rate = 'constant', max_iter = 100, solver = 'adam'\n",
    "                        ,random_state=99)\n",
    "\n",
    "model20.fit(X_train,y_train) \n",
    "print('Accuracy of MLP Classifier on training set: {:.2f}'\n",
    "     .format(model20.score(X_train, y_train)))\n",
    "\n",
    "print('Accuracy of MLP Classifier on test set: {:.2f}'\n",
    "     .format(model20.score(X_test, y_test)))\n",
    "print('-------------'*9)\n",
    "print('Classification Report of the training data:\\n\\n',classification_report(y_test,model20.predict(X_test)),'\\n')\n",
    "print('-------------'*9)\n",
    "y_pred = model20.predict(X_test)\n",
    "accuracy = accuracy_score(y_test, y_pred)*100\n",
    "print('Accuracy of MLP Classifier is equal ' + str(round(accuracy, 2)) + ' %.')"
   ]
  },
  {
   "cell_type": "markdown",
   "id": "ace098ad",
   "metadata": {
    "id": "L3q1zqbx-YLj"
   },
   "source": [
    "<div class=\"alert alert-info\" style=\"background-color:#006a79; color:white; padding:0px 10px; border-radius:5px;\"><h2 style='margin:10px 5px'>Building Model 21- Gradient Boosting Classifier</h2>\n",
    "</div>"
   ]
  },
  {
   "cell_type": "code",
   "execution_count": 266,
   "id": "9f142338",
   "metadata": {},
   "outputs": [
    {
     "name": "stdout",
     "output_type": "stream",
     "text": [
      "Accuracy of Gradient Boosting Classifier on training set: 0.69\n",
      "Accuracy of Gradient BoostingClassifier on test set: 0.69\n",
      "---------------------------------------------------------------------------------------------------------------------\n",
      "Classification Report of the training data:\n",
      "\n",
      "               precision    recall  f1-score   support\n",
      "\n",
      "           0       0.63      0.35      0.45      1818\n",
      "           1       0.70      0.89      0.78      3182\n",
      "\n",
      "    accuracy                           0.69      5000\n",
      "   macro avg       0.67      0.62      0.62      5000\n",
      "weighted avg       0.68      0.69      0.66      5000\n",
      " \n",
      "\n",
      "---------------------------------------------------------------------------------------------------------------------\n",
      "Accuracy of Gradient Boosting Classifier is equal 68.94 %.\n"
     ]
    }
   ],
   "source": [
    "model21 = GradientBoostingClassifier(random_state = 0)\n",
    "\n",
    "model21.fit(X_train,y_train) \n",
    "print('Accuracy of Gradient Boosting Classifier on training set: {:.2f}'\n",
    "     .format(model21.score(X_train, y_train)))\n",
    "\n",
    "print('Accuracy of Gradient BoostingClassifier on test set: {:.2f}'\n",
    "     .format(model21.score(X_test, y_test)))\n",
    "print('-------------'*9)\n",
    "print('Classification Report of the training data:\\n\\n',classification_report(y_test,model21.predict(X_test)),'\\n')\n",
    "print('-------------'*9)\n",
    "y_pred = model21.predict(X_test)\n",
    "accuracy = accuracy_score(y_test, y_pred)*100\n",
    "print('Accuracy of Gradient Boosting Classifier is equal ' + str(round(accuracy, 2)) + ' %.')"
   ]
  },
  {
   "cell_type": "markdown",
   "id": "8e4705bf",
   "metadata": {},
   "source": [
    "#### * Hyper Parameter Tuning for Hyper Parameter Tuning for Gradient Boosting Classifier"
   ]
  },
  {
   "cell_type": "code",
   "execution_count": 173,
   "id": "0765280b",
   "metadata": {},
   "outputs": [
    {
     "name": "stdout",
     "output_type": "stream",
     "text": [
      "Best Parameters: {'learning_rate': 0.1, 'max_depth': 2, 'n_estimators': 100}\n"
     ]
    }
   ],
   "source": [
    "grid = {\n",
    "\n",
    "    'learning_rate':[0.01,0.05,0.1],\n",
    "\n",
    "    'n_estimators':np.arange(100,500,100),\n",
    "    'max_depth':[2,3,4,5,6,7] \n",
    "\n",
    "}\n",
    "\n",
    "gb = GradientBoostingClassifier(random_state = 0)\n",
    "\n",
    "gb_cv = GridSearchCV(gb, grid, cv = 4)\n",
    "\n",
    "gb_cv.fit(X_train,y_train)\n",
    "\n",
    "print(\"Best Parameters:\",gb_cv.best_params_)\n",
    "\n"
   ]
  },
  {
   "cell_type": "code",
   "execution_count": 179,
   "id": "ecc1edc2",
   "metadata": {},
   "outputs": [
    {
     "name": "stdout",
     "output_type": "stream",
     "text": [
      "Best Parameters: {'criterion': 'friedman_mse', 'max_features': 'sqrt', 'n_estimators': 100}\n"
     ]
    }
   ],
   "source": [
    "gb_clf = {\n",
    "    'n_estimators': [50, 100, 150, 200],\n",
    "    'criterion': ['friedman_mse', 'squared_error'],\n",
    "    'max_features': ['auto', 'sqrt', 'log2', None]\n",
    "}\n",
    "\n",
    "gb = GradientBoostingClassifier(random_state = 0)\n",
    "\n",
    "gb_cv = GridSearchCV(gb, gb_clf, cv = 4)\n",
    "\n",
    "gb_cv.fit(X_train,y_train)\n",
    "\n",
    "print(\"Best Parameters:\",gb_cv.best_params_)"
   ]
  },
  {
   "cell_type": "markdown",
   "id": "b605e323",
   "metadata": {
    "id": "L3q1zqbx-YLj"
   },
   "source": [
    "<div class=\"alert alert-info\" style=\"background-color:#006a79; color:white; padding:0px 10px; border-radius:5px;\"><h2 style='margin:10px 5px'>Building Model 22- Fitting Gradient Boosting Classifier Model with best Hyperparameters generated by Grid Search</h2>\n",
    "</div>"
   ]
  },
  {
   "cell_type": "code",
   "execution_count": 267,
   "id": "ae1e94e7",
   "metadata": {},
   "outputs": [
    {
     "name": "stdout",
     "output_type": "stream",
     "text": [
      "Accuracy of Gradient Boosting Classifier on training set: 0.69\n",
      "Accuracy of Gradient BoostingClassifier on test set: 0.69\n",
      "---------------------------------------------------------------------------------------------------------------------\n",
      "Classification Report of the training data:\n",
      "\n",
      "               precision    recall  f1-score   support\n",
      "\n",
      "           0       0.63      0.34      0.45      1818\n",
      "           1       0.70      0.89      0.78      3182\n",
      "\n",
      "    accuracy                           0.69      5000\n",
      "   macro avg       0.67      0.61      0.61      5000\n",
      "weighted avg       0.68      0.69      0.66      5000\n",
      " \n",
      "\n",
      "---------------------------------------------------------------------------------------------------------------------\n",
      "Accuracy of Gradient Boosting Classifier is equal 68.88 %.\n"
     ]
    }
   ],
   "source": [
    "model22 = GradientBoostingClassifier(learning_rate = 0.1, max_depth = 2, n_estimators = 100\n",
    "                                     ,random_state = 0, criterion = 'friedman_mse', max_features = 'sqrt')\n",
    "\n",
    "model22.fit(X_train,y_train) \n",
    "print('Accuracy of Gradient Boosting Classifier on training set: {:.2f}'\n",
    "     .format(model22.score(X_train, y_train)))\n",
    "\n",
    "print('Accuracy of Gradient BoostingClassifier on test set: {:.2f}'\n",
    "     .format(model22.score(X_test, y_test)))\n",
    "print('-------------'*9)\n",
    "print('Classification Report of the training data:\\n\\n',classification_report(y_test,model22.predict(X_test)),'\\n')\n",
    "print('-------------'*9)\n",
    "y_pred = model22.predict(X_test)\n",
    "accuracy = accuracy_score(y_test, y_pred)*100\n",
    "print('Accuracy of Gradient Boosting Classifier is equal ' + str(round(accuracy, 2)) + ' %.')"
   ]
  },
  {
   "cell_type": "markdown",
   "id": "bd4aef4e",
   "metadata": {
    "id": "L3q1zqbx-YLj"
   },
   "source": [
    "<div class=\"alert alert-info\" style=\"background-color:#006a79; color:white; padding:0px 10px; border-radius:5px;\"><h2 style='margin:10px 5px'>Building Model 23- Decision Tree Classifier</h2>\n",
    "</div>"
   ]
  },
  {
   "cell_type": "code",
   "execution_count": 268,
   "id": "f4e1ec43",
   "metadata": {},
   "outputs": [
    {
     "name": "stdout",
     "output_type": "stream",
     "text": [
      "Accuracy of Decision Tree Classifier on training set: 0.71\n",
      "Accuracy of Decision Tree Classifier on test set: 0.68\n",
      "---------------------------------------------------------------------------------------------------------------------\n",
      "Classification Report of the training data:\n",
      "\n",
      "               precision    recall  f1-score   support\n",
      "\n",
      "           0       0.59      0.34      0.44      1818\n",
      "           1       0.70      0.87      0.77      3182\n",
      "\n",
      "    accuracy                           0.68      5000\n",
      "   macro avg       0.65      0.61      0.60      5000\n",
      "weighted avg       0.66      0.68      0.65      5000\n",
      " \n",
      "\n",
      "---------------------------------------------------------------------------------------------------------------------\n",
      "Accuracy of Decision Tree Classifier is equal 67.62 %.\n"
     ]
    }
   ],
   "source": [
    "model23 = DecisionTreeClassifier(criterion='entropy', random_state=0)  \n",
    "\n",
    "model23.fit(X_train,y_train) \n",
    "print('Accuracy of Decision Tree Classifier on training set: {:.2f}'\n",
    "     .format(model23.score(X_train, y_train)))\n",
    "\n",
    "print('Accuracy of Decision Tree Classifier on test set: {:.2f}'\n",
    "     .format(model23.score(X_test, y_test)))\n",
    "print('-------------'*9)\n",
    "print('Classification Report of the training data:\\n\\n',classification_report(y_test,model23.predict(X_test)),'\\n')\n",
    "print('-------------'*9)\n",
    "y_pred = model23.predict(X_test)\n",
    "accuracy = accuracy_score(y_test, y_pred)*100\n",
    "print('Accuracy of Decision Tree Classifier is equal ' + str(round(accuracy, 2)) + ' %.')"
   ]
  },
  {
   "cell_type": "markdown",
   "id": "4e7a675e",
   "metadata": {},
   "source": [
    "#### * Hyper Parameter Tuning for Hyper Parameter Tuning for Decision Tree Classifier"
   ]
  },
  {
   "cell_type": "code",
   "execution_count": 180,
   "id": "230e0361",
   "metadata": {},
   "outputs": [
    {
     "name": "stdout",
     "output_type": "stream",
     "text": [
      "Fitting 4 folds for each of 50 candidates, totalling 200 fits\n"
     ]
    },
    {
     "data": {
      "text/plain": [
       "DecisionTreeClassifier(max_depth=10, min_samples_leaf=100, random_state=42)"
      ]
     },
     "execution_count": 180,
     "metadata": {},
     "output_type": "execute_result"
    }
   ],
   "source": [
    "dt = DecisionTreeClassifier(random_state=42)\n",
    "\n",
    "params = {\n",
    "    'max_depth': [2, 3, 5, 10, 20],\n",
    "    'min_samples_leaf': [5, 10, 20, 50, 100],\n",
    "    'criterion': [\"gini\", \"entropy\"]\n",
    "}\n",
    "\n",
    "grid_search = GridSearchCV(estimator=dt, \n",
    "                           param_grid=params, \n",
    "                           cv=4, n_jobs=-1, verbose=1, scoring = \"accuracy\")\n",
    "\n",
    "grid_search.fit(X_train, y_train)\n",
    "\n",
    "grid_search.best_estimator_"
   ]
  },
  {
   "cell_type": "markdown",
   "id": "7f489eaa",
   "metadata": {
    "id": "L3q1zqbx-YLj"
   },
   "source": [
    "<div class=\"alert alert-info\" style=\"background-color:#006a79; color:white; padding:0px 10px; border-radius:5px;\"><h2 style='margin:10px 5px'>Building Model 24- Fitting Decision Tree Classifier Model with best Hyperparameters generated by Grid Search</h2>\n",
    "</div>"
   ]
  },
  {
   "cell_type": "code",
   "execution_count": 269,
   "id": "3306985e",
   "metadata": {},
   "outputs": [
    {
     "name": "stdout",
     "output_type": "stream",
     "text": [
      "Accuracy of Decision Tree Classifier on training set: 0.70\n",
      "Accuracy of Decision Tree Classifier on test set: 0.69\n",
      "---------------------------------------------------------------------------------------------------------------------\n",
      "Classification Report of the training data:\n",
      "\n",
      "               precision    recall  f1-score   support\n",
      "\n",
      "           0       0.66      0.29      0.40      1818\n",
      "           1       0.69      0.92      0.79      3182\n",
      "\n",
      "    accuracy                           0.69      5000\n",
      "   macro avg       0.68      0.60      0.60      5000\n",
      "weighted avg       0.68      0.69      0.65      5000\n",
      " \n",
      "\n",
      "---------------------------------------------------------------------------------------------------------------------\n",
      "Accuracy of Decision Tree Classifier is equal 68.86 %.\n"
     ]
    }
   ],
   "source": [
    "model24 = DecisionTreeClassifier(criterion='entropy', max_depth=10\n",
    "                                 , min_samples_leaf=100, random_state=42)  \n",
    "\n",
    "model24.fit(X_train,y_train) \n",
    "print('Accuracy of Decision Tree Classifier on training set: {:.2f}'\n",
    "     .format(model24.score(X_train, y_train)))\n",
    "\n",
    "print('Accuracy of Decision Tree Classifier on test set: {:.2f}'\n",
    "     .format(model24.score(X_test, y_test)))\n",
    "print('-------------'*9)\n",
    "print('Classification Report of the training data:\\n\\n',classification_report(y_test,model24.predict(X_test)),'\\n')\n",
    "print('-------------'*9)\n",
    "y_pred = model24.predict(X_test)\n",
    "accuracy = accuracy_score(y_test, y_pred)*100\n",
    "print('Accuracy of Decision Tree Classifier is equal ' + str(round(accuracy, 2)) + ' %.')"
   ]
  },
  {
   "cell_type": "markdown",
   "id": "d8c243c7",
   "metadata": {
    "id": "L3q1zqbx-YLj"
   },
   "source": [
    "<div class=\"alert alert-info\" style=\"background-color:#006a79; color:white; padding:0px 10px; border-radius:5px;\"><h2 style='margin:10px 5px'>Building Model 25- Histogram Gradient Boosting Classifier</h2>\n",
    "</div>"
   ]
  },
  {
   "cell_type": "code",
   "execution_count": 270,
   "id": "d2fe3b5c",
   "metadata": {},
   "outputs": [
    {
     "name": "stdout",
     "output_type": "stream",
     "text": [
      "Accuracy of HistGradient Boosting Classifier on training set: 0.70\n",
      "Accuracy of HistGradient Boosting Classifier on test set: 0.69\n",
      "---------------------------------------------------------------------------------------------------------------------\n",
      "Classification Report of the training data:\n",
      "\n",
      "               precision    recall  f1-score   support\n",
      "\n",
      "           0       0.67      0.31      0.43      1818\n",
      "           1       0.70      0.91      0.79      3182\n",
      "\n",
      "    accuracy                           0.69      5000\n",
      "   macro avg       0.68      0.61      0.61      5000\n",
      "weighted avg       0.69      0.69      0.66      5000\n",
      " \n",
      "\n",
      "---------------------------------------------------------------------------------------------------------------------\n",
      "Accuracy of HistGradient Boosting Classifier is equal 69.36 %.\n"
     ]
    }
   ],
   "source": [
    "model25 = HistGradientBoostingClassifier(random_state=0)  \n",
    "\n",
    "model25.fit(X_train,y_train) \n",
    "print('Accuracy of HistGradient Boosting Classifier on training set: {:.2f}'\n",
    "     .format(model25.score(X_train, y_train)))\n",
    "\n",
    "print('Accuracy of HistGradient Boosting Classifier on test set: {:.2f}'\n",
    "     .format(model25.score(X_test, y_test)))\n",
    "print('-------------'*9)\n",
    "print('Classification Report of the training data:\\n\\n',classification_report(y_test,model25.predict(X_test)),'\\n')\n",
    "print('-------------'*9)\n",
    "y_pred = model25.predict(X_test)\n",
    "accuracy = accuracy_score(y_test, y_pred)*100\n",
    "print('Accuracy of HistGradient Boosting Classifier is equal ' + str(round(accuracy, 2)) + ' %.')"
   ]
  },
  {
   "cell_type": "markdown",
   "id": "43737d74",
   "metadata": {
    "id": "L3q1zqbx-YLj"
   },
   "source": [
    "<div class=\"alert alert-info\" style=\"background-color:#006a79; color:white; padding:0px 10px; border-radius:5px;\"><h2 style='margin:10px 5px'>Predict Target Variable using Tuned Model</h2>\n",
    "</div>"
   ]
  },
  {
   "cell_type": "code",
   "execution_count": 272,
   "id": "3d1b8b31",
   "metadata": {},
   "outputs": [
    {
     "name": "stdout",
     "output_type": "stream",
     "text": [
      "Accuracy of Histogram Gradient Boosting Classifier is equal 69.36 %.\n",
      "---------------------------------------------------------------------------------------------------------------------\n",
      "Confusion Matrix of Histogram Gradient Boosting Classifierr is \n",
      "\n",
      " [[ 567 1251]\n",
      " [ 281 2901]] \n",
      "\n",
      "---------------------------------------------------------------------------------------------------------------------\n"
     ]
    }
   ],
   "source": [
    "# Final Prediction using Histogram Gradient Boosting Classifier Model with best Hyperparameters generated by Grid Search\n",
    "y_pred = model25.predict(X_test)\n",
    "accuracy = accuracy_score(y_test, y_pred)*100\n",
    "print('Accuracy of Histogram Gradient Boosting Classifier is equal ' + str(round(accuracy, 2)) + ' %.')\n",
    "print('-------------'*9)\n",
    "cm = confusion_matrix(y_test, y_pred)\n",
    "print('Confusion Matrix of Histogram Gradient Boosting Classifierr is \\n\\n', cm,'\\n')\n",
    "print('-------------'*9)"
   ]
  },
  {
   "cell_type": "markdown",
   "id": "afdecc94",
   "metadata": {
    "id": "L3q1zqbx-YLj"
   },
   "source": [
    "<div class=\"alert alert-info\" style=\"background-color:#006a79; color:white; padding:0px 10px; border-radius:5px;\"><h2 style='margin:10px 5px'>Summary</h2>\n",
    "</div>"
   ]
  },
  {
   "cell_type": "markdown",
   "id": "003d8b78",
   "metadata": {},
   "source": [
    "Best Score: 69.36 %"
   ]
  },
  {
   "cell_type": "markdown",
   "id": "b0242d8a",
   "metadata": {},
   "source": [
    "Best Model: Histogram Gradient Boosting Classifier"
   ]
  }
 ],
 "metadata": {
  "kernelspec": {
   "display_name": "Python 3 (ipykernel)",
   "language": "python",
   "name": "python3"
  },
  "language_info": {
   "codemirror_mode": {
    "name": "ipython",
    "version": 3
   },
   "file_extension": ".py",
   "mimetype": "text/x-python",
   "name": "python",
   "nbconvert_exporter": "python",
   "pygments_lexer": "ipython3",
   "version": "3.9.12"
  }
 },
 "nbformat": 4,
 "nbformat_minor": 5
}
